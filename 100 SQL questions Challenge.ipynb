{
 "cells": [
  {
   "cell_type": "markdown",
   "id": "0300ca7b",
   "metadata": {},
   "source": [
    "# 100 SQL questions Challenge from beginner to expert"
   ]
  },
  {
   "cell_type": "code",
   "execution_count": 2,
   "id": "1da4f4ab",
   "metadata": {},
   "outputs": [],
   "source": [
    "import sqlite3\n",
    "import pandas as pd\n",
    "from faker import Faker\n",
    "\n",
    "\n",
    "pd.set_option('display.max_rows', None)\n",
    "pd.set_option('display.max_columns', None)\n",
    "pd.set_option('display.width', None)\n",
    "pd.set_option('display.max_colwidth', None)"
   ]
  },
  {
   "cell_type": "markdown",
   "id": "caa94e1a",
   "metadata": {},
   "source": [
    "### Create Database Function with Faker"
   ]
  },
  {
   "cell_type": "code",
   "execution_count": 3,
   "id": "3b89a7da",
   "metadata": {},
   "outputs": [],
   "source": [
    "def create_database():\n",
    "    fake = Faker()\n",
    "    conn = sqlite3.connect(':memory:')\n",
    "    cursor = conn.cursor()\n",
    "\n",
    "\n",
    "    cursor.execute('''\n",
    "        CREATE TABLE departments (\n",
    "            department_id INTEGER PRIMARY KEY,\n",
    "            department_name TEXT NOT NULL\n",
    "        )\n",
    "    ''')\n",
    "    departments = [(fake.job(),) for _ in range(10)]\n",
    "    cursor.executemany('INSERT INTO departments (department_name) VALUES (?)', departments)\n",
    "\n",
    "    cursor.execute('''\n",
    "        CREATE TABLE employees (\n",
    "            employee_id INTEGER PRIMARY KEY,\n",
    "            name TEXT NOT NULL,\n",
    "            salary REAL NOT NULL,\n",
    "            department_id INTEGER,\n",
    "            FOREIGN KEY (department_id) REFERENCES departments(department_id)\n",
    "        )\n",
    "    ''')\n",
    "    employees = [(fake.name(), fake.random_number(digits=5, fix_len=True), fake.random_int(min=1, max=10)) for _ in range(100)]\n",
    "    cursor.executemany('INSERT INTO employees (name, salary, department_id) VALUES (?, ?, ?)', employees)\n",
    "\n",
    "    cursor.execute('''\n",
    "        CREATE TABLE projects (\n",
    "            project_id INTEGER PRIMARY KEY,\n",
    "            project_name TEXT NOT NULL,\n",
    "            budget REAL NOT NULL\n",
    "        )\n",
    "    ''')\n",
    "    projects = [(fake.catch_phrase(), fake.random_number(digits=5, fix_len=True)) for _ in range(10)]\n",
    "    cursor.executemany('INSERT INTO projects (project_name, budget) VALUES (?, ?)', projects)\n",
    "\n",
    "\n",
    "    cursor.execute('''\n",
    "        CREATE TABLE employee_projects (\n",
    "            employee_id INTEGER,\n",
    "            project_id INTEGER,\n",
    "            FOREIGN KEY (employee_id) REFERENCES employees(employee_id),\n",
    "            FOREIGN KEY (project_id) REFERENCES projects(project_id)\n",
    "        )\n",
    "    ''')\n",
    "    employee_projects = [(fake.random_int(min=1, max=100), fake.random_int(min=1, max=10)) for _ in range(100)]\n",
    "    cursor.executemany('INSERT INTO employee_projects (employee_id, project_id) VALUES (?, ?)', employee_projects)\n",
    "\n",
    "\n",
    "    cursor.execute('''\n",
    "        CREATE TABLE clients (\n",
    "            client_id INTEGER PRIMARY KEY,\n",
    "            client_name TEXT NOT NULL,\n",
    "            industry TEXT NOT NULL\n",
    "        )\n",
    "    ''')\n",
    "    clients = [(fake.company(), fake.catch_phrase()) for _ in range(10)] \n",
    "    cursor.executemany('INSERT INTO clients (client_name, industry) VALUES (?, ?)', clients)\n",
    "\n",
    "  \n",
    "    cursor.execute('''\n",
    "        CREATE TABLE sales (\n",
    "            sale_id INTEGER PRIMARY KEY,\n",
    "            amount REAL NOT NULL,\n",
    "            employee_id INTEGER,\n",
    "            client_id INTEGER,\n",
    "            FOREIGN KEY (employee_id) REFERENCES employees(employee_id),\n",
    "            FOREIGN KEY (client_id) REFERENCES clients(client_id)\n",
    "        )\n",
    "    ''')\n",
    "    sales = [(fake.random_number(digits=5, fix_len=True), fake.random_int(min=1, max=100), fake.random_int(min=1, max=10)) for _ in range(30)]\n",
    "    cursor.executemany('INSERT INTO sales (amount, employee_id, client_id) VALUES (?, ?, ?)', sales)\n",
    "\n",
    "   \n",
    "    cursor.execute('''\n",
    "        CREATE TABLE orders (\n",
    "            order_id INTEGER PRIMARY KEY,\n",
    "            order_date TEXT NOT NULL,\n",
    "            client_id INTEGER,\n",
    "            employee_id INTEGER,\n",
    "            amount REAL NOT NULL,\n",
    "            FOREIGN KEY (client_id) REFERENCES clients(client_id),\n",
    "            FOREIGN KEY (employee_id) REFERENCES employees(employee_id)\n",
    "        )\n",
    "    ''')\n",
    "    orders = [(fake.date(), fake.random_int(min=1, max=10), fake.random_int(min=1, max=100), fake.random_number(digits=5, fix_len=True)) for _ in range(200)]\n",
    "    cursor.executemany('INSERT INTO orders (order_date, client_id, employee_id, amount) VALUES (?, ?, ?, ?)', orders)\n",
    "\n",
    "    conn.commit()\n",
    "    return conn, cursor"
   ]
  },
  {
   "cell_type": "code",
   "execution_count": 4,
   "id": "d744a190",
   "metadata": {},
   "outputs": [],
   "source": [
    "def execute_query(conn, cursor, query):\n",
    "    try:\n",
    "        cursor.execute(query)\n",
    "        results = cursor.fetchall()\n",
    "        columns = [desc[0] for desc in cursor.description]\n",
    "        df = pd.DataFrame(results, columns=columns)\n",
    "        return df\n",
    "    except sqlite3.Error as e:\n",
    "        return f\"Error: {e}\""
   ]
  },
  {
   "cell_type": "markdown",
   "id": "fe2b71be",
   "metadata": {},
   "source": [
    "#### Question 1: Write a SQL query to find the highest salary among all employees. Display the name and salary of the employee(s) with the highest salary."
   ]
  },
  {
   "cell_type": "code",
   "execution_count": 6,
   "id": "5f342fdf",
   "metadata": {},
   "outputs": [
    {
     "name": "stdout",
     "output_type": "stream",
     "text": [
      "Enter your SQL query (or type \"exit\" to quit): select name , salary from employees where salary = (select max(salary) from employees)\n",
      "          name   salary\n",
      "0  Bill Harris  99902.0\n",
      "Enter your SQL query (or type \"exit\" to quit): exit\n"
     ]
    }
   ],
   "source": [
    "def main():\n",
    "    conn, cursor = create_database()\n",
    "\n",
    " \n",
    "    with open('queries.txt', 'a') as file:\n",
    "        while True:\n",
    "            query = input('Enter your SQL query (or type \"exit\" to quit): ')\n",
    "            if query.lower() == 'exit':\n",
    "                break\n",
    "\n",
    "\n",
    "            file.write(query + '\\n')\n",
    "\n",
    "            result = execute_query(conn, cursor, query)\n",
    "            print(result)\n",
    "\n",
    "  \n",
    "    conn.close()\n",
    "\n",
    "if __name__ == \"__main__\":\n",
    "    main()"
   ]
  },
  {
   "cell_type": "markdown",
   "id": "e670ac8b",
   "metadata": {},
   "source": [
    "#### correct answer: select name  , salary from employees where salary = (select max(salary) from employees)"
   ]
  },
  {
   "cell_type": "markdown",
   "id": "319c75b4",
   "metadata": {},
   "source": [
    "#### Question 2: Write a SQL query to find all employees who work in the \"Land\" or \"Retail banker\" departments. Include the employee name, salary, and department name in the result. "
   ]
  },
  {
   "cell_type": "code",
   "execution_count": 7,
   "id": "a1aae029",
   "metadata": {},
   "outputs": [
    {
     "name": "stdout",
     "output_type": "stream",
     "text": [
      "Enter your SQL query (or type \"exit\" to quit): select name , salary, department_name from employees e, departments d where e.department_id = d.department_id and d.department_name in ( 'Retail banker' , 'Land')\n",
      "Empty DataFrame\n",
      "Columns: [name, salary, department_name]\n",
      "Index: []\n",
      "Enter your SQL query (or type \"exit\" to quit): exit\n"
     ]
    }
   ],
   "source": [
    "def main():\n",
    "    conn, cursor = create_database()\n",
    "\n",
    " \n",
    "    with open('queries.txt', 'a') as file:\n",
    "        while True:\n",
    "            query = input('Enter your SQL query (or type \"exit\" to quit): ')\n",
    "            if query.lower() == 'exit':\n",
    "                break\n",
    "\n",
    "\n",
    "            file.write(query + '\\n')\n",
    "\n",
    "            result = execute_query(conn, cursor, query)\n",
    "            print(result)\n",
    "\n",
    "  \n",
    "    conn.close()\n",
    "\n",
    "if __name__ == \"__main__\":\n",
    "    main()"
   ]
  },
  {
   "cell_type": "markdown",
   "id": "31d1dfc4",
   "metadata": {},
   "source": [
    "##### correct answer: select name  , salary, department_name from employees e, departments d where  e.department_id = d.department_id and d.department_name in (     'Retail banker'  , 'Land') "
   ]
  },
  {
   "cell_type": "markdown",
   "id": "51dc7b17",
   "metadata": {},
   "source": [
    "#### Write a SQL query to list all projects, ordered by their budget in descending order. Include the project name and budget in the result."
   ]
  },
  {
   "cell_type": "code",
   "execution_count": 8,
   "id": "65789045",
   "metadata": {},
   "outputs": [
    {
     "name": "stdout",
     "output_type": "stream",
     "text": [
      "Enter your SQL query (or type \"exit\" to quit): select project_name, budget from projects order by budget desc\n",
      "                              project_name   budget\n",
      "0       Fundamental client-driven leverage  99179.0\n",
      "1               Up-sized leadingedge array  94875.0\n",
      "2              Down-sized coherent adapter  77145.0\n",
      "3    Re-engineered needs-based open system  68616.0\n",
      "4  Public-key object-oriented installation  53325.0\n",
      "5  Multi-layered full-range implementation  42377.0\n",
      "6                Programmable 24/7 support  29414.0\n",
      "7        Secured asynchronous productivity  15671.0\n",
      "8    Intuitive heuristic Graphic Interface  14623.0\n",
      "9       Front-line human-resource encoding  12311.0\n",
      "Enter your SQL query (or type \"exit\" to quit): exit\n"
     ]
    }
   ],
   "source": [
    "def main():\n",
    "    conn, cursor = create_database()\n",
    "\n",
    " \n",
    "    with open('queries.txt', 'a') as file:\n",
    "        while True:\n",
    "            query = input('Enter your SQL query (or type \"exit\" to quit): ')\n",
    "            if query.lower() == 'exit':\n",
    "                break\n",
    "\n",
    "\n",
    "            file.write(query + '\\n')\n",
    "\n",
    "            result = execute_query(conn, cursor, query)\n",
    "            print(result)\n",
    "\n",
    "  \n",
    "    conn.close()\n",
    "\n",
    "if __name__ == \"__main__\":\n",
    "    main()"
   ]
  },
  {
   "cell_type": "markdown",
   "id": "dcd4e0fb",
   "metadata": {},
   "source": [
    "##### correct answer: select project_name, budget from projects order by budget desc"
   ]
  },
  {
   "cell_type": "markdown",
   "id": "2fee0db1",
   "metadata": {},
   "source": [
    "#### Question 4: Write a SQL query to find employees who are working on more than one project. Include the employee name and the number of projects they are working on. "
   ]
  },
  {
   "cell_type": "code",
   "execution_count": 9,
   "id": "be00ed3c",
   "metadata": {},
   "outputs": [
    {
     "name": "stdout",
     "output_type": "stream",
     "text": [
      "Enter your SQL query (or type \"exit\" to quit): select e.name, COUNT(p.project_id) AS project_count FROM employees e INNER JOIN employee_projects p ON p.employee_id = e.employee_id GROUP BY e.name HAVING COUNT(p.project_id) >= 2;\n",
      "                name  project_count\n",
      "0         Aaron Bond              2\n",
      "1      Anthony Welch              2\n",
      "2          April Lam              2\n",
      "3    Benjamin Knight              2\n",
      "4    Brian Henderson              2\n",
      "5       Cassandra Wu              2\n",
      "6   Christian Arnold              2\n",
      "7        Dawn Taylor              4\n",
      "8        Debra Black              2\n",
      "9        Eric Harris              2\n",
      "10     Jamie Stewart              2\n",
      "11       Janet Smith              2\n",
      "12        Jorge King              2\n",
      "13    Keith Davidson              2\n",
      "14        Lisa Lewis              2\n",
      "15       Mark Gibson              2\n",
      "16       Megan Moore              4\n",
      "17      Nathan Perry              4\n",
      "18    Nicholas Black              2\n",
      "19      Nina Andrews              2\n",
      "20      Pamela Hurst              3\n",
      "21    Patrick Hardin              2\n",
      "22       Renee Smith              2\n",
      "23     Robert Pruitt              2\n",
      "24  Ronald Rasmussen              3\n",
      "25  Theresa Sullivan              2\n",
      "26        Tyler Ward              3\n",
      "Enter your SQL query (or type \"exit\" to quit): exit\n"
     ]
    }
   ],
   "source": [
    "def main():\n",
    "    conn, cursor = create_database()\n",
    "\n",
    " \n",
    "    with open('queries.txt', 'a') as file:\n",
    "        while True:\n",
    "            query = input('Enter your SQL query (or type \"exit\" to quit): ')\n",
    "            if query.lower() == 'exit':\n",
    "                break\n",
    "\n",
    "\n",
    "            file.write(query + '\\n')\n",
    "\n",
    "            result = execute_query(conn, cursor, query)\n",
    "            print(result)\n",
    "\n",
    "  \n",
    "    conn.close()\n",
    "\n",
    "if __name__ == \"__main__\":\n",
    "    main()"
   ]
  },
  {
   "cell_type": "markdown",
   "id": "19acbaaa",
   "metadata": {},
   "source": [
    "##### correct answer: select e.name, COUNT(p.project_id) AS project_count FROM employees e INNER JOIN employee_projects p ON p.employee_id = e.employee_id GROUP BY e.name HAVING COUNT(p.project_id) >= 2;"
   ]
  },
  {
   "cell_type": "markdown",
   "id": "78f0edbd",
   "metadata": {},
   "source": [
    "#### Question 5: Write a SQL query to calculate the total sales amount for each client. Include the client name and the total sales amount in the result."
   ]
  },
  {
   "cell_type": "code",
   "execution_count": 10,
   "id": "887a95dc",
   "metadata": {},
   "outputs": [
    {
     "name": "stdout",
     "output_type": "stream",
     "text": [
      "Enter your SQL query (or type \"exit\" to quit): select c.client_name, sum(s.amount) from clients c inner join sales s on (c.client_id = s.client_id) group by c.client_name\n",
      "                       client_name  sum(s.amount)\n",
      "0                     Anderson Ltd       236010.0\n",
      "1                   Bridges-Murray        70857.0\n",
      "2           Holmes, Cox and Kelley       238218.0\n",
      "3              Lewis, Hall and Cox       241571.0\n",
      "4          Phelps, Smith and Owens        82343.0\n",
      "5  Roberts, Sanchez and Richardson       366782.0\n",
      "6    Sanchez, Robbins and Williams       101059.0\n",
      "7       Wiggins, Dean and Thornton        95318.0\n",
      "8          Young, Adams and Spence       142126.0\n",
      "Enter your SQL query (or type \"exit\" to quit): exit\n"
     ]
    }
   ],
   "source": [
    "def main():\n",
    "    conn, cursor = create_database()\n",
    "\n",
    " \n",
    "    with open('queries.txt', 'a') as file:\n",
    "        while True:\n",
    "            query = input('Enter your SQL query (or type \"exit\" to quit): ')\n",
    "            if query.lower() == 'exit':\n",
    "                break\n",
    "\n",
    "\n",
    "            file.write(query + '\\n')\n",
    "\n",
    "            result = execute_query(conn, cursor, query)\n",
    "            print(result)\n",
    "\n",
    "  \n",
    "    conn.close()\n",
    "\n",
    "if __name__ == \"__main__\":\n",
    "    main()"
   ]
  },
  {
   "cell_type": "markdown",
   "id": "59203db1",
   "metadata": {},
   "source": [
    "#### correct answer: select c.client_name, sum(s.amount)  from clients c inner join sales s on (c.client_id = s.client_id) group by c.client_name"
   ]
  },
  {
   "cell_type": "markdown",
   "id": "62d519ee",
   "metadata": {},
   "source": [
    "#### Question 6: Write a SQL query to find the employee who has made the highest number of sales. Include the employee's name and the number of sales they have made."
   ]
  },
  {
   "cell_type": "code",
   "execution_count": 11,
   "id": "2753b106",
   "metadata": {},
   "outputs": [
    {
     "name": "stdout",
     "output_type": "stream",
     "text": [
      "Enter your SQL query (or type \"exit\" to quit): select e.name, count(s.sale_id) as nbr from employees e inner join sales s on (e.employee_id = s.employee_id ) group by e.name having count(s.sale_id) = (select max(total) from (select count(s.sale_id) as total from employees e inner join sales s on (e.employee_id = s.employee_id ) group by e.name))\n",
      "            name  nbr\n",
      "0  Nicholas Vang    3\n",
      "Enter your SQL query (or type \"exit\" to quit): exit\n"
     ]
    }
   ],
   "source": [
    "def main():\n",
    "    conn, cursor = create_database()\n",
    "\n",
    " \n",
    "    with open('queries.txt', 'a') as file:\n",
    "        while True:\n",
    "            query = input('Enter your SQL query (or type \"exit\" to quit): ')\n",
    "            if query.lower() == 'exit':\n",
    "                break\n",
    "\n",
    "\n",
    "            file.write(query + '\\n')\n",
    "\n",
    "            result = execute_query(conn, cursor, query)\n",
    "            print(result)\n",
    "\n",
    "  \n",
    "    conn.close()\n",
    "\n",
    "if __name__ == \"__main__\":\n",
    "    main()"
   ]
  },
  {
   "cell_type": "markdown",
   "id": "7dab4834",
   "metadata": {},
   "source": [
    "#### answer: select e.name, count(s.sale_id) as nbr from employees e inner join sales s on (e.employee_id   = s.employee_id  ) group by  e.name  having count(s.sale_id) = (select max(total) from (select  count(s.sale_id) as total from employees e  inner join sales s on (e.employee_id   = s.employee_id  ) group by  e.name))"
   ]
  },
  {
   "cell_type": "markdown",
   "id": "59c42166",
   "metadata": {},
   "source": [
    "#### Question 7: Write a SQL query to find the total budget for projects managed by employees in the \"Arboriculturist\" department. Include the department name and total budget in the result."
   ]
  },
  {
   "cell_type": "code",
   "execution_count": 18,
   "id": "981b7ead",
   "metadata": {},
   "outputs": [
    {
     "name": "stdout",
     "output_type": "stream",
     "text": [
      "Enter your SQL query (or type \"exit\" to quit): select d.department_name, sum(ps.budget) from employees e inner join departments d on (e.department_id = d.department_id ) inner join employee_projects p on ( p.employee_id = e.employee_id ) inner join projects ps on (ps.project_id=p.project_id) where d.department_name ='Arboriculturist'\n",
      "  department_name sum(ps.budget)\n",
      "0            None           None\n",
      "Enter your SQL query (or type \"exit\" to quit): exit\n"
     ]
    }
   ],
   "source": [
    "def main():\n",
    "    conn, cursor = create_database()\n",
    "\n",
    " \n",
    "    with open('queries.txt', 'a') as file:\n",
    "        while True:\n",
    "            query = input('Enter your SQL query (or type \"exit\" to quit): ')\n",
    "            if query.lower() == 'exit':\n",
    "                break\n",
    "\n",
    "\n",
    "            file.write(query + '\\n')\n",
    "\n",
    "            result = execute_query(conn, cursor, query)\n",
    "            print(result)\n",
    "\n",
    "  \n",
    "    conn.close()\n",
    "\n",
    "if __name__ == \"__main__\":\n",
    "    main()"
   ]
  },
  {
   "cell_type": "markdown",
   "id": "bce3bd2f",
   "metadata": {},
   "source": [
    "##### answer: select d.department_name, sum(ps.budget) from employees e inner join departments d on (e.department_id = d.department_id ) inner join  employee_projects p on ( p.employee_id = e.employee_id ) inner join projects ps on (ps.project_id=p.project_id) where d.department_name ='Arboriculturist'"
   ]
  },
  {
   "cell_type": "markdown",
   "id": "2911b5e5",
   "metadata": {},
   "source": [
    "#### question 8: Write a SQL query to find the client who has placed the largest number of orders. Include the client's name and the number of orders they have placed."
   ]
  },
  {
   "cell_type": "code",
   "execution_count": 12,
   "id": "4a0dfa4a",
   "metadata": {},
   "outputs": [
    {
     "name": "stdout",
     "output_type": "stream",
     "text": [
      "Enter your SQL query (or type \"exit\" to quit): select c.client_name, count(o.order_id) nb from clients c inner join orders o on (c.client_id = o.client_id) group by c.client_name having count(o.order_id) = (select max(nbr) from (select count(o.order_id) nbr from clients c inner join orders o on (c.client_id = o.client_id) group by c.client_name))\n",
      "              client_name  nb\n",
      "0  Mathis, Long and Smith  25\n",
      "Enter your SQL query (or type \"exit\" to quit): exit\n"
     ]
    }
   ],
   "source": [
    "def main():\n",
    "    conn, cursor = create_database()\n",
    "\n",
    " \n",
    "    with open('queries.txt', 'a') as file:\n",
    "        while True:\n",
    "            query = input('Enter your SQL query (or type \"exit\" to quit): ')\n",
    "            if query.lower() == 'exit':\n",
    "                break\n",
    "\n",
    "\n",
    "            file.write(query + '\\n')\n",
    "\n",
    "            result = execute_query(conn, cursor, query)\n",
    "            print(result)\n",
    "\n",
    "  \n",
    "    conn.close()\n",
    "\n",
    "if __name__ == \"__main__\":\n",
    "    main()"
   ]
  },
  {
   "cell_type": "markdown",
   "id": "ce3b6b8f",
   "metadata": {},
   "source": [
    "##### answer: select  c.client_name, count(o.order_id) nb  from clients c inner join orders o on (c.client_id = o.client_id)  group by    c.client_name having count(o.order_id) = (select max(nbr) from (select  count(o.order_id) nbr  from clients c inner join orders o on (c.client_id = o.client_id)   group by    c.client_name))"
   ]
  },
  {
   "cell_type": "markdown",
   "id": "7033ea23",
   "metadata": {},
   "source": [
    "#### Question 9: Write a SQL query to find the total number of employees, the total salary expenditure, and the average salary for each department. Include the department name, total employees, total salary, and average salary in the result."
   ]
  },
  {
   "cell_type": "code",
   "execution_count": 13,
   "id": "5f96fb8c",
   "metadata": {},
   "outputs": [
    {
     "name": "stdout",
     "output_type": "stream",
     "text": [
      "Enter your SQL query (or type \"exit\" to quit): select d.department_name, sum(e.employee_id), SUM(e.salary), avg(e.salary) from employees e inner join departments d on (e.department_id = d.department_id) group by d.department_name\n",
      "                      department_name  sum(e.employee_id)  SUM(e.salary)  \\\n",
      "0                    Ambulance person                 482       615113.0   \n",
      "1      Armed forces technical officer                 907       867607.0   \n",
      "2              Audiological scientist                 617       675217.0   \n",
      "3                 Chemist, analytical                 403       371162.0   \n",
      "4              Conservator, furniture                 247       111650.0   \n",
      "5                                Copy                 339       309704.0   \n",
      "6                     Engineer, water                 640       664846.0   \n",
      "7  Government social research officer                 483       473477.0   \n",
      "8            Horticultural consultant                 662       634170.0   \n",
      "9                      Pharmacologist                 270       434687.0   \n",
      "\n",
      "   avg(e.salary)  \n",
      "0   68345.888889  \n",
      "1   51035.705882  \n",
      "2   51939.769231  \n",
      "3   46395.250000  \n",
      "4   27912.500000  \n",
      "5   51617.333333  \n",
      "6   55403.833333  \n",
      "7   52608.555556  \n",
      "8   48782.307692  \n",
      "9   48298.555556  \n",
      "Enter your SQL query (or type \"exit\" to quit): exit\n"
     ]
    }
   ],
   "source": [
    "def main():\n",
    "    conn, cursor = create_database()\n",
    "\n",
    " \n",
    "    with open('queries.txt', 'a') as file:\n",
    "        while True:\n",
    "            query = input('Enter your SQL query (or type \"exit\" to quit): ')\n",
    "            if query.lower() == 'exit':\n",
    "                break\n",
    "\n",
    "\n",
    "            file.write(query + '\\n')\n",
    "\n",
    "            result = execute_query(conn, cursor, query)\n",
    "            print(result)\n",
    "\n",
    "  \n",
    "    conn.close()\n",
    "\n",
    "if __name__ == \"__main__\":\n",
    "    main()"
   ]
  },
  {
   "cell_type": "markdown",
   "id": "58b635e1",
   "metadata": {},
   "source": [
    "##### answer: select d.department_name, sum(e.employee_id), SUM(e.salary), avg(e.salary) from employees e inner join departments d on (e.department_id = d.department_id) group by d.department_name"
   ]
  },
  {
   "cell_type": "markdown",
   "id": "0ae6c24a",
   "metadata": {},
   "source": [
    "#### Question 10: Write a SQL query to find the top 5 highest-paid employees in the company. Include the employee's name, salary, and department name in the result."
   ]
  },
  {
   "cell_type": "code",
   "execution_count": 21,
   "id": "b2aadf61",
   "metadata": {},
   "outputs": [
    {
     "name": "stdout",
     "output_type": "stream",
     "text": [
      "Enter your SQL query (or type \"exit\" to quit): select e.name, e.salary ,  d.department_name from employees e inner join departments d  on (e.department_id = d.department_id)  order by e.salary desc limit 5\n",
      "                name   salary                  department_name\n",
      "0  Crystal Hernandez  99989.0             Optician, dispensing\n",
      "1       Jeremy Moore  98921.0             Optician, dispensing\n",
      "2     Kyle Fernandez  98850.0                Food technologist\n",
      "3   Nancy Mccullough  98384.0               Secretary, company\n",
      "4          Ann Greer  95743.0  Engineer, manufacturing systems\n",
      "Enter your SQL query (or type \"exit\" to quit): exit\n"
     ]
    }
   ],
   "source": [
    "def main():\n",
    "    conn, cursor = create_database()\n",
    "\n",
    " \n",
    "    with open('queries.txt', 'a') as file:\n",
    "        while True:\n",
    "            query = input('Enter your SQL query (or type \"exit\" to quit): ')\n",
    "            if query.lower() == 'exit':\n",
    "                break\n",
    "\n",
    "\n",
    "            file.write(query + '\\n')\n",
    "\n",
    "            result = execute_query(conn, cursor, query)\n",
    "            print(result)\n",
    "\n",
    "  \n",
    "    conn.close()\n",
    "\n",
    "if __name__ == \"__main__\":\n",
    "    main()"
   ]
  },
  {
   "cell_type": "markdown",
   "id": "4a8a17c1",
   "metadata": {},
   "source": [
    "#### select e.name, e.salary ,  d.department_name from employees e inner join departments d  on (e.department_id = d.department_id)  order by e.salary desc limit 5"
   ]
  },
  {
   "cell_type": "markdown",
   "id": "26025db9",
   "metadata": {},
   "source": [
    "#### Question 11: Write a SQL query to find the total number of projects and the total budget for projects managed by each employee. Include the employee's name, total number of projects, and total budget in the result."
   ]
  },
  {
   "cell_type": "code",
   "execution_count": 22,
   "id": "e85f5b30",
   "metadata": {},
   "outputs": [
    {
     "name": "stdout",
     "output_type": "stream",
     "text": [
      "Enter your SQL query (or type \"exit\" to quit): select e.name , count(ep.project_id),  sum(p.budget) from employees e inner join   employee_projects ep on (e.employee_id= ep.employee_id) inner join projects p on (p.project_id= ep.project_id) group by e.name\n",
      "                     name  count(ep.project_id)  sum(p.budget)\n",
      "0           Aaron Brennan                     1        65521.0\n",
      "1           Andrew Adkins                     1        65521.0\n",
      "2             Anna Harris                     1        25418.0\n",
      "3           Ashley Bailey                     2        95303.0\n",
      "4            Ashley Moore                     1        25418.0\n",
      "5               Audrey Wu                     1        63659.0\n",
      "6         Benjamin Miller                     3       160871.0\n",
      "7               Bill King                     2        92882.0\n",
      "8           Bonnie Warner                     3       195836.0\n",
      "9        Brandon Robinson                     3       120721.0\n",
      "10          Brandy Jordan                     1        67464.0\n",
      "11            Brett Chung                     1        25418.0\n",
      "12            Brian Brown                     1        29782.0\n",
      "13             Brian Paul                     2        53151.0\n",
      "14          Carrie Gamble                     1        67464.0\n",
      "15   Christopher Campbell                     1        23369.0\n",
      "16     Christopher Porter                     1        25617.0\n",
      "17      Christopher Smith                     1        20217.0\n",
      "18      Christopher Yoder                     1        63659.0\n",
      "19         Claudia Larson                     1        63659.0\n",
      "20           Claudia Shaw                     1        20217.0\n",
      "21        Courtney Landry                     1        25617.0\n",
      "22   Courtney Robinson MD                     2        43586.0\n",
      "23       Courtney Sanchez                     1        31691.0\n",
      "24        Danielle Rivera                     2        90939.0\n",
      "25           David Chavez                     4       259461.0\n",
      "26         David Mitchell                     1        29782.0\n",
      "27           Diane Thomas                     1        25617.0\n",
      "28   Dr. Connie Dawson MD                     1        25418.0\n",
      "29  Dr. Stephanie Ramirez                     1        65521.0\n",
      "30         Hannah Bonilla                     2        43586.0\n",
      "31            Harold King                     2        48986.0\n",
      "32            Jason Brown                     2        87681.0\n",
      "33            Jean Wagner                     1        31691.0\n",
      "34         Jeanette Jones                     1        23369.0\n",
      "35      Jeffrey Donaldson                     1        25617.0\n",
      "36       Jessica Erickson                     1        63659.0\n",
      "37         Jonathon Mason                     1        25617.0\n",
      "38             Jose Jones                     2        91138.0\n",
      "39            Karen Clark                     2       128372.0\n",
      "40           Kristen Cobb                     1        98590.0\n",
      "41             Kyle Kelly                     2        57109.0\n",
      "42            Kyle Parker                     1        67464.0\n",
      "43         Larry Sullivan                     1        65521.0\n",
      "44         Marissa Campos                     1        31691.0\n",
      "45           Martin Owens                     1        25617.0\n",
      "46         Matthew Wright                     1        31691.0\n",
      "47          Melissa Adams                     2       127318.0\n",
      "48           Michael Hale                     2        55200.0\n",
      "49          Miranda Lopez                     1        31691.0\n",
      "50            Molly Brock                     2        87681.0\n",
      "51     Mr. Michael Ashley                     2       166054.0\n",
      "52             Nancy Hays                     1        29782.0\n",
      "53        Nathaniel Myers                     1        65521.0\n",
      "54          Nicole Conrad                     1        63659.0\n",
      "55             Oscar Ruiz                     1        25418.0\n",
      "56            Peter Moore                     1        31691.0\n",
      "57         Philip Fischer                     1        31691.0\n",
      "58           Rhonda Evans                     1        23369.0\n",
      "59         Robert Ferrell                     2        89077.0\n",
      "60         Ronald Johnson                     3        72156.0\n",
      "61       Stephanie Warner                     3       187866.0\n",
      "62            Tamara Ball                     1        67464.0\n",
      "63         Timothy Warren                     2        63382.0\n",
      "64        Tony Livingston                     2        53151.0\n",
      "65     Vanessa Mclaughlin                     2        49999.0\n",
      "66      Veronica Thompson                     1        65521.0\n",
      "67        William Sanchez                     1        31691.0\n",
      "Enter your SQL query (or type \"exit\" to quit): exit\n"
     ]
    }
   ],
   "source": [
    "def main():\n",
    "    conn, cursor = create_database()\n",
    "\n",
    " \n",
    "    with open('queries.txt', 'a') as file:\n",
    "        while True:\n",
    "            query = input('Enter your SQL query (or type \"exit\" to quit): ')\n",
    "            if query.lower() == 'exit':\n",
    "                break\n",
    "\n",
    "\n",
    "            file.write(query + '\\n')\n",
    "\n",
    "            result = execute_query(conn, cursor, query)\n",
    "            print(result)\n",
    "\n",
    "  \n",
    "    conn.close()\n",
    "\n",
    "if __name__ == \"__main__\":\n",
    "    main()"
   ]
  },
  {
   "cell_type": "markdown",
   "id": "11545f0a",
   "metadata": {},
   "source": [
    "##### answer: select e.name , count(ep.project_id),  sum(p.budget) from employees e inner join   employee_projects ep on (e.employee_id= ep.employee_id) inner join projects p on (p.project_id= ep.project_id) group by e.name"
   ]
  },
  {
   "cell_type": "markdown",
   "id": "f3442542",
   "metadata": {},
   "source": [
    "#### question 12: Write a SQL query to find all clients who have not placed any orders. Include the client's name and industry in the result."
   ]
  },
  {
   "cell_type": "code",
   "execution_count": 25,
   "id": "2d17c20d",
   "metadata": {},
   "outputs": [
    {
     "name": "stdout",
     "output_type": "stream",
     "text": [
      "Enter your SQL query (or type \"exit\" to quit): select c.client_name, c.industry from clients c left join orders o on ( c.client_id = o.client_id) where o.client_id is null\n",
      "Empty DataFrame\n",
      "Columns: [client_name, industry]\n",
      "Index: []\n",
      "Enter your SQL query (or type \"exit\" to quit): exit\n"
     ]
    }
   ],
   "source": [
    "def main():\n",
    "    conn, cursor = create_database()\n",
    "\n",
    " \n",
    "    with open('queries.txt', 'a') as file:\n",
    "        while True:\n",
    "            query = input('Enter your SQL query (or type \"exit\" to quit): ')\n",
    "            if query.lower() == 'exit':\n",
    "                break\n",
    "\n",
    "\n",
    "            file.write(query + '\\n')\n",
    "\n",
    "            result = execute_query(conn, cursor, query)\n",
    "            print(result)\n",
    "\n",
    "  \n",
    "    conn.close()\n",
    "\n",
    "if __name__ == \"__main__\":\n",
    "    main()"
   ]
  },
  {
   "cell_type": "markdown",
   "id": "5e1bc33f",
   "metadata": {},
   "source": [
    "##### answer: select c.client_name, c.industry from clients c left join orders o on ( c.client_id = o.client_id) where o.client_id is null"
   ]
  },
  {
   "cell_type": "markdown",
   "id": "47a6764c",
   "metadata": {},
   "source": [
    "#### question 13: Write a SQL query to find the employee who has worked on the project with the highest budget. Include the employee's name, project name, and budget in the result."
   ]
  },
  {
   "cell_type": "code",
   "execution_count": 27,
   "id": "64038c45",
   "metadata": {},
   "outputs": [
    {
     "name": "stdout",
     "output_type": "stream",
     "text": [
      "Enter your SQL query (or type \"exit\" to quit): select e.name , p.project_name, budget from ( select project_name, budget, project_id from projects order by budget desc limit 1    ) p  inner join employee_projects ep on (p.project_id= ep.project_id) inner join  employees e on (e.employee_id= ep.employee_id)    group by e.name\n",
      "          name                    project_name   budget\n",
      "0    Ian Olson  Persevering executive extranet  94075.0\n",
      "1   Kari Perez  Persevering executive extranet  94075.0\n",
      "2   Levi Doyle  Persevering executive extranet  94075.0\n",
      "3  Megan Brown  Persevering executive extranet  94075.0\n",
      "Enter your SQL query (or type \"exit\" to quit): exit\n"
     ]
    }
   ],
   "source": [
    "def main():\n",
    "    conn, cursor = create_database()\n",
    "\n",
    " \n",
    "    with open('queries.txt', 'a') as file:\n",
    "        while True:\n",
    "            query = input('Enter your SQL query (or type \"exit\" to quit): ')\n",
    "            if query.lower() == 'exit':\n",
    "                break\n",
    "\n",
    "\n",
    "            file.write(query + '\\n')\n",
    "\n",
    "            result = execute_query(conn, cursor, query)\n",
    "            print(result)\n",
    "\n",
    "  \n",
    "    conn.close()\n",
    "\n",
    "if __name__ == \"__main__\":\n",
    "    main()"
   ]
  },
  {
   "cell_type": "markdown",
   "id": "231b1868",
   "metadata": {},
   "source": [
    "##### answer: select e.name , p.project_name, budget from ( select project_name, budget, project_id from projects order by budget desc limit 1    ) p  inner join employee_projects ep on (p.project_id= ep.project_id) inner join  employees e on (e.employee_id= ep.employee_id)  group by e.name"
   ]
  },
  {
   "cell_type": "markdown",
   "id": "a112f148",
   "metadata": {},
   "source": [
    "#### question 14: Write a SQL query to find the department with the highest average salary. Include the department name and the average salary in the result."
   ]
  },
  {
   "cell_type": "code",
   "execution_count": 14,
   "id": "e73e6787",
   "metadata": {},
   "outputs": [
    {
     "name": "stdout",
     "output_type": "stream",
     "text": [
      "Enter your SQL query (or type \"exit\" to quit): select d.department_name, avg(e.salary) from departments d inner join employees e on (d.department_id= e.department_id) group by d.department_name having avg (e.salary) = (select max(sal) from (select d.department_name, avg(e.salary) as sal from departments d inner join employees e on (d.department_id= e.department_id) group by d.department_name))\n",
      "  department_name  avg(e.salary)\n",
      "0    Cartographer        72528.6\n",
      "Enter your SQL query (or type \"exit\" to quit): exit\n"
     ]
    }
   ],
   "source": [
    "def main():\n",
    "    conn, cursor = create_database()\n",
    "\n",
    " \n",
    "    with open('queries.txt', 'a') as file:\n",
    "        while True:\n",
    "            query = input('Enter your SQL query (or type \"exit\" to quit): ')\n",
    "            if query.lower() == 'exit':\n",
    "                break\n",
    "\n",
    "\n",
    "            file.write(query + '\\n')\n",
    "\n",
    "            result = execute_query(conn, cursor, query)\n",
    "            print(result)\n",
    "\n",
    "  \n",
    "    conn.close()\n",
    "\n",
    "if __name__ == \"__main__\":\n",
    "    main()"
   ]
  },
  {
   "cell_type": "markdown",
   "id": "d631a575",
   "metadata": {},
   "source": [
    "##### answer: select d.department_name, avg(e.salary) from departments d inner join employees e on (d.department_id= e.department_id)   group by d.department_name  having avg (e.salary) = (select max(sal) from (select d.department_name, avg(e.salary) as sal from departments d inner join employees e on (d.department_id= e.department_id) group by d.department_name))"
   ]
  },
  {
   "cell_type": "markdown",
   "id": "87da6835",
   "metadata": {},
   "source": [
    "#### question 15: Write a SQL query to find the employee who has the most distinct clients. Include the employee's name and the number of distinct clients they have worked with."
   ]
  },
  {
   "cell_type": "code",
   "execution_count": 15,
   "id": "7a518571",
   "metadata": {},
   "outputs": [
    {
     "name": "stdout",
     "output_type": "stream",
     "text": [
      "Enter your SQL query (or type \"exit\" to quit): select e.name, count( distinct c.client_id) from employees e inner join sales c on (e.employee_id= c.employee_id) group by e.name having count( distinct c.client_id) = (select max (clt) from ( select e.name, count( distinct c.client_id) as clt from employees e inner join sales c on (e.employee_id= c.employee_id) group by e.name ))\n",
      "              name  count( distinct c.client_id)\n",
      "0    Diana Stewart                             2\n",
      "1       Kyle Lewis                             2\n",
      "2    Lucas Coleman                             2\n",
      "3  Nicholas Clarke                             2\n",
      "Enter your SQL query (or type \"exit\" to quit): exit\n"
     ]
    }
   ],
   "source": [
    "def main():\n",
    "    conn, cursor = create_database()\n",
    "\n",
    " \n",
    "    with open('queries.txt', 'a') as file:\n",
    "        while True:\n",
    "            query = input('Enter your SQL query (or type \"exit\" to quit): ')\n",
    "            if query.lower() == 'exit':\n",
    "                break\n",
    "\n",
    "\n",
    "            file.write(query + '\\n')\n",
    "\n",
    "            result = execute_query(conn, cursor, query)\n",
    "            print(result)\n",
    "\n",
    "  \n",
    "    conn.close()\n",
    "\n",
    "if __name__ == \"__main__\":\n",
    "    main()"
   ]
  },
  {
   "cell_type": "markdown",
   "id": "689506f8",
   "metadata": {},
   "source": [
    "##### answer: select e.name, count( distinct c.client_id) from employees e inner join sales c on (e.employee_id= c.employee_id)  group by e.name  having count( distinct c.client_id)  = (select max (clt) from (   select e.name, count( distinct c.client_id) as clt from employees e  inner join sales c on (e.employee_id= c.employee_id) group by e.name   ))"
   ]
  },
  {
   "cell_type": "markdown",
   "id": "f074586d",
   "metadata": {},
   "source": [
    "#### question 16:Write a SQL query to assign a rank to each employee within their department based on their salary. The rank should start from 1 for the highest salary in each department. Include the department name, employee name, salary, and the rank in the result."
   ]
  },
  {
   "cell_type": "code",
   "execution_count": 16,
   "id": "03f1323e",
   "metadata": {},
   "outputs": [
    {
     "name": "stdout",
     "output_type": "stream",
     "text": [
      "Enter your SQL query (or type \"exit\" to quit): select d.department_name, e.name, e.salary, ROW_NUMBER() over(PARTITION by d.department_name order by e.salary desc ) as ranking FROM departments d INNER JOIN employees e ON d.department_id = e.department_id GROUP BY d.department_name, e.name order by d.department_name, ranking\n",
      "                        department_name                  name   salary  \\\n",
      "0                    Charity fundraiser         Ryan Peterson  98474.0   \n",
      "1                    Charity fundraiser       Christine Burns  91070.0   \n",
      "2                    Charity fundraiser      Jessica Williams  89793.0   \n",
      "3                    Charity fundraiser        Matthew Martin  85167.0   \n",
      "4                    Charity fundraiser     Jasmin Harrington  83233.0   \n",
      "5                    Charity fundraiser        Daniel Ellison  74138.0   \n",
      "6                    Charity fundraiser        Jennifer Davis  35170.0   \n",
      "7                    Charity fundraiser        Caitlin Flores  33708.0   \n",
      "8                    Charity fundraiser       Patrick Simmons  33302.0   \n",
      "9                    Charity fundraiser     Dr. Cheryl Peters  22197.0   \n",
      "10                   Charity fundraiser      Russell Callahan  14729.0   \n",
      "11                               Dealer       Barbara Elliott  94484.0   \n",
      "12                               Dealer         Victoria Long  84405.0   \n",
      "13                               Dealer          Lawrence Kim  80186.0   \n",
      "14                               Dealer         Laura Simmons  75988.0   \n",
      "15                               Dealer             Jesse Cox  75586.0   \n",
      "16                               Dealer           John Waters  49105.0   \n",
      "17                               Dealer      Theresa Sullivan  40209.0   \n",
      "18                               Dealer  Stephanie Montgomery  35104.0   \n",
      "19                               Dealer        Anthony Chavez  33624.0   \n",
      "20                               Dealer        Stephanie Mata  27646.0   \n",
      "21                               Dealer          Jill Kennedy  25940.0   \n",
      "22                               Dealer     Robert Hutchinson  14859.0   \n",
      "23  Exhibitions officer, museum/gallery          Brandy Clark  83010.0   \n",
      "24  Exhibitions officer, museum/gallery             Bryan Cox  80881.0   \n",
      "25  Exhibitions officer, museum/gallery        Tonya Phillips  80803.0   \n",
      "26  Exhibitions officer, museum/gallery             Gary Gray  70572.0   \n",
      "27  Exhibitions officer, museum/gallery       Christian Henry  65826.0   \n",
      "28  Exhibitions officer, museum/gallery       Nicholas Porter  30839.0   \n",
      "29                    Freight forwarder        Richard Flores  89055.0   \n",
      "30                    Freight forwarder     Kimberly Richards  67138.0   \n",
      "31                    Freight forwarder             Amy Brown  31848.0   \n",
      "32                    Freight forwarder            Susan Bray  26071.0   \n",
      "33                    Freight forwarder        Megan Martinez  13492.0   \n",
      "34               Health service manager         Maria Jackson  94219.0   \n",
      "35               Health service manager        Natalie Harris  81568.0   \n",
      "36               Health service manager         Laura Hampton  77412.0   \n",
      "37               Health service manager        Michael Guerra  59152.0   \n",
      "38               Health service manager  Alexander Everett MD  50826.0   \n",
      "39               Health service manager         Karen English  48846.0   \n",
      "40               Health service manager   Thomas Martinez DVM  39777.0   \n",
      "41               Health service manager          Ralph Harmon  33610.0   \n",
      "42               Health service manager        Brian Fletcher  29621.0   \n",
      "43               Health service manager          Hannah Olsen  25756.0   \n",
      "44               Health service manager          Leslie Klein  17933.0   \n",
      "45               Health service manager      Kimberly Pittman  14819.0   \n",
      "46            Higher education lecturer       Alicia Bautista  98979.0   \n",
      "47            Higher education lecturer          Daniel Watts  97424.0   \n",
      "48            Higher education lecturer      Crystal Townsend  75050.0   \n",
      "49            Higher education lecturer           Tommy Pratt  68797.0   \n",
      "50            Higher education lecturer       Daniel Calderon  50797.0   \n",
      "51            Higher education lecturer       Sabrina Marquez  34280.0   \n",
      "52            Higher education lecturer         Robert Hebert  32360.0   \n",
      "53            Higher education lecturer        Michael Meyers  30294.0   \n",
      "54            Higher education lecturer      Michael Hamilton  26221.0   \n",
      "55            Higher education lecturer      Theresa Thompson  12518.0   \n",
      "56         IT technical support officer        David Peterson  93585.0   \n",
      "57         IT technical support officer         Jordan Thomas  86979.0   \n",
      "58         IT technical support officer          Tammy Taylor  85910.0   \n",
      "59         IT technical support officer            Jade Hurst  85290.0   \n",
      "60         IT technical support officer         Deanna Rivera  70353.0   \n",
      "61         IT technical support officer         Donna Sanchez  62734.0   \n",
      "62         IT technical support officer          Seth Holland  62548.0   \n",
      "63         IT technical support officer      Phillip Thornton  60073.0   \n",
      "64         IT technical support officer      Christopher Tate  55607.0   \n",
      "65         IT technical support officer         Clifford Kane  48609.0   \n",
      "66         IT technical support officer   Mr. Jeremy Harrison  42499.0   \n",
      "67         IT technical support officer       Cameron Robbins  26106.0   \n",
      "68         IT technical support officer           Adam Bailey  24949.0   \n",
      "69         IT technical support officer           Renee Carey  22509.0   \n",
      "70         IT technical support officer       Angel Christian  13023.0   \n",
      "71         IT technical support officer        Tara Underwood  11575.0   \n",
      "72                      Producer, radio            Jose Myers  73524.0   \n",
      "73                      Producer, radio      Johnathan Garcia  71275.0   \n",
      "74                      Producer, radio         Julie Stanley  70351.0   \n",
      "75                      Producer, radio     Michael Singleton  41350.0   \n",
      "76                      Producer, radio             John Cook  39541.0   \n",
      "77                      Producer, radio      Diana Nelson DDS  32940.0   \n",
      "78                      Producer, radio       Nicolas English  23347.0   \n",
      "79                      Producer, radio      Elizabeth Morris  17852.0   \n",
      "80                         Sports coach           Traci Glass  97394.0   \n",
      "81                         Sports coach     Elizabeth Miranda  93480.0   \n",
      "82                         Sports coach        Kristin Bryant  88056.0   \n",
      "83                         Sports coach         Rebecca Welch  73598.0   \n",
      "84                         Sports coach     Thomas Strickland  54547.0   \n",
      "85                         Sports coach     Christine Johnson  48883.0   \n",
      "86                         Sports coach          Mark Johnson  48509.0   \n",
      "87                         Sports coach          Amy Franklin  42152.0   \n",
      "88                         Sports coach             Erin Page  35305.0   \n",
      "89                         Sports coach          Wesley Ramos  29306.0   \n",
      "90                         Sports coach             Julie Fox  18344.0   \n",
      "91                         Sports coach           Sarah Watts  10636.0   \n",
      "92                        Stage manager            Jay Thomas  93184.0   \n",
      "93                        Stage manager      Timothy Hamilton  92402.0   \n",
      "94                        Stage manager         Julia Dickson  77322.0   \n",
      "95                        Stage manager     Christian Jenkins  60867.0   \n",
      "96                        Stage manager     Kristine Williams  58034.0   \n",
      "97                        Stage manager           Wanda Smith  45761.0   \n",
      "98                        Stage manager          Janet Carter  32368.0   \n",
      "99                        Stage manager         Anthony Lewis  19524.0   \n",
      "\n",
      "    ranking  \n",
      "0         1  \n",
      "1         2  \n",
      "2         3  \n",
      "3         4  \n",
      "4         5  \n",
      "5         6  \n",
      "6         7  \n",
      "7         8  \n",
      "8         9  \n",
      "9        10  \n",
      "10       11  \n",
      "11        1  \n",
      "12        2  \n",
      "13        3  \n",
      "14        4  \n",
      "15        5  \n",
      "16        6  \n",
      "17        7  \n",
      "18        8  \n",
      "19        9  \n",
      "20       10  \n",
      "21       11  \n",
      "22       12  \n",
      "23        1  \n",
      "24        2  \n",
      "25        3  \n",
      "26        4  \n",
      "27        5  \n",
      "28        6  \n",
      "29        1  \n",
      "30        2  \n",
      "31        3  \n",
      "32        4  \n",
      "33        5  \n",
      "34        1  \n",
      "35        2  \n",
      "36        3  \n",
      "37        4  \n",
      "38        5  \n",
      "39        6  \n",
      "40        7  \n",
      "41        8  \n",
      "42        9  \n",
      "43       10  \n",
      "44       11  \n",
      "45       12  \n",
      "46        1  \n",
      "47        2  \n",
      "48        3  \n",
      "49        4  \n",
      "50        5  \n",
      "51        6  \n",
      "52        7  \n",
      "53        8  \n",
      "54        9  \n",
      "55       10  \n",
      "56        1  \n",
      "57        2  \n",
      "58        3  \n",
      "59        4  \n",
      "60        5  \n",
      "61        6  \n",
      "62        7  \n",
      "63        8  \n",
      "64        9  \n",
      "65       10  \n",
      "66       11  \n",
      "67       12  \n",
      "68       13  \n",
      "69       14  \n",
      "70       15  \n",
      "71       16  \n",
      "72        1  \n",
      "73        2  \n",
      "74        3  \n",
      "75        4  \n",
      "76        5  \n",
      "77        6  \n",
      "78        7  \n",
      "79        8  \n",
      "80        1  \n",
      "81        2  \n",
      "82        3  \n",
      "83        4  \n",
      "84        5  \n",
      "85        6  \n",
      "86        7  \n",
      "87        8  \n",
      "88        9  \n",
      "89       10  \n",
      "90       11  \n",
      "91       12  \n",
      "92        1  \n",
      "93        2  \n",
      "94        3  \n",
      "95        4  \n",
      "96        5  \n",
      "97        6  \n",
      "98        7  \n",
      "99        8  \n"
     ]
    },
    {
     "ename": "KeyboardInterrupt",
     "evalue": "Interrupted by user",
     "output_type": "error",
     "traceback": [
      "\u001b[1;31m---------------------------------------------------------------------------\u001b[0m",
      "\u001b[1;31mKeyboardInterrupt\u001b[0m                         Traceback (most recent call last)",
      "\u001b[1;32m~\\AppData\\Local\\Temp\\ipykernel_11816\\2543480874.py\u001b[0m in \u001b[0;36m<module>\u001b[1;34m\u001b[0m\n\u001b[0;32m     19\u001b[0m \u001b[1;33m\u001b[0m\u001b[0m\n\u001b[0;32m     20\u001b[0m \u001b[1;32mif\u001b[0m \u001b[0m__name__\u001b[0m \u001b[1;33m==\u001b[0m \u001b[1;34m\"__main__\"\u001b[0m\u001b[1;33m:\u001b[0m\u001b[1;33m\u001b[0m\u001b[1;33m\u001b[0m\u001b[0m\n\u001b[1;32m---> 21\u001b[1;33m     \u001b[0mmain\u001b[0m\u001b[1;33m(\u001b[0m\u001b[1;33m)\u001b[0m\u001b[1;33m\u001b[0m\u001b[1;33m\u001b[0m\u001b[0m\n\u001b[0m",
      "\u001b[1;32m~\\AppData\\Local\\Temp\\ipykernel_11816\\2543480874.py\u001b[0m in \u001b[0;36mmain\u001b[1;34m()\u001b[0m\n\u001b[0;32m      5\u001b[0m     \u001b[1;32mwith\u001b[0m \u001b[0mopen\u001b[0m\u001b[1;33m(\u001b[0m\u001b[1;34m'queries.txt'\u001b[0m\u001b[1;33m,\u001b[0m \u001b[1;34m'a'\u001b[0m\u001b[1;33m)\u001b[0m \u001b[1;32mas\u001b[0m \u001b[0mfile\u001b[0m\u001b[1;33m:\u001b[0m\u001b[1;33m\u001b[0m\u001b[1;33m\u001b[0m\u001b[0m\n\u001b[0;32m      6\u001b[0m         \u001b[1;32mwhile\u001b[0m \u001b[1;32mTrue\u001b[0m\u001b[1;33m:\u001b[0m\u001b[1;33m\u001b[0m\u001b[1;33m\u001b[0m\u001b[0m\n\u001b[1;32m----> 7\u001b[1;33m             \u001b[0mquery\u001b[0m \u001b[1;33m=\u001b[0m \u001b[0minput\u001b[0m\u001b[1;33m(\u001b[0m\u001b[1;34m'Enter your SQL query (or type \"exit\" to quit): '\u001b[0m\u001b[1;33m)\u001b[0m\u001b[1;33m\u001b[0m\u001b[1;33m\u001b[0m\u001b[0m\n\u001b[0m\u001b[0;32m      8\u001b[0m             \u001b[1;32mif\u001b[0m \u001b[0mquery\u001b[0m\u001b[1;33m.\u001b[0m\u001b[0mlower\u001b[0m\u001b[1;33m(\u001b[0m\u001b[1;33m)\u001b[0m \u001b[1;33m==\u001b[0m \u001b[1;34m'exit'\u001b[0m\u001b[1;33m:\u001b[0m\u001b[1;33m\u001b[0m\u001b[1;33m\u001b[0m\u001b[0m\n\u001b[0;32m      9\u001b[0m                 \u001b[1;32mbreak\u001b[0m\u001b[1;33m\u001b[0m\u001b[1;33m\u001b[0m\u001b[0m\n",
      "\u001b[1;32mC:\\ProgramData\\Anaconda3\\lib\\site-packages\\ipykernel\\kernelbase.py\u001b[0m in \u001b[0;36mraw_input\u001b[1;34m(self, prompt)\u001b[0m\n\u001b[0;32m   1175\u001b[0m                 \u001b[1;34m\"raw_input was called, but this frontend does not support input requests.\"\u001b[0m\u001b[1;33m\u001b[0m\u001b[1;33m\u001b[0m\u001b[0m\n\u001b[0;32m   1176\u001b[0m             )\n\u001b[1;32m-> 1177\u001b[1;33m         return self._input_request(\n\u001b[0m\u001b[0;32m   1178\u001b[0m             \u001b[0mstr\u001b[0m\u001b[1;33m(\u001b[0m\u001b[0mprompt\u001b[0m\u001b[1;33m)\u001b[0m\u001b[1;33m,\u001b[0m\u001b[1;33m\u001b[0m\u001b[1;33m\u001b[0m\u001b[0m\n\u001b[0;32m   1179\u001b[0m             \u001b[0mself\u001b[0m\u001b[1;33m.\u001b[0m\u001b[0m_parent_ident\u001b[0m\u001b[1;33m[\u001b[0m\u001b[1;34m\"shell\"\u001b[0m\u001b[1;33m]\u001b[0m\u001b[1;33m,\u001b[0m\u001b[1;33m\u001b[0m\u001b[1;33m\u001b[0m\u001b[0m\n",
      "\u001b[1;32mC:\\ProgramData\\Anaconda3\\lib\\site-packages\\ipykernel\\kernelbase.py\u001b[0m in \u001b[0;36m_input_request\u001b[1;34m(self, prompt, ident, parent, password)\u001b[0m\n\u001b[0;32m   1217\u001b[0m             \u001b[1;32mexcept\u001b[0m \u001b[0mKeyboardInterrupt\u001b[0m\u001b[1;33m:\u001b[0m\u001b[1;33m\u001b[0m\u001b[1;33m\u001b[0m\u001b[0m\n\u001b[0;32m   1218\u001b[0m                 \u001b[1;31m# re-raise KeyboardInterrupt, to truncate traceback\u001b[0m\u001b[1;33m\u001b[0m\u001b[1;33m\u001b[0m\u001b[0m\n\u001b[1;32m-> 1219\u001b[1;33m                 \u001b[1;32mraise\u001b[0m \u001b[0mKeyboardInterrupt\u001b[0m\u001b[1;33m(\u001b[0m\u001b[1;34m\"Interrupted by user\"\u001b[0m\u001b[1;33m)\u001b[0m \u001b[1;32mfrom\u001b[0m \u001b[1;32mNone\u001b[0m\u001b[1;33m\u001b[0m\u001b[1;33m\u001b[0m\u001b[0m\n\u001b[0m\u001b[0;32m   1220\u001b[0m             \u001b[1;32mexcept\u001b[0m \u001b[0mException\u001b[0m\u001b[1;33m:\u001b[0m\u001b[1;33m\u001b[0m\u001b[1;33m\u001b[0m\u001b[0m\n\u001b[0;32m   1221\u001b[0m                 \u001b[0mself\u001b[0m\u001b[1;33m.\u001b[0m\u001b[0mlog\u001b[0m\u001b[1;33m.\u001b[0m\u001b[0mwarning\u001b[0m\u001b[1;33m(\u001b[0m\u001b[1;34m\"Invalid Message:\"\u001b[0m\u001b[1;33m,\u001b[0m \u001b[0mexc_info\u001b[0m\u001b[1;33m=\u001b[0m\u001b[1;32mTrue\u001b[0m\u001b[1;33m)\u001b[0m\u001b[1;33m\u001b[0m\u001b[1;33m\u001b[0m\u001b[0m\n",
      "\u001b[1;31mKeyboardInterrupt\u001b[0m: Interrupted by user"
     ]
    }
   ],
   "source": [
    "def main():\n",
    "    conn, cursor = create_database()\n",
    "\n",
    " \n",
    "    with open('queries.txt', 'a') as file:\n",
    "        while True:\n",
    "            query = input('Enter your SQL query (or type \"exit\" to quit): ')\n",
    "            if query.lower() == 'exit':\n",
    "                break\n",
    "\n",
    "\n",
    "            file.write(query + '\\n')\n",
    "\n",
    "            result = execute_query(conn, cursor, query)\n",
    "            print(result)\n",
    "\n",
    "  \n",
    "    conn.close()\n",
    "\n",
    "if __name__ == \"__main__\":\n",
    "    main()"
   ]
  },
  {
   "cell_type": "markdown",
   "id": "d82d462a",
   "metadata": {},
   "source": [
    "##### answer: select d.department_name, e.name, e.salary, ROW_NUMBER() over(PARTITION by d.department_name order by e.salary desc ) as ranking      FROM departments d     INNER JOIN employees e ON d.department_id = e.department_id     GROUP BY d.department_name, e.name \torder by d.department_name, ranking"
   ]
  },
  {
   "cell_type": "markdown",
   "id": "b64ba1cb",
   "metadata": {},
   "source": [
    "#### question 17: Write a SQL query to find the number of projects assigned to each employee, along with the employee's name and department. Additionally, for each department, calculate the average number of projects per employee. Include the department name, employee name, number of projects, and average projects per department in the result."
   ]
  },
  {
   "cell_type": "code",
   "execution_count": 11,
   "id": "5aeaac6d",
   "metadata": {},
   "outputs": [
    {
     "name": "stdout",
     "output_type": "stream",
     "text": [
      "Enter your SQL query (or type \"exit\" to quit): SELECT      d.department_name,     e.name,     COUNT(pe.project_id) AS project_count,     AVG(COUNT(pe.project_id)) OVER (PARTITION BY d.department_name) AS avg_projects_per_department FROM departments d INNER JOIN employees e ON d.department_id = e.department_id LEFT JOIN employee_projects pe ON pe.employee_id = e.employee_id GROUP BY d.department_name, e.name ORDER BY d.department_name, e.name;\n",
      "                    department_name                name  project_count  \\\n",
      "0                       Adult nurse        Alan Spencer              3   \n",
      "1                       Adult nurse      Anita Sullivan              2   \n",
      "2                       Adult nurse       Charles Reese              2   \n",
      "3                       Adult nurse          David Byrd              0   \n",
      "4                       Adult nurse      Gerald Oconnor              0   \n",
      "5                       Adult nurse       Marissa Moran              1   \n",
      "6                       Adult nurse    Matthew Campbell              2   \n",
      "7                       Adult nurse        Maureen Ball              2   \n",
      "8                       Adult nurse     Nicholas Sparks              1   \n",
      "9                       Adult nurse      Richard Bishop              0   \n",
      "10                      Adult nurse     Samuel Valencia              1   \n",
      "11                      Adult nurse       Vanessa Scott              0   \n",
      "12       Architectural technologist       Cheryl Chavez              1   \n",
      "13       Architectural technologist     Connor Thompson              2   \n",
      "14       Architectural technologist      Jason Gallegos              3   \n",
      "15       Architectural technologist          Zoe Morgan              0   \n",
      "16          Chief Marketing Officer     Andrew Phillips              0   \n",
      "17          Chief Marketing Officer     Angela Johnston              2   \n",
      "18          Chief Marketing Officer       Ann Cervantes              1   \n",
      "19          Chief Marketing Officer        Carmen James              0   \n",
      "20          Chief Marketing Officer      Curtis Sanchez              0   \n",
      "21          Chief Marketing Officer        David Rivera              0   \n",
      "22          Chief Marketing Officer        Denise Knapp              1   \n",
      "23          Chief Marketing Officer         Erin Martin              0   \n",
      "24          Chief Marketing Officer       Frances Davis              0   \n",
      "25          Chief Marketing Officer        John Clayton              1   \n",
      "26          Chief Marketing Officer         Mark Murphy              0   \n",
      "27          Chief Marketing Officer     Michael Schultz              0   \n",
      "28          Chief Marketing Officer        Nathan Baker              0   \n",
      "29          Chief Marketing Officer        Rodney Smith              0   \n",
      "30                        Dietitian       Amanda Parker              1   \n",
      "31                        Dietitian        Anthony Hart              1   \n",
      "32                        Dietitian         Jacob Smith              0   \n",
      "33                        Dietitian     Kathleen Suarez              0   \n",
      "34                        Dietitian        Mark Sanders              1   \n",
      "35                        Dietitian        Paul Carroll              3   \n",
      "36                        Dietitian     Thomas Mcdaniel              6   \n",
      "37        Estate manager/land agent        Alicia Ortiz              0   \n",
      "38        Estate manager/land agent      Brian Campbell              1   \n",
      "39        Estate manager/land agent    Daniel Alexander              0   \n",
      "40        Estate manager/land agent          Eric Woods              2   \n",
      "41        Estate manager/land agent         Frank Perez              1   \n",
      "42        Estate manager/land agent      Heather Carter              0   \n",
      "43        Estate manager/land agent         Jeff Harper              5   \n",
      "44        Estate manager/land agent       John Marshall              0   \n",
      "45        Estate manager/land agent      Jonathan Casey              1   \n",
      "46        Estate manager/land agent      Joyce Williams              2   \n",
      "47        Estate manager/land agent         Karen Clark              1   \n",
      "48        Estate manager/land agent         Lacey White              1   \n",
      "49        Estate manager/land agent          Mary Braun              6   \n",
      "50        Estate manager/land agent      Michael Tanner              0   \n",
      "51        Estate manager/land agent       Stephen Allen              2   \n",
      "52           Financial risk analyst       Arthur Warren              1   \n",
      "53           Financial risk analyst    Evelyn Rodriguez              1   \n",
      "54           Financial risk analyst       Jill Thompson              1   \n",
      "55           Financial risk analyst    Jonathan Johnson              0   \n",
      "56           Financial risk analyst        Kristin Lang              0   \n",
      "57           Financial risk analyst       Michael Marsh              1   \n",
      "58                Food technologist       Colin Morales              1   \n",
      "59                Food technologist        Diana Moreno              0   \n",
      "60                Food technologist       Emily Stevens              1   \n",
      "61                Food technologist        Gerald Petty              2   \n",
      "62                Food technologist        Gregg Duncan              1   \n",
      "63                Food technologist        Jake Perkins              3   \n",
      "64                Food technologist       Lauren Sexton              0   \n",
      "65                Food technologist         Mark Fisher              0   \n",
      "66                Food technologist        Sarah Rogers              0   \n",
      "67                Food technologist        Taylor Cross              1   \n",
      "68              Mechanical engineer          Angel Reed              0   \n",
      "69              Mechanical engineer          Colin Hill              2   \n",
      "70              Mechanical engineer         Donna Moore              1   \n",
      "71              Mechanical engineer  Jacqueline Freeman              2   \n",
      "72              Mechanical engineer      Jessica Fowler              0   \n",
      "73              Mechanical engineer      Kristi Stewart              3   \n",
      "74              Mechanical engineer          Lisa Burns              1   \n",
      "75              Mechanical engineer     Marilyn Ellison              0   \n",
      "76              Mechanical engineer       Melissa Terry              0   \n",
      "77              Mechanical engineer     Timothy Osborne              3   \n",
      "78          Physiological scientist       Anthony Blake              1   \n",
      "79          Physiological scientist      Benjamin Moore              0   \n",
      "80          Physiological scientist        Cheryl Henry              1   \n",
      "81          Physiological scientist        Crystal Holt              0   \n",
      "82          Physiological scientist         Laura Avery              1   \n",
      "83          Physiological scientist      Morgan Johnson              0   \n",
      "84          Physiological scientist     Nathan Hamilton              0   \n",
      "85          Physiological scientist         Rose Hanson              0   \n",
      "86          Physiological scientist          Sally Reed              1   \n",
      "87          Physiological scientist       Sheena Berger              1   \n",
      "88  Producer, television/film/video        Bobby Rogers              0   \n",
      "89  Producer, television/film/video    Bradley Phillips              0   \n",
      "90  Producer, television/film/video     Brittany Bailey              0   \n",
      "91  Producer, television/film/video        Deborah Bell              1   \n",
      "92  Producer, television/film/video   Jacqueline Walker              1   \n",
      "93  Producer, television/film/video          Jill Dixon              3   \n",
      "94  Producer, television/film/video    Michelle Burnett              0   \n",
      "95  Producer, television/film/video        Nicole Jones              0   \n",
      "96  Producer, television/film/video        Patrick Sims              1   \n",
      "97  Producer, television/film/video      Steven Gardner              3   \n",
      "98  Producer, television/film/video        Tamara James              1   \n",
      "99  Producer, television/film/video      Thomas Stanley              1   \n",
      "\n",
      "    avg_projects_per_department  \n",
      "0                      1.166667  \n",
      "1                      1.166667  \n",
      "2                      1.166667  \n",
      "3                      1.166667  \n",
      "4                      1.166667  \n",
      "5                      1.166667  \n",
      "6                      1.166667  \n",
      "7                      1.166667  \n",
      "8                      1.166667  \n",
      "9                      1.166667  \n",
      "10                     1.166667  \n",
      "11                     1.166667  \n",
      "12                     1.500000  \n",
      "13                     1.500000  \n",
      "14                     1.500000  \n",
      "15                     1.500000  \n",
      "16                     0.357143  \n",
      "17                     0.357143  \n",
      "18                     0.357143  \n",
      "19                     0.357143  \n",
      "20                     0.357143  \n",
      "21                     0.357143  \n",
      "22                     0.357143  \n",
      "23                     0.357143  \n",
      "24                     0.357143  \n",
      "25                     0.357143  \n",
      "26                     0.357143  \n",
      "27                     0.357143  \n",
      "28                     0.357143  \n",
      "29                     0.357143  \n",
      "30                     1.714286  \n",
      "31                     1.714286  \n",
      "32                     1.714286  \n",
      "33                     1.714286  \n",
      "34                     1.714286  \n",
      "35                     1.714286  \n",
      "36                     1.714286  \n",
      "37                     1.466667  \n",
      "38                     1.466667  \n",
      "39                     1.466667  \n",
      "40                     1.466667  \n",
      "41                     1.466667  \n",
      "42                     1.466667  \n",
      "43                     1.466667  \n",
      "44                     1.466667  \n",
      "45                     1.466667  \n",
      "46                     1.466667  \n",
      "47                     1.466667  \n",
      "48                     1.466667  \n",
      "49                     1.466667  \n",
      "50                     1.466667  \n",
      "51                     1.466667  \n",
      "52                     0.666667  \n",
      "53                     0.666667  \n",
      "54                     0.666667  \n",
      "55                     0.666667  \n",
      "56                     0.666667  \n",
      "57                     0.666667  \n",
      "58                     0.900000  \n",
      "59                     0.900000  \n",
      "60                     0.900000  \n",
      "61                     0.900000  \n",
      "62                     0.900000  \n",
      "63                     0.900000  \n",
      "64                     0.900000  \n",
      "65                     0.900000  \n",
      "66                     0.900000  \n",
      "67                     0.900000  \n",
      "68                     1.200000  \n",
      "69                     1.200000  \n",
      "70                     1.200000  \n",
      "71                     1.200000  \n",
      "72                     1.200000  \n",
      "73                     1.200000  \n",
      "74                     1.200000  \n",
      "75                     1.200000  \n",
      "76                     1.200000  \n",
      "77                     1.200000  \n",
      "78                     0.500000  \n",
      "79                     0.500000  \n",
      "80                     0.500000  \n",
      "81                     0.500000  \n",
      "82                     0.500000  \n",
      "83                     0.500000  \n",
      "84                     0.500000  \n",
      "85                     0.500000  \n",
      "86                     0.500000  \n",
      "87                     0.500000  \n",
      "88                     0.916667  \n",
      "89                     0.916667  \n",
      "90                     0.916667  \n",
      "91                     0.916667  \n",
      "92                     0.916667  \n",
      "93                     0.916667  \n",
      "94                     0.916667  \n",
      "95                     0.916667  \n",
      "96                     0.916667  \n",
      "97                     0.916667  \n",
      "98                     0.916667  \n",
      "99                     0.916667  \n"
     ]
    },
    {
     "name": "stdout",
     "output_type": "stream",
     "text": [
      "Enter your SQL query (or type \"exit\" to quit): exit\n"
     ]
    }
   ],
   "source": [
    "def main():\n",
    "    conn, cursor = create_database()\n",
    "\n",
    " \n",
    "    with open('queries.txt', 'a') as file:\n",
    "        while True:\n",
    "            query = input('Enter your SQL query (or type \"exit\" to quit): ')\n",
    "            if query.lower() == 'exit':\n",
    "                break\n",
    "\n",
    "\n",
    "            file.write(query + '\\n')\n",
    "\n",
    "            result = execute_query(conn, cursor, query)\n",
    "            print(result)\n",
    "\n",
    "  \n",
    "    conn.close()\n",
    "\n",
    "if __name__ == \"__main__\":\n",
    "    main()"
   ]
  },
  {
   "cell_type": "markdown",
   "id": "503ac981",
   "metadata": {},
   "source": [
    "##### answer: select  d.department_name, e.name, COUNT(pe.project_id) AS project_count,  AVG(COUNT(pe.project_id)) OVER (PARTITION BY d.department_name) AS avg_projects_per_departmentFROM departments d INNER JOIN employees e ON d.department_id = e.department_id LEFT JOIN employee_projects pe ON pe.employee_id = e.employee_id GROUP BY d.department_name, e.name ORDER BY d.department_name, e.name;"
   ]
  },
  {
   "cell_type": "markdown",
   "id": "810bc364",
   "metadata": {},
   "source": [
    "#### question 18: write a SQL query to find out which projects have more employees than the average number of employees per project. Display the project name, the number of employees working on that project, and the average number of employees per project"
   ]
  },
  {
   "cell_type": "code",
   "execution_count": 14,
   "id": "ab9b6fba",
   "metadata": {},
   "outputs": [
    {
     "name": "stdout",
     "output_type": "stream",
     "text": [
      "Enter your SQL query (or type \"exit\" to quit): with test as ( select p.project_name a, count(ep.employee_id) as b, avg(count(ep.employee_id)) over() as c from projects p left join employee_projects ep  on (ep.project_id=p.project_id) group by p.project_name )  select a,b,c from test where b>c order by a\n",
      "                                         a   b     c\n",
      "0          Networked scalable architecture  11  10.0\n",
      "1             Optional stable service-desk  11  10.0\n",
      "2              Phased transitional toolset  18  10.0\n",
      "3  Programmable empowering functionalities  16  10.0\n",
      "Enter your SQL query (or type \"exit\" to quit): exit\n"
     ]
    }
   ],
   "source": [
    "def main():\n",
    "    conn, cursor = create_database()\n",
    "\n",
    " \n",
    "    with open('queries.txt', 'a') as file:\n",
    "        while True:\n",
    "            query = input('Enter your SQL query (or type \"exit\" to quit): ')\n",
    "            if query.lower() == 'exit':\n",
    "                break\n",
    "\n",
    "\n",
    "            file.write(query + '\\n')\n",
    "\n",
    "            result = execute_query(conn, cursor, query)\n",
    "            print(result)\n",
    "\n",
    "  \n",
    "    conn.close()\n",
    "\n",
    "if __name__ == \"__main__\":\n",
    "    main()"
   ]
  },
  {
   "cell_type": "markdown",
   "id": "48480949",
   "metadata": {},
   "source": [
    "#### answer: WITH ProjectEmployeeCounts AS (  SELECT    p.project_name,  COUNT(ep.employee_id) AS employee_count, AVG(COUNT(ep.employee_id)) OVER() AS avg_employee_count    FROM projects p     LEFT JOIN employee_projects ep ON ep.project_id = p.project_id GROUP BY p.project_name) SELECT project_name, employee_count, avg_employee_count FROM ProjectEmployeeCounts WHERE employee_count > avg_employee_count ORDER BY project_name;"
   ]
  },
  {
   "cell_type": "markdown",
   "id": "f9ea7253",
   "metadata": {},
   "source": [
    "#### question 19: Find the average salary of employees for each department. Alongside this, provide the highest and lowest salary within the same department. Showcase these details next to each employee's own salary."
   ]
  },
  {
   "cell_type": "code",
   "execution_count": 5,
   "id": "4377cd34",
   "metadata": {},
   "outputs": [
    {
     "name": "stdout",
     "output_type": "stream",
     "text": [
      "Enter your SQL query (or type \"exit\" to quit): SELECT      d.department_name,      e.name as employee_name,     e.salary as employee_salary,     AVG(e.salary) OVER(PARTITION BY e.department_id) as avg_department_salary,     MIN(e.salary) OVER(PARTITION BY e.department_id) as min_department_salary,     MAX(e.salary) OVER(PARTITION BY e.department_id) as max_department_salary FROM      departments d  JOIN      employees e  ON      d.department_id = e.department_id ORDER BY      d.department_name, e.name;\n",
      "                      department_name       employee_name  employee_salary  \\\n",
      "0                              Artist       Benjamin Choi          81284.0   \n",
      "1                              Artist          Heidi Leon          49527.0   \n",
      "2                              Artist         Taylor Hood          19831.0   \n",
      "3                        Bonds trader         Alyssa Lutz          75959.0   \n",
      "4                        Bonds trader    Ashley Daugherty          54397.0   \n",
      "5                        Bonds trader     Brenda Carrillo          51094.0   \n",
      "6                        Bonds trader   Brittany Chandler          47135.0   \n",
      "7                        Bonds trader       Cynthia Smith          95745.0   \n",
      "8                        Bonds trader      Kimberly Jones          60622.0   \n",
      "9                        Bonds trader    Laura Valenzuela          16727.0   \n",
      "10                       Bonds trader          Lisa Allen          73546.0   \n",
      "11                       Bonds trader    Mr. Steven Allen          45321.0   \n",
      "12                       Bonds trader      Nicholas Allen          59847.0   \n",
      "13                       Bonds trader      William Fisher          28760.0   \n",
      "14                       Bonds trader    William Harrison          72082.0   \n",
      "15            Chartered loss adjuster      Abigail Murray          16105.0   \n",
      "16            Chartered loss adjuster     Brandon Wheeler          90985.0   \n",
      "17            Chartered loss adjuster       Brooke Jordan          13384.0   \n",
      "18            Chartered loss adjuster        Corey Newman          12317.0   \n",
      "19            Chartered loss adjuster     Cynthia Sanford          48333.0   \n",
      "20            Chartered loss adjuster     Destiny Jimenez          13038.0   \n",
      "21            Chartered loss adjuster      Heather Howard          32290.0   \n",
      "22            Chartered loss adjuster        Jacob Acosta          48783.0   \n",
      "23            Chartered loss adjuster     Jeffrey Johnson          52418.0   \n",
      "24            Chartered loss adjuster        Kelly Graham          88344.0   \n",
      "25            Chartered loss adjuster          Lisa Brown          42999.0   \n",
      "26            Chartered loss adjuster          Luis Mckee          25408.0   \n",
      "27            Chartered loss adjuster      Madeline Ramos          58769.0   \n",
      "28            Chartered loss adjuster     Michael Russell          30327.0   \n",
      "29            Chartered loss adjuster      Nathan Johnson          68071.0   \n",
      "30            Chartered loss adjuster         Peter Eaton          39184.0   \n",
      "31            Chartered loss adjuster        Randy Bender          75489.0   \n",
      "32            Chartered loss adjuster          Rose Ramos          48663.0   \n",
      "33            Chartered loss adjuster         Sherry Chen          96567.0   \n",
      "34            Chartered loss adjuster        Timothy Ward          14477.0   \n",
      "35                   Graphic designer     Allison Johnson          74371.0   \n",
      "36                   Graphic designer       Angela Wright          40665.0   \n",
      "37                   Graphic designer         Anna Wright          32492.0   \n",
      "38                   Graphic designer         Brian Weber          67579.0   \n",
      "39                   Graphic designer         Carl Brandt          18806.0   \n",
      "40                   Graphic designer     Charles Nichols          51380.0   \n",
      "41                   Graphic designer      Darren Hopkins          54302.0   \n",
      "42                   Graphic designer     Deborah Ramirez          92765.0   \n",
      "43                   Graphic designer       Jordan Garcia          57336.0   \n",
      "44                   Graphic designer   Kimberly Bradshaw          67104.0   \n",
      "45                   Graphic designer          Luis Solis          98723.0   \n",
      "46                   Graphic designer       Robert Palmer          59987.0   \n",
      "47                   Graphic designer     Stephen Mendoza          73267.0   \n",
      "48                   Graphic designer   Tricia Arroyo PhD          88741.0   \n",
      "49               Optician, dispensing       Brian Johnson          15284.0   \n",
      "50               Optician, dispensing     Jessica Salinas          41387.0   \n",
      "51               Optician, dispensing          Linda Hale          82426.0   \n",
      "52               Optician, dispensing       Madeline Page          93028.0   \n",
      "53               Optician, dispensing      Matthew Thomas          68609.0   \n",
      "54               Optician, dispensing   Michael Daugherty          28144.0   \n",
      "55               Optician, dispensing            Paul Fox          26904.0   \n",
      "56               Optician, dispensing       Richard Costa          17367.0   \n",
      "57               Optician, dispensing        Walter Ellis          27225.0   \n",
      "58             Psychologist, clinical          Adam Adams          93347.0   \n",
      "59             Psychologist, clinical            Bob Long          66924.0   \n",
      "60             Psychologist, clinical       Daniel Hunter          60426.0   \n",
      "61             Psychologist, clinical         Dennis Hall          58990.0   \n",
      "62             Psychologist, clinical  Dr. Anna Hernandez          63266.0   \n",
      "63             Psychologist, clinical        Joseph Mills          60223.0   \n",
      "64             Psychologist, clinical         Julia Perry          44652.0   \n",
      "65             Psychologist, clinical     Mackenzie Jones          15290.0   \n",
      "66             Psychologist, clinical      Martin Randall          99284.0   \n",
      "67             Psychologist, clinical    Michelle Jackson          76244.0   \n",
      "68             Psychologist, clinical       Robin Clayton          42744.0   \n",
      "69             Psychologist, clinical       Tammy Johnson          34920.0   \n",
      "70             Psychologist, clinical    Timothy Bradford          43685.0   \n",
      "71             Psychologist, clinical        William Cook          30429.0   \n",
      "72  Sales promotion account executive       Andrea Torres          98402.0   \n",
      "73  Sales promotion account executive         Bruce Ortiz          55138.0   \n",
      "74  Sales promotion account executive    Cassandra Dennis          76352.0   \n",
      "75  Sales promotion account executive    Crystal Castillo          98667.0   \n",
      "76  Sales promotion account executive         David Ramos          44771.0   \n",
      "77  Sales promotion account executive       David Swanson          60452.0   \n",
      "78  Sales promotion account executive        Denise Smith          15857.0   \n",
      "79  Sales promotion account executive           James Cox          80806.0   \n",
      "80  Sales promotion account executive      Kimberly Lopez          21382.0   \n",
      "81  Sales promotion account executive       Maria Calhoun          24591.0   \n",
      "82  Sales promotion account executive      Mariah Estrada          30092.0   \n",
      "83                   Technical author     Anthony Carroll          90504.0   \n",
      "84                   Technical author       Brandon Jones          50763.0   \n",
      "85                   Technical author   Jacqueline Lozano          53766.0   \n",
      "86                   Technical author     Kimberly Walter          41210.0   \n",
      "87                   Technical author       Manuel Brandt          42355.0   \n",
      "88                   Technical author       Pamela Guzman          35874.0   \n",
      "89                   Technical author         Paul Berger          54552.0   \n",
      "90                   Technical author         William Lee          56752.0   \n",
      "91         Television camera operator         Brett Brown          23736.0   \n",
      "92         Television camera operator        Joshua Lloyd          25863.0   \n",
      "93         Television camera operator     Katherine Smith          20574.0   \n",
      "94         Television camera operator         Sandra Barr          85947.0   \n",
      "95         Television camera operator        Suzanne Barr          20716.0   \n",
      "96          Trading standards officer         Donna Davis          21560.0   \n",
      "97          Trading standards officer        Kevin Thomas          98855.0   \n",
      "98          Trading standards officer            Roy Cook          45374.0   \n",
      "99          Trading standards officer          Todd Allen          81109.0   \n",
      "\n",
      "    avg_department_salary  min_department_salary  max_department_salary  \n",
      "0            50214.000000                19831.0                81284.0  \n",
      "1            50214.000000                19831.0                81284.0  \n",
      "2            50214.000000                19831.0                81284.0  \n",
      "3            56769.583333                16727.0                95745.0  \n",
      "4            56769.583333                16727.0                95745.0  \n",
      "5            56769.583333                16727.0                95745.0  \n",
      "6            56769.583333                16727.0                95745.0  \n",
      "7            56769.583333                16727.0                95745.0  \n",
      "8            56769.583333                16727.0                95745.0  \n",
      "9            56769.583333                16727.0                95745.0  \n",
      "10           56769.583333                16727.0                95745.0  \n",
      "11           56769.583333                16727.0                95745.0  \n",
      "12           56769.583333                16727.0                95745.0  \n",
      "13           56769.583333                16727.0                95745.0  \n",
      "14           56769.583333                16727.0                95745.0  \n",
      "15           45797.550000                12317.0                96567.0  \n",
      "16           45797.550000                12317.0                96567.0  \n",
      "17           45797.550000                12317.0                96567.0  \n",
      "18           45797.550000                12317.0                96567.0  \n",
      "19           45797.550000                12317.0                96567.0  \n",
      "20           45797.550000                12317.0                96567.0  \n",
      "21           45797.550000                12317.0                96567.0  \n",
      "22           45797.550000                12317.0                96567.0  \n",
      "23           45797.550000                12317.0                96567.0  \n",
      "24           45797.550000                12317.0                96567.0  \n",
      "25           45797.550000                12317.0                96567.0  \n",
      "26           45797.550000                12317.0                96567.0  \n",
      "27           45797.550000                12317.0                96567.0  \n",
      "28           45797.550000                12317.0                96567.0  \n",
      "29           45797.550000                12317.0                96567.0  \n",
      "30           45797.550000                12317.0                96567.0  \n",
      "31           45797.550000                12317.0                96567.0  \n",
      "32           45797.550000                12317.0                96567.0  \n",
      "33           45797.550000                12317.0                96567.0  \n",
      "34           45797.550000                12317.0                96567.0  \n",
      "35           62679.857143                18806.0                98723.0  \n",
      "36           62679.857143                18806.0                98723.0  \n",
      "37           62679.857143                18806.0                98723.0  \n",
      "38           62679.857143                18806.0                98723.0  \n",
      "39           62679.857143                18806.0                98723.0  \n",
      "40           62679.857143                18806.0                98723.0  \n",
      "41           62679.857143                18806.0                98723.0  \n",
      "42           62679.857143                18806.0                98723.0  \n",
      "43           62679.857143                18806.0                98723.0  \n",
      "44           62679.857143                18806.0                98723.0  \n",
      "45           62679.857143                18806.0                98723.0  \n",
      "46           62679.857143                18806.0                98723.0  \n",
      "47           62679.857143                18806.0                98723.0  \n",
      "48           62679.857143                18806.0                98723.0  \n",
      "49           44486.000000                15284.0                93028.0  \n",
      "50           44486.000000                15284.0                93028.0  \n",
      "51           44486.000000                15284.0                93028.0  \n",
      "52           44486.000000                15284.0                93028.0  \n",
      "53           44486.000000                15284.0                93028.0  \n",
      "54           44486.000000                15284.0                93028.0  \n",
      "55           44486.000000                15284.0                93028.0  \n",
      "56           44486.000000                15284.0                93028.0  \n",
      "57           44486.000000                15284.0                93028.0  \n",
      "58           56458.857143                15290.0                99284.0  \n",
      "59           56458.857143                15290.0                99284.0  \n",
      "60           56458.857143                15290.0                99284.0  \n",
      "61           56458.857143                15290.0                99284.0  \n",
      "62           56458.857143                15290.0                99284.0  \n",
      "63           56458.857143                15290.0                99284.0  \n",
      "64           56458.857143                15290.0                99284.0  \n",
      "65           56458.857143                15290.0                99284.0  \n",
      "66           56458.857143                15290.0                99284.0  \n",
      "67           56458.857143                15290.0                99284.0  \n",
      "68           56458.857143                15290.0                99284.0  \n",
      "69           56458.857143                15290.0                99284.0  \n",
      "70           56458.857143                15290.0                99284.0  \n",
      "71           56458.857143                15290.0                99284.0  \n",
      "72           55137.272727                15857.0                98667.0  \n",
      "73           55137.272727                15857.0                98667.0  \n",
      "74           55137.272727                15857.0                98667.0  \n",
      "75           55137.272727                15857.0                98667.0  \n",
      "76           55137.272727                15857.0                98667.0  \n",
      "77           55137.272727                15857.0                98667.0  \n",
      "78           55137.272727                15857.0                98667.0  \n",
      "79           55137.272727                15857.0                98667.0  \n",
      "80           55137.272727                15857.0                98667.0  \n",
      "81           55137.272727                15857.0                98667.0  \n",
      "82           55137.272727                15857.0                98667.0  \n",
      "83           53222.000000                35874.0                90504.0  \n",
      "84           53222.000000                35874.0                90504.0  \n",
      "85           53222.000000                35874.0                90504.0  \n",
      "86           53222.000000                35874.0                90504.0  \n",
      "87           53222.000000                35874.0                90504.0  \n",
      "88           53222.000000                35874.0                90504.0  \n",
      "89           53222.000000                35874.0                90504.0  \n",
      "90           53222.000000                35874.0                90504.0  \n",
      "91           35367.200000                20574.0                85947.0  \n",
      "92           35367.200000                20574.0                85947.0  \n",
      "93           35367.200000                20574.0                85947.0  \n",
      "94           35367.200000                20574.0                85947.0  \n",
      "95           35367.200000                20574.0                85947.0  \n",
      "96           61724.500000                21560.0                98855.0  \n",
      "97           61724.500000                21560.0                98855.0  \n",
      "98           61724.500000                21560.0                98855.0  \n",
      "99           61724.500000                21560.0                98855.0  \n"
     ]
    },
    {
     "name": "stdout",
     "output_type": "stream",
     "text": [
      "Enter your SQL query (or type \"exit\" to quit): exit\n"
     ]
    }
   ],
   "source": [
    "def main():\n",
    "    conn, cursor = create_database()\n",
    "\n",
    " \n",
    "    with open('queries.txt', 'a') as file:\n",
    "        while True:\n",
    "            query = input('Enter your SQL query (or type \"exit\" to quit): ')\n",
    "            if query.lower() == 'exit':\n",
    "                break\n",
    "\n",
    "\n",
    "            file.write(query + '\\n')\n",
    "\n",
    "            result = execute_query(conn, cursor, query)\n",
    "            print(result)\n",
    "\n",
    "  \n",
    "    conn.close()\n",
    "\n",
    "if __name__ == \"__main__\":\n",
    "    main()"
   ]
  },
  {
   "cell_type": "markdown",
   "id": "dd31bba1",
   "metadata": {},
   "source": [
    "##### answer: SELECT   d.department_name, e.name as employee_name, e.salary as employee_salary, AVG(e.salary) OVER(PARTITION BY e.department_id) as avg_department_salary, MIN(e.salary) OVER(PARTITION BY e.department_id) as min_department_salary, MAX(e.salary) OVER(PARTITION BY e.department_id) as max_department_salary FROM  departments d JOIN  employees e ON  d.department_id = e.department_id ORDER BY    d.department_name, e.name;"
   ]
  },
  {
   "cell_type": "markdown",
   "id": "b4227cf9",
   "metadata": {},
   "source": [
    "#### question 20: Determine the total budget of projects assigned to each employee. For employees who are assigned multiple projects, combine their project budgets. Also, rank the employees based on the total project budget assigned to them in descending order, using window functions."
   ]
  },
  {
   "cell_type": "code",
   "execution_count": 9,
   "id": "a03a7f83",
   "metadata": {},
   "outputs": [
    {
     "name": "stdout",
     "output_type": "stream",
     "text": [
      "Enter your SQL query (or type \"exit\" to quit): SELECT e.name,         SUM(p.budget) AS total_project_budget,        ROW_NUMBER() OVER (ORDER BY SUM(p.budget) DESC) as rank FROM employees e  LEFT JOIN employee_projects ep ON e.employee_id = ep.employee_id  INNER JOIN projects p ON ep.project_id = p.project_id GROUP BY e.employee_id, e.name ORDER BY total_project_budget DESC;\n",
      "                   name  total_project_budget  rank\n",
      "0           Holly Young              239892.0     1\n",
      "1        Sarah Martinez              183352.0     2\n",
      "2         Emily Rosales              179258.0     3\n",
      "3          Justin Hines              175514.0     4\n",
      "4           Lisa Little              175464.0     5\n",
      "5       Richard Kennedy              164076.0     6\n",
      "6             Jo Powers              164076.0     7\n",
      "7        Douglas Harmon              156005.0     8\n",
      "8        Marvin Mcmahon              156005.0     9\n",
      "9         Dennis Morgan              150859.0    10\n",
      "10         Robert Perry              135269.0    11\n",
      "11      George Martinez              132752.0    12\n",
      "12     Courtney Stewart              127198.0    13\n",
      "13       Jennifer Adams              124864.0    14\n",
      "14        Lauren Wilson              117026.0    15\n",
      "15      Miguel Williams              110363.0    16\n",
      "16         Sara Griffin              109515.0    17\n",
      "17         Timothy Sims              107012.0    18\n",
      "18   Lawrence Henderson               99665.0    19\n",
      "19         David Miller               93365.0    20\n",
      "20         Breanna Webb               93365.0    21\n",
      "21      Mr. Brett Smith               89629.0    22\n",
      "22  Alexander Mcconnell               89629.0    23\n",
      "23   Jonathan Hernandez               87110.0    24\n",
      "24           Ryan White               86278.0    25\n",
      "25         Edward Lopez               75482.0    26\n",
      "26          Chad Miller               74447.0    27\n",
      "27   Priscilla Phillips               74447.0    28\n",
      "28         Emily Snyder               66376.0    29\n",
      "29         Nancy Crosby               66376.0    30\n",
      "30           Adam Smith               66376.0    31\n",
      "31    Christopher Jones               66376.0    32\n",
      "32         Shane Jacobs               58488.0    33\n",
      "33        Megan Garrett               58488.0    34\n",
      "34    Christopher Ayers               58488.0    35\n",
      "35       Barry Villegas               58488.0    36\n",
      "36      Benjamin Wilcox               53175.0    37\n",
      "37            Cody Lamb               52615.0    38\n",
      "38         Joseph Jones               50786.0    39\n",
      "39        Kelli Delgado               50786.0    40\n",
      "40         James Martin               50786.0    41\n",
      "41          Jeff Lowery               45734.0    42\n",
      "42       Jennifer Payne               43139.0    43\n",
      "43           Mary Brown               43139.0    44\n",
      "44     Diamond Sullivan               42579.0    45\n",
      "45    Megan Christensen               42579.0    46\n",
      "46        Michele Smith               42579.0    47\n",
      "47         Jessica Ross               42579.0    48\n",
      "48        Neil Jacobson               42579.0    49\n",
      "49       Gerald Stewart               22867.0    50\n",
      "50         Barry Clarke               22867.0    51\n",
      "51         Leslie Perez               22867.0    52\n",
      "52       Kristen Dodson               22867.0    53\n",
      "53      Jeremy Mitchell               20734.0    54\n",
      "54         Jeremy Olson               20734.0    55\n",
      "55      Jason Rodriguez               20734.0    56\n",
      "56       William Lee MD               20734.0    57\n",
      "57        Carlos Morris               20734.0    58\n",
      "58        Angela Morris               20734.0    59\n",
      "59            Leah Hill               20734.0    60\n",
      "60       Ashley Morales               20734.0    61\n",
      "61       Shannon Chavez               10036.0    62\n",
      "Enter your SQL query (or type \"exit\" to quit): exit\n"
     ]
    }
   ],
   "source": [
    "def main():\n",
    "    conn, cursor = create_database()\n",
    "\n",
    " \n",
    "    with open('queries.txt', 'a') as file:\n",
    "        while True:\n",
    "            query = input('Enter your SQL query (or type \"exit\" to quit): ')\n",
    "            if query.lower() == 'exit':\n",
    "                break\n",
    "\n",
    "\n",
    "            file.write(query + '\\n')\n",
    "\n",
    "            result = execute_query(conn, cursor, query)\n",
    "            print(result)\n",
    "\n",
    "  \n",
    "    conn.close()\n",
    "\n",
    "if __name__ == \"__main__\":\n",
    "    main()"
   ]
  },
  {
   "cell_type": "markdown",
   "id": "208d6e8c",
   "metadata": {},
   "source": [
    "##### answer: select e.name,      SUM(p.budget) AS total_project_budget,     ROW_NUMBER() OVER (ORDER BY SUM(p.budget) DESC) as rank FROM employees e  LEFT JOIN employee_projects ep ON e.employee_id = ep.employee_id  INNER JOIN projects p ON ep.project_id = p.project_id GROUP BY e.employee_id, e.name ORDER BY total_project_budget DESC;"
   ]
  },
  {
   "cell_type": "markdown",
   "id": "122e8adf",
   "metadata": {},
   "source": [
    "#### question 21: Find the top 3 clients in terms of the total order amount they have placed, along with the respective sales employee who has managed the highest order for each of those clients. For each client, you should display:\n",
    "\n",
    "#### -Client name\n",
    "#### -Total order amount\n",
    "#### -The name of the employee who managed the highest order\n",
    "#### -The amount of that highest order"
   ]
  },
  {
   "cell_type": "code",
   "execution_count": 17,
   "id": "33702bb8",
   "metadata": {},
   "outputs": [
    {
     "name": "stdout",
     "output_type": "stream",
     "text": [
      "Enter your SQL query (or type \"exit\" to quit):  WITH MaxOrder AS ( SELECT client_id, employee_id, MAX(amount) as max_amount FROM orders GROUP BY client_id, employee_id) SELECT ct.client_name, SUM(o.amount) as total_amount, e.name as top_employee_name, mo.max_amount as top_employee_amount FROM clients ct INNER JOIN orders o ON ct.client_id = o.client_id INNER JOIN employees e ON o.employee_id = e.employee_id INNER JOIN MaxOrder mo ON ct.client_id = mo.client_id AND o.employee_id = mo.employee_id GROUP BY ct.client_name, e.name, mo.max_amount ORDER BY ct.client_name;\n",
      "                      client_name  total_amount       top_employee_name  \\\n",
      "0                     Allison LLC       51523.0        Brittney Jimenez   \n",
      "1                     Allison LLC       50933.0       Caroline Melendez   \n",
      "2                     Allison LLC       70925.0  Dr. Gregory Villarreal   \n",
      "3                     Allison LLC       62895.0          Jennifer Jones   \n",
      "4                     Allison LLC       77748.0             Jesse Brown   \n",
      "5                     Allison LLC       96997.0             Karen Lopez   \n",
      "6                     Allison LLC       83945.0         Kellie Espinoza   \n",
      "7                     Allison LLC       84743.0               Lee Adams   \n",
      "8                     Allison LLC       55995.0            Lisa Walters   \n",
      "9                     Allison LLC       34874.0             Paula Davis   \n",
      "10                    Allison LLC       59238.0             Russell Orr   \n",
      "11                    Allison LLC       56445.0        Samantha Harrell   \n",
      "12                    Allison LLC      180194.0           Sara Thompson   \n",
      "13                    Allison LLC       78494.0           Zachary Nunez   \n",
      "14                Atkinson-Murray       58083.0             Amy Cabrera   \n",
      "15                Atkinson-Murray       19701.0            Breanna Cruz   \n",
      "16                Atkinson-Murray       11376.0       Caroline Melendez   \n",
      "17                Atkinson-Murray       13920.0         Christine Greer   \n",
      "18                Atkinson-Murray       98705.0             Dylan Young   \n",
      "19                Atkinson-Murray       90934.0            Erika Nguyen   \n",
      "20                Atkinson-Murray       29949.0              Jacob Wall   \n",
      "21                Atkinson-Murray       64819.0            Jeffrey Wolf   \n",
      "22                Atkinson-Murray       77215.0             Jesse Brown   \n",
      "23                Atkinson-Murray       41782.0           Joseph Vaughn   \n",
      "24                Atkinson-Murray       36873.0              Kyle Davis   \n",
      "25                Atkinson-Murray       22480.0            Marcus Garza   \n",
      "26                Atkinson-Murray       99831.0              Maria Ward   \n",
      "27                Atkinson-Murray       72354.0            Mary Watkins   \n",
      "28                Atkinson-Murray       54344.0          Richard Nguyen   \n",
      "29                Atkinson-Murray      114655.0         Ronnie Anderson   \n",
      "30                Atkinson-Murray       38264.0             Shawn Smith   \n",
      "31                Atkinson-Murray       55119.0           Tristan Perez   \n",
      "32     Greer, Rodriguez and Young       76289.0        Alexander Fuller   \n",
      "33     Greer, Rodriguez and Young       76494.0         Ashley Thompson   \n",
      "34     Greer, Rodriguez and Young       45126.0             Curtis Dunn   \n",
      "35     Greer, Rodriguez and Young       45453.0              James Berg   \n",
      "36     Greer, Rodriguez and Young       49868.0            James Garner   \n",
      "37     Greer, Rodriguez and Young       57567.0          Jennifer Jones   \n",
      "38     Greer, Rodriguez and Young       49000.0             Jesse Brown   \n",
      "39     Greer, Rodriguez and Young       82880.0           Michael Perry   \n",
      "40     Greer, Rodriguez and Young       60731.0        Michaela Clayton   \n",
      "41     Greer, Rodriguez and Young       49701.0           Nicholas Moon   \n",
      "42     Greer, Rodriguez and Young       67049.0             Paula Davis   \n",
      "43     Greer, Rodriguez and Young       68343.0         Ronnie Anderson   \n",
      "44     Greer, Rodriguez and Young       79977.0             Sarah Dixon   \n",
      "45     Greer, Rodriguez and Young       98387.0            Sheryl Davis   \n",
      "46     Greer, Rodriguez and Young       53257.0           Stefanie Lowe   \n",
      "47      Martinez, Roach and Tapia      150951.0             Amy Cabrera   \n",
      "48      Martinez, Roach and Tapia       52884.0            Caitlin Dunn   \n",
      "49      Martinez, Roach and Tapia       41824.0       Caroline Melendez   \n",
      "50      Martinez, Roach and Tapia       87027.0            Debra Lawson   \n",
      "51      Martinez, Roach and Tapia       17472.0        Destiny Davidson   \n",
      "52      Martinez, Roach and Tapia       97887.0          Douglas Gordon   \n",
      "53      Martinez, Roach and Tapia       48976.0            Erika Nguyen   \n",
      "54      Martinez, Roach and Tapia       55648.0            James Garner   \n",
      "55      Martinez, Roach and Tapia       17231.0             Jared Lewis   \n",
      "56      Martinez, Roach and Tapia       93752.0          Jennifer Jones   \n",
      "57      Martinez, Roach and Tapia       24898.0            Jessica Hall   \n",
      "58      Martinez, Roach and Tapia       67940.0         Kellie Espinoza   \n",
      "59      Martinez, Roach and Tapia       63909.0              Seth Miles   \n",
      "60      Martinez, Roach and Tapia       82196.0             Shane Morse   \n",
      "61      Martinez, Roach and Tapia       31582.0             Shawn Smith   \n",
      "62      Martinez, Roach and Tapia       61271.0            Sheryl Davis   \n",
      "63      Martinez, Roach and Tapia       78300.0             Thomas Ward   \n",
      "64      Martinez, Roach and Tapia       39851.0           Tristan Perez   \n",
      "65                  Mason-Houston      109214.0        Brittney Jimenez   \n",
      "66                  Mason-Houston       96334.0           Charles Smith   \n",
      "67                  Mason-Houston       88554.0        Christopher Hill   \n",
      "68                  Mason-Houston       80540.0           Connie Garcia   \n",
      "69                  Mason-Houston      113682.0      Cristina Rodriguez   \n",
      "70                  Mason-Houston       99403.0             Curtis Dunn   \n",
      "71                  Mason-Houston       50630.0            Debra Lawson   \n",
      "72                  Mason-Houston       49180.0         Derek Zimmerman   \n",
      "73                  Mason-Houston       65738.0          Douglas Gordon   \n",
      "74                  Mason-Houston       19396.0         Isabel Martinez   \n",
      "75                  Mason-Houston      137436.0           James Summers   \n",
      "76                  Mason-Houston       56179.0            Jeffrey Wolf   \n",
      "77                  Mason-Houston       52907.0          Jennifer Jones   \n",
      "78                  Mason-Houston       37032.0            Kelly Mullen   \n",
      "79                  Mason-Houston       28589.0            Lisa Walters   \n",
      "80                  Mason-Houston       78752.0            Marcus Garza   \n",
      "81                  Mason-Houston      108775.0           Nicholas Moon   \n",
      "82                  Mason-Houston       35533.0             Sean Stuart   \n",
      "83                  Mason-Houston       56133.0           Stefanie Lowe   \n",
      "84                  Mason-Houston      124049.0          William Mooney   \n",
      "85   Mcpherson, Kelly and Ramirez       37787.0             Adam George   \n",
      "86   Mcpherson, Kelly and Ramirez       97889.0            Ashley Ortiz   \n",
      "87   Mcpherson, Kelly and Ramirez       31366.0       Christina Herrera   \n",
      "88   Mcpherson, Kelly and Ramirez      105707.0        Christopher Hill   \n",
      "89   Mcpherson, Kelly and Ramirez       18760.0            Connie Ramos   \n",
      "90   Mcpherson, Kelly and Ramirez       41171.0      Cristina Rodriguez   \n",
      "91   Mcpherson, Kelly and Ramirez       92771.0          Darren Allison   \n",
      "92   Mcpherson, Kelly and Ramirez       17665.0             Dylan Young   \n",
      "93   Mcpherson, Kelly and Ramirez       68332.0              Holly Beck   \n",
      "94   Mcpherson, Kelly and Ramirez       83914.0          James Thompson   \n",
      "95   Mcpherson, Kelly and Ramirez       22359.0             Jeffrey Gay   \n",
      "96   Mcpherson, Kelly and Ramirez       32346.0             Karen Lopez   \n",
      "97   Mcpherson, Kelly and Ramirez       47773.0           Kevin Roberts   \n",
      "98   Mcpherson, Kelly and Ramirez       41951.0               Lee Adams   \n",
      "99   Mcpherson, Kelly and Ramirez      145426.0          Lindsey Martin   \n",
      "100  Mcpherson, Kelly and Ramirez      179538.0              Maria Ward   \n",
      "101  Mcpherson, Kelly and Ramirez      155888.0              Mary Perez   \n",
      "102  Mcpherson, Kelly and Ramirez       47475.0        Michaela Clayton   \n",
      "103  Mcpherson, Kelly and Ramirez       91286.0          Rhonda Farrell   \n",
      "104  Mcpherson, Kelly and Ramirez       65714.0            Sean Ramirez   \n",
      "105  Mcpherson, Kelly and Ramirez       66470.0             Shane Morse   \n",
      "106  Mcpherson, Kelly and Ramirez       90855.0           Stefanie Lowe   \n",
      "107                   Miller-Hale       41057.0             Adam George   \n",
      "108                   Miller-Hale       76794.0        Alexander Fuller   \n",
      "109                   Miller-Hale       38508.0            Breanna Cruz   \n",
      "110                   Miller-Hale       14713.0        Brittany Edwards   \n",
      "111                   Miller-Hale       38235.0        Brittney Jimenez   \n",
      "112                   Miller-Hale       66380.0    Christopher Garrison   \n",
      "113                   Miller-Hale       78119.0            Connie Ramos   \n",
      "114                   Miller-Hale       42233.0           Darryl Hudson   \n",
      "115                   Miller-Hale       54018.0             Debra Duran   \n",
      "116                   Miller-Hale       91890.0             Dylan Young   \n",
      "117                   Miller-Hale       38690.0          Gary Alexander   \n",
      "118                   Miller-Hale       73036.0         Isabel Martinez   \n",
      "119                   Miller-Hale       82742.0    Jacqueline Mcpherson   \n",
      "120                   Miller-Hale       94211.0            James Garner   \n",
      "121                   Miller-Hale       91544.0             Jared Lewis   \n",
      "122                   Miller-Hale       76828.0            Jeffrey Wolf   \n",
      "123                   Miller-Hale       95477.0           Kevin Roberts   \n",
      "124                   Miller-Hale       78460.0           Lisa Richards   \n",
      "125                   Miller-Hale       32915.0            Marcus Garza   \n",
      "126                   Miller-Hale       11778.0            Mary Watkins   \n",
      "127                   Miller-Hale       58810.0             Sean Stuart   \n",
      "128                   Miller-Hale       52472.0             Shawn Smith   \n",
      "129        Smith, Munoz and White       14736.0            Breanna Cruz   \n",
      "130        Smith, Munoz and White       97806.0        Brittney Jimenez   \n",
      "131        Smith, Munoz and White       22229.0    Christopher Garrison   \n",
      "132        Smith, Munoz and White       87983.0            Debra Lawson   \n",
      "133        Smith, Munoz and White       77636.0              James Berg   \n",
      "134        Smith, Munoz and White       78233.0          James Thompson   \n",
      "135        Smith, Munoz and White       40107.0             Jeffrey Gay   \n",
      "136        Smith, Munoz and White       36700.0            Jeffrey Wolf   \n",
      "137        Smith, Munoz and White       28009.0             Jesse Brown   \n",
      "138        Smith, Munoz and White       97257.0           Joseph Vaughn   \n",
      "139        Smith, Munoz and White       68982.0              Kyle Garza   \n",
      "140        Smith, Munoz and White       96504.0             Maria Davis   \n",
      "141        Smith, Munoz and White       60472.0           Stefanie Lowe   \n",
      "142        Smith, Munoz and White       69248.0        Steven Hernandez   \n",
      "143        Smith, Munoz and White      104125.0          William Mooney   \n",
      "144                    Thomas PLC       56696.0        Alexander Fuller   \n",
      "145                    Thomas PLC       10670.0           Alyssa Bowers   \n",
      "146                    Thomas PLC       56624.0       Christina Herrera   \n",
      "147                    Thomas PLC       78634.0         Christine Greer   \n",
      "148                    Thomas PLC       67475.0               Dawn King   \n",
      "149                    Thomas PLC       78514.0             Debra Duran   \n",
      "150                    Thomas PLC       87790.0             Dylan Young   \n",
      "151                    Thomas PLC       95098.0              Holly Beck   \n",
      "152                    Thomas PLC       77877.0          James Thompson   \n",
      "153                    Thomas PLC       56723.0             Jesse Brown   \n",
      "154                    Thomas PLC       53183.0          Richard Nguyen   \n",
      "155                    Thomas PLC       95071.0         Ronnie Anderson   \n",
      "156                    Thomas PLC      165327.0           Sara Thompson   \n",
      "157                    Thomas PLC       52347.0              Seth Miles   \n",
      "158                    Thomas PLC       41441.0           Stefanie Lowe   \n",
      "159                    Thomas PLC       10334.0        Steven Hernandez   \n",
      "160   Wilkerson, West and Donovan      161886.0             Adam George   \n",
      "161   Wilkerson, West and Donovan       78786.0        Alexander Fuller   \n",
      "162   Wilkerson, West and Donovan       76598.0            Breanna Cruz   \n",
      "163   Wilkerson, West and Donovan       86130.0       Caroline Melendez   \n",
      "164   Wilkerson, West and Donovan       76846.0         Christine Greer   \n",
      "165   Wilkerson, West and Donovan       11081.0    Christopher Garrison   \n",
      "166   Wilkerson, West and Donovan       61253.0         Derek Zimmerman   \n",
      "167   Wilkerson, West and Donovan       89689.0             Dylan Young   \n",
      "168   Wilkerson, West and Donovan       29183.0              Jacob Wall   \n",
      "169   Wilkerson, West and Donovan      145772.0           James Summers   \n",
      "170   Wilkerson, West and Donovan       23698.0            Jeffrey Wolf   \n",
      "171   Wilkerson, West and Donovan       77001.0             Jesse Brown   \n",
      "172   Wilkerson, West and Donovan       22423.0           Joseph Vaughn   \n",
      "173   Wilkerson, West and Donovan       97995.0         Kellie Espinoza   \n",
      "174   Wilkerson, West and Donovan       69253.0               Lee Adams   \n",
      "175   Wilkerson, West and Donovan       96331.0            Lisa Walters   \n",
      "176   Wilkerson, West and Donovan       20585.0             Sean Stuart   \n",
      "177   Wilkerson, West and Donovan       75861.0             Shawn Smith   \n",
      "\n",
      "     top_employee_amount  \n",
      "0                51523.0  \n",
      "1                50933.0  \n",
      "2                70925.0  \n",
      "3                62895.0  \n",
      "4                77748.0  \n",
      "5                96997.0  \n",
      "6                83945.0  \n",
      "7                84743.0  \n",
      "8                55995.0  \n",
      "9                34874.0  \n",
      "10               47609.0  \n",
      "11               56445.0  \n",
      "12               98263.0  \n",
      "13               78494.0  \n",
      "14               58083.0  \n",
      "15               19701.0  \n",
      "16               11376.0  \n",
      "17               13920.0  \n",
      "18               98705.0  \n",
      "19               90934.0  \n",
      "20               29949.0  \n",
      "21               64819.0  \n",
      "22               77215.0  \n",
      "23               41782.0  \n",
      "24               36873.0  \n",
      "25               22480.0  \n",
      "26               99831.0  \n",
      "27               72354.0  \n",
      "28               54344.0  \n",
      "29               58786.0  \n",
      "30               38264.0  \n",
      "31               55119.0  \n",
      "32               76289.0  \n",
      "33               76494.0  \n",
      "34               45126.0  \n",
      "35               45453.0  \n",
      "36               49868.0  \n",
      "37               57567.0  \n",
      "38               49000.0  \n",
      "39               82880.0  \n",
      "40               60731.0  \n",
      "41               49701.0  \n",
      "42               67049.0  \n",
      "43               68343.0  \n",
      "44               79977.0  \n",
      "45               98387.0  \n",
      "46               53257.0  \n",
      "47               86795.0  \n",
      "48               52884.0  \n",
      "49               41824.0  \n",
      "50               87027.0  \n",
      "51               17472.0  \n",
      "52               97887.0  \n",
      "53               48976.0  \n",
      "54               55648.0  \n",
      "55               17231.0  \n",
      "56               93752.0  \n",
      "57               24898.0  \n",
      "58               67940.0  \n",
      "59               63909.0  \n",
      "60               82196.0  \n",
      "61               19009.0  \n",
      "62               61271.0  \n",
      "63               78300.0  \n",
      "64               39851.0  \n",
      "65               62058.0  \n",
      "66               96334.0  \n",
      "67               88554.0  \n",
      "68               80540.0  \n",
      "69               89550.0  \n",
      "70               99403.0  \n",
      "71               50630.0  \n",
      "72               49180.0  \n",
      "73               65738.0  \n",
      "74               19396.0  \n",
      "75               73575.0  \n",
      "76               56179.0  \n",
      "77               52907.0  \n",
      "78               37032.0  \n",
      "79               28589.0  \n",
      "80               78752.0  \n",
      "81               71609.0  \n",
      "82               35533.0  \n",
      "83               30458.0  \n",
      "84               99124.0  \n",
      "85               37787.0  \n",
      "86               97889.0  \n",
      "87               31366.0  \n",
      "88               81646.0  \n",
      "89               18760.0  \n",
      "90               41171.0  \n",
      "91               92771.0  \n",
      "92               17665.0  \n",
      "93               68332.0  \n",
      "94               83914.0  \n",
      "95               22359.0  \n",
      "96               32346.0  \n",
      "97               47773.0  \n",
      "98               41951.0  \n",
      "99               91708.0  \n",
      "100              94021.0  \n",
      "101              87134.0  \n",
      "102              47475.0  \n",
      "103              91286.0  \n",
      "104              65714.0  \n",
      "105              66470.0  \n",
      "106              90855.0  \n",
      "107              41057.0  \n",
      "108              76794.0  \n",
      "109              38508.0  \n",
      "110              14713.0  \n",
      "111              38235.0  \n",
      "112              66380.0  \n",
      "113              78119.0  \n",
      "114              42233.0  \n",
      "115              54018.0  \n",
      "116              91890.0  \n",
      "117              38690.0  \n",
      "118              73036.0  \n",
      "119              82742.0  \n",
      "120              94211.0  \n",
      "121              91544.0  \n",
      "122              76828.0  \n",
      "123              95477.0  \n",
      "124              78460.0  \n",
      "125              32915.0  \n",
      "126              11778.0  \n",
      "127              58810.0  \n",
      "128              52472.0  \n",
      "129              14736.0  \n",
      "130              97806.0  \n",
      "131              22229.0  \n",
      "132              87983.0  \n",
      "133              77636.0  \n",
      "134              78233.0  \n",
      "135              40107.0  \n",
      "136              36700.0  \n",
      "137              28009.0  \n",
      "138              97257.0  \n",
      "139              68982.0  \n",
      "140              96504.0  \n",
      "141              60472.0  \n",
      "142              69248.0  \n",
      "143              55570.0  \n",
      "144              56696.0  \n",
      "145              10670.0  \n",
      "146              56624.0  \n",
      "147              78634.0  \n",
      "148              67475.0  \n",
      "149              78514.0  \n",
      "150              87790.0  \n",
      "151              95098.0  \n",
      "152              56087.0  \n",
      "153              56723.0  \n",
      "154              53183.0  \n",
      "155              95071.0  \n",
      "156              86151.0  \n",
      "157              52347.0  \n",
      "158              41441.0  \n",
      "159              10334.0  \n",
      "160              82140.0  \n",
      "161              78786.0  \n",
      "162              76598.0  \n",
      "163              86130.0  \n",
      "164              76846.0  \n",
      "165              11081.0  \n",
      "166              44764.0  \n",
      "167              89689.0  \n",
      "168              29183.0  \n",
      "169              85828.0  \n",
      "170              23698.0  \n",
      "171              77001.0  \n",
      "172              22423.0  \n",
      "173              97995.0  \n",
      "174              69253.0  \n",
      "175              96331.0  \n",
      "176              20585.0  \n",
      "177              75861.0  \n"
     ]
    },
    {
     "ename": "KeyboardInterrupt",
     "evalue": "Interrupted by user",
     "output_type": "error",
     "traceback": [
      "\u001b[1;31m---------------------------------------------------------------------------\u001b[0m",
      "\u001b[1;31mKeyboardInterrupt\u001b[0m                         Traceback (most recent call last)",
      "\u001b[1;32m~\\AppData\\Local\\Temp\\ipykernel_11816\\2543480874.py\u001b[0m in \u001b[0;36m<module>\u001b[1;34m\u001b[0m\n\u001b[0;32m     19\u001b[0m \u001b[1;33m\u001b[0m\u001b[0m\n\u001b[0;32m     20\u001b[0m \u001b[1;32mif\u001b[0m \u001b[0m__name__\u001b[0m \u001b[1;33m==\u001b[0m \u001b[1;34m\"__main__\"\u001b[0m\u001b[1;33m:\u001b[0m\u001b[1;33m\u001b[0m\u001b[1;33m\u001b[0m\u001b[0m\n\u001b[1;32m---> 21\u001b[1;33m     \u001b[0mmain\u001b[0m\u001b[1;33m(\u001b[0m\u001b[1;33m)\u001b[0m\u001b[1;33m\u001b[0m\u001b[1;33m\u001b[0m\u001b[0m\n\u001b[0m",
      "\u001b[1;32m~\\AppData\\Local\\Temp\\ipykernel_11816\\2543480874.py\u001b[0m in \u001b[0;36mmain\u001b[1;34m()\u001b[0m\n\u001b[0;32m      5\u001b[0m     \u001b[1;32mwith\u001b[0m \u001b[0mopen\u001b[0m\u001b[1;33m(\u001b[0m\u001b[1;34m'queries.txt'\u001b[0m\u001b[1;33m,\u001b[0m \u001b[1;34m'a'\u001b[0m\u001b[1;33m)\u001b[0m \u001b[1;32mas\u001b[0m \u001b[0mfile\u001b[0m\u001b[1;33m:\u001b[0m\u001b[1;33m\u001b[0m\u001b[1;33m\u001b[0m\u001b[0m\n\u001b[0;32m      6\u001b[0m         \u001b[1;32mwhile\u001b[0m \u001b[1;32mTrue\u001b[0m\u001b[1;33m:\u001b[0m\u001b[1;33m\u001b[0m\u001b[1;33m\u001b[0m\u001b[0m\n\u001b[1;32m----> 7\u001b[1;33m             \u001b[0mquery\u001b[0m \u001b[1;33m=\u001b[0m \u001b[0minput\u001b[0m\u001b[1;33m(\u001b[0m\u001b[1;34m'Enter your SQL query (or type \"exit\" to quit): '\u001b[0m\u001b[1;33m)\u001b[0m\u001b[1;33m\u001b[0m\u001b[1;33m\u001b[0m\u001b[0m\n\u001b[0m\u001b[0;32m      8\u001b[0m             \u001b[1;32mif\u001b[0m \u001b[0mquery\u001b[0m\u001b[1;33m.\u001b[0m\u001b[0mlower\u001b[0m\u001b[1;33m(\u001b[0m\u001b[1;33m)\u001b[0m \u001b[1;33m==\u001b[0m \u001b[1;34m'exit'\u001b[0m\u001b[1;33m:\u001b[0m\u001b[1;33m\u001b[0m\u001b[1;33m\u001b[0m\u001b[0m\n\u001b[0;32m      9\u001b[0m                 \u001b[1;32mbreak\u001b[0m\u001b[1;33m\u001b[0m\u001b[1;33m\u001b[0m\u001b[0m\n",
      "\u001b[1;32mC:\\ProgramData\\Anaconda3\\lib\\site-packages\\ipykernel\\kernelbase.py\u001b[0m in \u001b[0;36mraw_input\u001b[1;34m(self, prompt)\u001b[0m\n\u001b[0;32m   1175\u001b[0m                 \u001b[1;34m\"raw_input was called, but this frontend does not support input requests.\"\u001b[0m\u001b[1;33m\u001b[0m\u001b[1;33m\u001b[0m\u001b[0m\n\u001b[0;32m   1176\u001b[0m             )\n\u001b[1;32m-> 1177\u001b[1;33m         return self._input_request(\n\u001b[0m\u001b[0;32m   1178\u001b[0m             \u001b[0mstr\u001b[0m\u001b[1;33m(\u001b[0m\u001b[0mprompt\u001b[0m\u001b[1;33m)\u001b[0m\u001b[1;33m,\u001b[0m\u001b[1;33m\u001b[0m\u001b[1;33m\u001b[0m\u001b[0m\n\u001b[0;32m   1179\u001b[0m             \u001b[0mself\u001b[0m\u001b[1;33m.\u001b[0m\u001b[0m_parent_ident\u001b[0m\u001b[1;33m[\u001b[0m\u001b[1;34m\"shell\"\u001b[0m\u001b[1;33m]\u001b[0m\u001b[1;33m,\u001b[0m\u001b[1;33m\u001b[0m\u001b[1;33m\u001b[0m\u001b[0m\n",
      "\u001b[1;32mC:\\ProgramData\\Anaconda3\\lib\\site-packages\\ipykernel\\kernelbase.py\u001b[0m in \u001b[0;36m_input_request\u001b[1;34m(self, prompt, ident, parent, password)\u001b[0m\n\u001b[0;32m   1217\u001b[0m             \u001b[1;32mexcept\u001b[0m \u001b[0mKeyboardInterrupt\u001b[0m\u001b[1;33m:\u001b[0m\u001b[1;33m\u001b[0m\u001b[1;33m\u001b[0m\u001b[0m\n\u001b[0;32m   1218\u001b[0m                 \u001b[1;31m# re-raise KeyboardInterrupt, to truncate traceback\u001b[0m\u001b[1;33m\u001b[0m\u001b[1;33m\u001b[0m\u001b[0m\n\u001b[1;32m-> 1219\u001b[1;33m                 \u001b[1;32mraise\u001b[0m \u001b[0mKeyboardInterrupt\u001b[0m\u001b[1;33m(\u001b[0m\u001b[1;34m\"Interrupted by user\"\u001b[0m\u001b[1;33m)\u001b[0m \u001b[1;32mfrom\u001b[0m \u001b[1;32mNone\u001b[0m\u001b[1;33m\u001b[0m\u001b[1;33m\u001b[0m\u001b[0m\n\u001b[0m\u001b[0;32m   1220\u001b[0m             \u001b[1;32mexcept\u001b[0m \u001b[0mException\u001b[0m\u001b[1;33m:\u001b[0m\u001b[1;33m\u001b[0m\u001b[1;33m\u001b[0m\u001b[0m\n\u001b[0;32m   1221\u001b[0m                 \u001b[0mself\u001b[0m\u001b[1;33m.\u001b[0m\u001b[0mlog\u001b[0m\u001b[1;33m.\u001b[0m\u001b[0mwarning\u001b[0m\u001b[1;33m(\u001b[0m\u001b[1;34m\"Invalid Message:\"\u001b[0m\u001b[1;33m,\u001b[0m \u001b[0mexc_info\u001b[0m\u001b[1;33m=\u001b[0m\u001b[1;32mTrue\u001b[0m\u001b[1;33m)\u001b[0m\u001b[1;33m\u001b[0m\u001b[1;33m\u001b[0m\u001b[0m\n",
      "\u001b[1;31mKeyboardInterrupt\u001b[0m: Interrupted by user"
     ]
    }
   ],
   "source": [
    "def main():\n",
    "    conn, cursor = create_database()\n",
    "\n",
    " \n",
    "    with open('queries.txt', 'a') as file:\n",
    "        while True:\n",
    "            query = input('Enter your SQL query (or type \"exit\" to quit): ')\n",
    "            if query.lower() == 'exit':\n",
    "                break\n",
    "\n",
    "\n",
    "            file.write(query + '\\n')\n",
    "\n",
    "            result = execute_query(conn, cursor, query)\n",
    "            print(result)\n",
    "\n",
    "  \n",
    "    conn.close()\n",
    "\n",
    "if __name__ == \"__main__\":\n",
    "    main()"
   ]
  },
  {
   "cell_type": "markdown",
   "id": "bb3a57b0",
   "metadata": {},
   "source": [
    "##### answer: WITH MaxOrder AS (  SELECT   client_id, employee_id,  MAX(amount) as max_amount   FROM orders   GROUP BY client_id, employee_id)  SELECT   ct.client_name,   SUM(o.amount) as total_amount,   e.name as top_employee_name,    mo.max_amount as top_employee_amount FROM clients ct INNER JOIN orders o ON ct.client_id = o.client_id INNER JOIN employees e ON o.employee_id = e.employee_id  INNER JOIN MaxOrder mo ON ct.client_id = mo.client_id AND o.employee_id = mo.employee_id GROUP BY ct.client_name, e.name, mo.max_amount ORDER BY ct.client_name;"
   ]
  },
  {
   "cell_type": "markdown",
   "id": "52340101",
   "metadata": {},
   "source": [
    "#### question 22: For each industry, list the client with the highest total order amount, along with that total amount. If there's a tie for the highest total order amount within an industry, list all tied clients. Display the industry, client name, and their total order amount."
   ]
  },
  {
   "cell_type": "code",
   "execution_count": 4,
   "id": "a4c2dba9",
   "metadata": {},
   "outputs": [
    {
     "name": "stdout",
     "output_type": "stream",
     "text": [
      "Enter your SQL query (or type \"exit\" to quit): WITH TotalOrder AS (     SELECT c.industry, c.client_name, SUM(o.amount) AS total_amount     FROM clients c     JOIN orders o ON c.client_id = o.client_id     GROUP BY c.industry, c.client_name ), MaxOrder AS (     SELECT industry, MAX(total_amount) AS max_amount     FROM TotalOrder     GROUP BY industry ) SELECT t.industry, t.client_name, t.total_amount FROM TotalOrder t JOIN MaxOrder m ON t.industry = m.industry AND t.total_amount = m.max_amount ORDER BY t.industry, t.client_name;\n",
      "                                industry                 client_name  \\\n",
      "0       Ameliorated heuristic throughput          Hernandez and Sons   \n",
      "1               Inverse local time-frame              Smith-Williams   \n",
      "2              Monitored static protocol                 Hill-Holmes   \n",
      "3  Multi-layered tangible knowledge user  Perez, Garcia and Thornton   \n",
      "4       Operative regional orchestration               Woodard-Jones   \n",
      "5       Robust eco-centric knowledgebase             Harris and Sons   \n",
      "6   Streamlined object-oriented capacity        Christensen and Sons   \n",
      "7         Synergized demand-driven frame               Mata-Martinez   \n",
      "8   Universal reciprocal instruction set                Leblanc-Rice   \n",
      "9        Virtual next generation adapter              Simmons-Morgan   \n",
      "\n",
      "   total_amount  \n",
      "0      679788.0  \n",
      "1     1278951.0  \n",
      "2     1401195.0  \n",
      "3      923575.0  \n",
      "4     1386727.0  \n",
      "5     1025605.0  \n",
      "6     1049509.0  \n",
      "7     1312284.0  \n",
      "8      864233.0  \n",
      "9      936755.0  \n",
      "Enter your SQL query (or type \"exit\" to quit): exit\n"
     ]
    }
   ],
   "source": [
    "def main():\n",
    "    conn, cursor = create_database()\n",
    "\n",
    " \n",
    "    with open('queries.txt', 'a') as file:\n",
    "        while True:\n",
    "            query = input('Enter your SQL query (or type \"exit\" to quit): ')\n",
    "            if query.lower() == 'exit':\n",
    "                break\n",
    "\n",
    "\n",
    "            file.write(query + '\\n')\n",
    "\n",
    "            result = execute_query(conn, cursor, query)\n",
    "            print(result)\n",
    "\n",
    "  \n",
    "    conn.close()\n",
    "\n",
    "if __name__ == \"__main__\":\n",
    "    main()"
   ]
  },
  {
   "cell_type": "markdown",
   "id": "cb0fee28",
   "metadata": {},
   "source": [
    "##### WITH TotalOrder AS ( SELECT c.industry, c.client_name, SUM(o.amount) AS total_amount FROM clients c JOIN orders o ON c.client_id = o.client_id GROUP BY c.industry, c.client_name), MaxOrder AS ( SELECT industry, MAX(total_amount) AS max_amount FROM TotalOrder GROUP BY industry) SELECT t.industry, t.client_name, t.total_amount FROM TotalOrder t JOIN MaxOrder m ON t.industry = m.industry AND t.total_amount = m.max_amount ORDER BY t.industry, t.client_name;"
   ]
  },
  {
   "cell_type": "markdown",
   "id": "0d0cd95c",
   "metadata": {},
   "source": [
    "#### question 23: Find the employees who have achieved the highest total sales amount in each industry. Additionally, retrieve the corresponding industry and the total sales amount for these employees."
   ]
  },
  {
   "cell_type": "code",
   "execution_count": 5,
   "id": "b0f3da75",
   "metadata": {},
   "outputs": [
    {
     "name": "stdout",
     "output_type": "stream",
     "text": [
      "Enter your SQL query (or type \"exit\" to quit): WITH empsales AS (     SELECT c.industry, s.employee_id, SUM(s.amount) AS total_amount     FROM clients c     INNER JOIN sales s ON c.client_id = s.client_id     GROUP BY c.industry, s.employee_id ),  highest AS (     SELECT industry, MAX(total_amount) AS highest_sales     FROM empsales     GROUP BY industry )  SELECT h.industry, e.employee_id, h.highest_sales FROM highest h INNER JOIN empsales e ON h.industry = e.industry AND h.highest_sales = e.total_amount;\n",
      "                                    industry  employee_id  highest_sales\n",
      "0      Advanced mission-critical parallelism           15        45610.0\n",
      "1  Assimilated logistical Local Area Network           42        86403.0\n",
      "2             Centralized actuating paradigm           39        59249.0\n",
      "3      Enhanced 6thgeneration info-mediaries            8        34225.0\n",
      "4       Managed mission-critical flexibility           78        85291.0\n",
      "5     Multi-lateral national instruction set            6        80972.0\n",
      "6                      Robust hybrid support           51        97048.0\n",
      "7  Upgradable contextually-based utilization           58        34403.0\n",
      "8           Virtual client-server monitoring           17        79505.0\n",
      "Enter your SQL query (or type \"exit\" to quit): exit\n"
     ]
    }
   ],
   "source": [
    "def main():\n",
    "    conn, cursor = create_database()\n",
    "\n",
    " \n",
    "    with open('queries.txt', 'a') as file:\n",
    "        while True:\n",
    "            query = input('Enter your SQL query (or type \"exit\" to quit): ')\n",
    "            if query.lower() == 'exit':\n",
    "                break\n",
    "\n",
    "\n",
    "            file.write(query + '\\n')\n",
    "\n",
    "            result = execute_query(conn, cursor, query)\n",
    "            print(result)\n",
    "\n",
    "  \n",
    "    conn.close()\n",
    "\n",
    "if __name__ == \"__main__\":\n",
    "    main()"
   ]
  },
  {
   "cell_type": "markdown",
   "id": "0a68d4ea",
   "metadata": {},
   "source": [
    "##### answer: WITH empsales AS ( SELECT c.industry, s.employee_id, SUM(s.amount) AS total_amount FROM clients c  INNER JOIN sales s ON c.client_id = s.client_id GROUP BY c.industry, s.employee_id), highest AS ( SELECT industry, MAX(total_amount) AS highest_sales FROM empsales GROUP BY industry ) SELECT h.industry, e.employee_id, h.highest_sales FROM highest h INNER JOIN empsales e ON h.industry = e.industry AND h.highest_sales = e.total_amount;"
   ]
  },
  {
   "cell_type": "markdown",
   "id": "8a868595",
   "metadata": {},
   "source": [
    "#### question 24: For each project, identify the department that has the most employees working on it. If multiple departments have the same maximum number of employees for a project, list all such departments. Provide the project name, department name, and the number of employees."
   ]
  },
  {
   "cell_type": "code",
   "execution_count": 8,
   "id": "89a4602c",
   "metadata": {},
   "outputs": [
    {
     "name": "stdout",
     "output_type": "stream",
     "text": [
      "Enter your SQL query (or type \"exit\" to quit): with project1 as (     select          p.project_name,          d.department_name,          count(distinct ep.employee_id) as nb,         ROW_NUMBER() OVER(PARTITION BY p.project_name ORDER BY count(distinct ep.employee_id) DESC) as rn     from projects p      inner join employee_projects ep on p.project_id = ep.project_id     inner join employees e on e.employee_id = ep.employee_id     inner join departments d on d.department_id = e.department_id     group by p.project_name, d.department_name )  select      project_name,     department_name,     nb from project1 where rn = 1 order by project_name;\n",
      "                                  project_name  \\\n",
      "0  Diverse logistical Graphical User Interface   \n",
      "1              Horizontal user-facing paradigm   \n",
      "2               Organized 3rdgeneration portal   \n",
      "3           Phased human-resource architecture   \n",
      "4          Phased responsive pricing structure   \n",
      "5           Stand-alone bottom-line task-force   \n",
      "6    Synergized background process improvement   \n",
      "7     Team-oriented human-resource methodology   \n",
      "8   Triple-buffered background standardization   \n",
      "9        Vision-oriented human-resource matrix   \n",
      "\n",
      "                  department_name  nb  \n",
      "0  Therapist, speech and language   4  \n",
      "1  Therapist, speech and language   3  \n",
      "2           Management consultant   3  \n",
      "3           Management consultant   3  \n",
      "4              Theme park manager   2  \n",
      "5              Theme park manager   1  \n",
      "6  Therapist, speech and language   2  \n",
      "7        Engineer, communications   3  \n",
      "8          Primary school teacher   3  \n",
      "9  Therapist, speech and language   1  \n",
      "Enter your SQL query (or type \"exit\" to quit): with project1 as (     select          p.project_name,          d.department_name,          count(distinct ep.employee_id) as nb     from projects p      inner join employee_projects ep on p.project_id = ep.project_id     inner join employees e on e.employee_id = ep.employee_id     inner join departments d on d.department_id = e.department_id     group by p.project_name, d.department_name ),   highest as (     select          project_name,          max(nb) as high      from project1      group by project_name )  select      a.project_name,     b.department_name,     a.high from highest a inner join project1 b on a.project_name = b.project_name and a.high = b.nb order by a.project_name;\n",
      "                                   project_name  \\\n",
      "0   Diverse logistical Graphical User Interface   \n",
      "1               Horizontal user-facing paradigm   \n",
      "2               Horizontal user-facing paradigm   \n",
      "3                Organized 3rdgeneration portal   \n",
      "4            Phased human-resource architecture   \n",
      "5           Phased responsive pricing structure   \n",
      "6           Phased responsive pricing structure   \n",
      "7            Stand-alone bottom-line task-force   \n",
      "8            Stand-alone bottom-line task-force   \n",
      "9            Stand-alone bottom-line task-force   \n",
      "10           Stand-alone bottom-line task-force   \n",
      "11           Stand-alone bottom-line task-force   \n",
      "12    Synergized background process improvement   \n",
      "13    Synergized background process improvement   \n",
      "14     Team-oriented human-resource methodology   \n",
      "15   Triple-buffered background standardization   \n",
      "16   Triple-buffered background standardization   \n",
      "17        Vision-oriented human-resource matrix   \n",
      "18        Vision-oriented human-resource matrix   \n",
      "19        Vision-oriented human-resource matrix   \n",
      "20        Vision-oriented human-resource matrix   \n",
      "21        Vision-oriented human-resource matrix   \n",
      "22        Vision-oriented human-resource matrix   \n",
      "23        Vision-oriented human-resource matrix   \n",
      "\n",
      "                    department_name  high  \n",
      "0    Therapist, speech and language     4  \n",
      "1               Animal nutritionist     3  \n",
      "2    Therapist, speech and language     3  \n",
      "3             Management consultant     3  \n",
      "4             Management consultant     3  \n",
      "5   Administrator, local government     2  \n",
      "6                Theme park manager     2  \n",
      "7   Accountant, chartered certified     1  \n",
      "8               Animal nutritionist     1  \n",
      "9                        Oncologist     1  \n",
      "10           Primary school teacher     1  \n",
      "11               Theme park manager     1  \n",
      "12                       Oncologist     2  \n",
      "13   Therapist, speech and language     2  \n",
      "14         Engineer, communications     3  \n",
      "15              Animal nutritionist     3  \n",
      "16           Primary school teacher     3  \n",
      "17  Accountant, chartered certified     1  \n",
      "18  Administrator, local government     1  \n",
      "19              Animal nutritionist     1  \n",
      "20            Management consultant     1  \n",
      "21   Teaching laboratory technician     1  \n",
      "22               Theme park manager     1  \n",
      "23   Therapist, speech and language     1  \n",
      "Enter your SQL query (or type \"exit\" to quit): exit\n"
     ]
    }
   ],
   "source": [
    "def main():\n",
    "    conn, cursor = create_database()\n",
    "\n",
    " \n",
    "    with open('queries.txt', 'a') as file:\n",
    "        while True:\n",
    "            query = input('Enter your SQL query (or type \"exit\" to quit): ')\n",
    "            if query.lower() == 'exit':\n",
    "                break\n",
    "\n",
    "\n",
    "            file.write(query + '\\n')\n",
    "\n",
    "            result = execute_query(conn, cursor, query)\n",
    "            print(result)\n",
    "\n",
    "  \n",
    "    conn.close()\n",
    "\n",
    "if __name__ == \"__main__\":\n",
    "    main()"
   ]
  },
  {
   "cell_type": "markdown",
   "id": "8f769e47",
   "metadata": {},
   "source": [
    "##### answer: with project1 as ( select p.project_name, d.department_name,  count(distinct ep.employee_id) as nb from projects p inner join employee_projects ep on p.project_id = ep.project_id inner join employees e on e.employee_id = ep.employee_id inner join departments d on d.department_id = e.department_id group by p.project_name, d.department_name),  highest as (  select  project_name,  max(nb) as high from project1  group by project_name) select   a.project_name, b.department_name, a.high from highest a inner join project1 b on a.project_name = b.project_name and a.high = b.nb order by a.project_name;"
   ]
  },
  {
   "cell_type": "markdown",
   "id": "263d8b1d",
   "metadata": {},
   "source": [
    "#### question 25: For each client, retrieve the name of the employee who has the highest total order amount. If there are ties, display all employees tied for the highest amount. Also, display the respective total order amount for those employees."
   ]
  },
  {
   "cell_type": "code",
   "execution_count": 4,
   "id": "78b11ab3",
   "metadata": {},
   "outputs": [
    {
     "name": "stdout",
     "output_type": "stream",
     "text": [
      "Enter your SQL query (or type \"exit\" to quit): WITH totalorderamount AS (     SELECT          c.client_name,         e.name,         SUM(o.amount) AS amount     FROM clients c      INNER JOIN orders o ON o.client_id = c.client_id      INNER JOIN employees e ON e.employee_id = o.employee_id      GROUP BY c.client_name, e.name ),  maxamount AS (     SELECT          client_name,         MAX(amount) AS nbr     FROM totalorderamount     GROUP BY client_name )  SELECT      a.client_name,     b.name,     a.nbr FROM maxamount a INNER JOIN totalorderamount b ON a.client_name = b.client_name AND a.nbr = b.amount ORDER BY a.nbr DESC;\n",
      "                client_name              name       nbr\n",
      "0            Sharp and Sons        Anne Young  174893.0\n",
      "1             Davis-Maxwell          Amy Pena  148886.0\n",
      "2  Clark, Smith and Swanson   Antonio Lindsey  147201.0\n",
      "3             Wade-Reynolds  Katherine Rivera  136164.0\n",
      "4                 Davis Ltd     Mark Williams  119380.0\n",
      "5            Riley and Sons   Kenneth Sanchez  111828.0\n",
      "6                   Lee PLC     Robert French  108872.0\n",
      "7           Fisher and Sons    Henry Williams   99450.0\n",
      "8                Carr Group       April Price   96870.0\n",
      "9                   Ho-Long        Marie Lutz   90609.0\n",
      "Enter your SQL query (or type \"exit\" to quit): exit\n"
     ]
    }
   ],
   "source": [
    "def main():\n",
    "    conn, cursor = create_database()\n",
    "\n",
    " \n",
    "    with open('queries.txt', 'a') as file:\n",
    "        while True:\n",
    "            query = input('Enter your SQL query (or type \"exit\" to quit): ')\n",
    "            if query.lower() == 'exit':\n",
    "                break\n",
    "\n",
    "\n",
    "            file.write(query + '\\n')\n",
    "\n",
    "            result = execute_query(conn, cursor, query)\n",
    "            print(result)\n",
    "\n",
    "  \n",
    "    conn.close()\n",
    "\n",
    "if __name__ == \"__main__\":\n",
    "    main()"
   ]
  },
  {
   "cell_type": "markdown",
   "id": "e313192c",
   "metadata": {},
   "source": [
    "##### WITH totalorderamount AS (     SELECT          c.client_name,         e.name,         SUM(o.amount) AS amount     FROM clients c      INNER JOIN orders o ON o.client_id = c.client_id      INNER JOIN employees e ON e.employee_id = o.employee_id      GROUP BY c.client_name, e.name ),  maxamount AS (     SELECT          client_name,         MAX(amount) AS nbr     FROM totalorderamount     GROUP BY client_name )  SELECT      a.client_name,     b.name,     a.nbr FROM maxamount a INNER JOIN totalorderamount b ON a.client_name = b.client_name AND a.nbr = b.amount ORDER BY a.nbr DESC;"
   ]
  },
  {
   "cell_type": "markdown",
   "id": "bb5a3ebf",
   "metadata": {},
   "source": [
    "#### question 26: Find the top two employees in each department based on their total sales amount. Display the department name, employee name, and their total sales."
   ]
  },
  {
   "cell_type": "code",
   "execution_count": 7,
   "id": "35e8b35c",
   "metadata": {},
   "outputs": [
    {
     "name": "stdout",
     "output_type": "stream",
     "text": [
      "Enter your SQL query (or type \"exit\" to quit): WITH RankedSales AS (     SELECT          d.department_name,          e.name,          SUM(s.amount) AS total_sales,          ROW_NUMBER() OVER (PARTITION BY d.department_name ORDER BY SUM(s.amount) DESC) AS rank     FROM          departments d      JOIN          employees e ON e.department_id = d.department_id     JOIN          sales s ON s.employee_id = e.employee_id     GROUP BY          d.department_name, e.name ) SELECT      department_name, name, total_sales  FROM      RankedSales  WHERE      rank <= 2 ORDER BY      department_name, rank;\n",
      "                        department_name             name  total_sales\n",
      "0                        Dramatherapist   Megan Reynolds      87718.0\n",
      "1                        Dramatherapist  Richard Kennedy      46994.0\n",
      "2                          Estate agent       Paul Davis     165339.0\n",
      "3                          Estate agent        Eric Yang      90024.0\n",
      "4   Exhibitions officer, museum/gallery     Teresa Terry      83227.0\n",
      "5                         IT consultant  Michael Camacho      22998.0\n",
      "6                Museum/gallery curator     Cody Douglas     160454.0\n",
      "7                Museum/gallery curator     John Coleman      83309.0\n",
      "8                        Office manager       Karen Vega     114438.0\n",
      "9                        Office manager     Lee Jacobson      33162.0\n",
      "10            Psychologist, educational  Shelley Gilbert      65444.0\n",
      "11            Psychologist, educational  Michelle Mccann      29736.0\n",
      "12                       Quarry manager       Anne Singh      57112.0\n",
      "13                       Quarry manager     Thomas Green      28042.0\n",
      "14               Race relations officer    Jennifer Shaw      63220.0\n",
      "15                  Trade mark attorney       Robert Lee      57224.0\n",
      "16                  Trade mark attorney     Kelsey Smith      55011.0\n",
      "Enter your SQL query (or type \"exit\" to quit): exit\n"
     ]
    }
   ],
   "source": [
    "def main():\n",
    "    conn, cursor = create_database()\n",
    "\n",
    " \n",
    "    with open('queries.txt', 'a') as file:\n",
    "        while True:\n",
    "            query = input('Enter your SQL query (or type \"exit\" to quit): ')\n",
    "            if query.lower() == 'exit':\n",
    "                break\n",
    "\n",
    "\n",
    "            file.write(query + '\\n')\n",
    "\n",
    "            result = execute_query(conn, cursor, query)\n",
    "            print(result)\n",
    "\n",
    "  \n",
    "    conn.close()\n",
    "\n",
    "if __name__ == \"__main__\":\n",
    "    main()"
   ]
  },
  {
   "cell_type": "markdown",
   "id": "a90510c6",
   "metadata": {},
   "source": [
    "##### WITH RankedSales AS (     SELECT          d.department_name,          e.name,          SUM(s.amount) AS total_sales,          ROW_NUMBER() OVER (PARTITION BY d.department_name ORDER BY SUM(s.amount) DESC) AS rank     FROM          departments d      JOIN          employees e ON e.department_id = d.department_id     JOIN          sales s ON s.employee_id = e.employee_id     GROUP BY          d.department_name, e.name ) SELECT      department_name, name, total_sales  FROM      RankedSales  WHERE      rank <= 2 ORDER BY      department_name, rank;"
   ]
  },
  {
   "cell_type": "markdown",
   "id": "0958cbd8",
   "metadata": {},
   "source": [
    "#### question 27: For every department, find the employee who has worked on the highest number of unique projects. If there's a tie between employees, consider the one with the lowest employee_id. Additionally, for each of these top employees, fetch their involvement with the client for whom they've had the maximum sales amount. If they haven't made any sales, display NULL for client details.\n",
    "##### The result should display:\n",
    "###### Department name\n",
    "###### Employee name\n",
    "###### Number of unique projects\n",
    "###### Client's name with the maximum sales\n",
    "###### Maximum sales amount for that client"
   ]
  },
  {
   "cell_type": "code",
   "execution_count": 8,
   "id": "81ebfb55",
   "metadata": {},
   "outputs": [
    {
     "name": "stdout",
     "output_type": "stream",
     "text": [
      "Enter your SQL query (or type \"exit\" to quit): WITH hisproject AS (     SELECT          d.department_name,         e.employee_id,         e.name,         COUNT(DISTINCT ep.project_id) AS uniquePrject     FROM departments d     JOIN employees e ON e.department_id= d.department_id     JOIN employee_projects ep ON ep.employee_id= e.employee_id     GROUP BY d.department_name, e.employee_id, e.name ),  hightprject AS (     SELECT          department_name,         employee_id,         name,         uniquePrject,         ROW_NUMBER() OVER (PARTITION BY department_name ORDER BY uniquePrject DESC, employee_id ASC) as rn     FROM hisproject ),  topsales AS (     SELECT         e.employee_id,         c.client_name,         SUM(s.amount) AS total_sales     FROM employees e     JOIN sales s ON s.employee_id = e.employee_id     JOIN clients c ON c.client_id = s.client_id     GROUP BY e.employee_id, c.client_name )  SELECT      h.department_name,     h.name,     h.uniquePrject,     ts.client_name,     MAX(ts.total_sales) OVER (PARTITION BY h.employee_id) as max_sales FROM hightprject h LEFT JOIN topsales ts ON ts.employee_id = h.employee_id WHERE h.rn = 1 ORDER BY h.department_name, h.name;\n",
      "                department_name                name  uniquePrject  \\\n",
      "0                 Art therapist       Hunter Brandt             3   \n",
      "1   Community education officer        Deanna Smith             2   \n",
      "2            Forensic scientist   Kelsey Williamson             2   \n",
      "3                Futures trader  Dr. Helen Brown MD             2   \n",
      "4                Futures trader  Dr. Helen Brown MD             2   \n",
      "5                     Osteopath     Joshua Fletcher             2   \n",
      "6                Phytotherapist           John Bell             2   \n",
      "7    Psychologist, occupational         Adam Gibson             5   \n",
      "8          Public house manager        Matthew West             2   \n",
      "9            Surveyor, building          Haley Tran             2   \n",
      "10    Trading standards officer     Douglas Wiggins             2   \n",
      "\n",
      "     client_name  max_sales  \n",
      "0           None        NaN  \n",
      "1           None        NaN  \n",
      "2           None        NaN  \n",
      "3   Smith-Torres    89624.0  \n",
      "4   Thompson Ltd    89624.0  \n",
      "5    Noble Group    96922.0  \n",
      "6     Greene Inc    42832.0  \n",
      "7           None        NaN  \n",
      "8           None        NaN  \n",
      "9           None        NaN  \n",
      "10          None        NaN  \n",
      "Enter your SQL query (or type \"exit\" to quit): exit\n"
     ]
    }
   ],
   "source": [
    "def main():\n",
    "    conn, cursor = create_database()\n",
    "\n",
    " \n",
    "    with open('queries.txt', 'a') as file:\n",
    "        while True:\n",
    "            query = input('Enter your SQL query (or type \"exit\" to quit): ')\n",
    "            if query.lower() == 'exit':\n",
    "                break\n",
    "\n",
    "\n",
    "            file.write(query + '\\n')\n",
    "\n",
    "            result = execute_query(conn, cursor, query)\n",
    "            print(result)\n",
    "\n",
    "  \n",
    "    conn.close()\n",
    "\n",
    "if __name__ == \"__main__\":\n",
    "    main()"
   ]
  },
  {
   "cell_type": "markdown",
   "id": "a61693d6",
   "metadata": {},
   "source": [
    "##### answer: WITH hisproject AS (     SELECT          d.department_name,         e.employee_id,         e.name,         COUNT(DISTINCT ep.project_id) AS uniquePrject     FROM departments d     JOIN employees e ON e.department_id= d.department_id     JOIN employee_projects ep ON ep.employee_id= e.employee_id     GROUP BY d.department_name, e.employee_id, e.name ),  hightprject AS (     SELECT          department_name,         employee_id,         name,         uniquePrject,         ROW_NUMBER() OVER (PARTITION BY department_name ORDER BY uniquePrject DESC, employee_id ASC) as rn     FROM hisproject ),  topsales AS (     SELECT         e.employee_id,         c.client_name,         SUM(s.amount) AS total_sales     FROM employees e     JOIN sales s ON s.employee_id = e.employee_id     JOIN clients c ON c.client_id = s.client_id     GROUP BY e.employee_id, c.client_name )  SELECT      h.department_name,     h.name,     h.uniquePrject,     ts.client_name,     MAX(ts.total_sales) OVER (PARTITION BY h.employee_id) as max_sales FROM hightprject h LEFT JOIN topsales ts ON ts.employee_id = h.employee_id WHERE h.rn = 1 ORDER BY h.department_name, h.name;"
   ]
  },
  {
   "cell_type": "code",
   "execution_count": 19,
   "id": "22ad8fad",
   "metadata": {},
   "outputs": [],
   "source": [
    "import sqlite3\n",
    "import pandas as pd\n",
    "from faker import Faker\n",
    "\n",
    "def create_challenge_database():\n",
    "    fake = Faker()\n",
    "    conn = sqlite3.connect(':memory:')\n",
    "    cursor = conn.cursor()\n",
    "\n",
    "    cursor.execute('''\n",
    "        CREATE TABLE authors (\n",
    "            author_id INTEGER PRIMARY KEY,\n",
    "            name TEXT NOT NULL,\n",
    "            birthdate DATE,\n",
    "            bio TEXT\n",
    "        )\n",
    "    ''')\n",
    "    authors = [(fake.name(), fake.date_of_birth(minimum_age=20, maximum_age=60, tzinfo=None), fake.text(max_nb_chars=200) if fake.boolean(chance_of_getting_true=80) else None) for _ in range(10)]\n",
    "    cursor.executemany('INSERT INTO authors (name, birthdate, bio) VALUES (?, ?, ?)', authors)\n",
    "\n",
    "\n",
    "    cursor.execute('''\n",
    "        CREATE TABLE books (\n",
    "            book_id INTEGER PRIMARY KEY,\n",
    "            title TEXT NOT NULL,\n",
    "            publication_date DATE,\n",
    "            author_id INTEGER,\n",
    "            FOREIGN KEY (author_id) REFERENCES authors(author_id)\n",
    "        )\n",
    "    ''')\n",
    "    books = [(fake.sentence(nb_words=5), fake.date_between(start_date=\"-10y\", end_date=\"today\"), fake.random_int(min=1, max=10)) for _ in range(50)]\n",
    "    cursor.executemany('INSERT INTO books (title, publication_date, author_id) VALUES (?, ?, ?)', books)\n",
    "\n",
    "\n",
    "    cursor.execute('''\n",
    "        CREATE TABLE reviews (\n",
    "            review_id INTEGER PRIMARY KEY,\n",
    "            book_id INTEGER,\n",
    "            review_date DATE,\n",
    "            rating INTEGER,\n",
    "            review_text TEXT,\n",
    "            FOREIGN KEY (book_id) REFERENCES books(book_id)\n",
    "        )\n",
    "    ''')\n",
    "    reviews = [(fake.random_int(min=1, max=50), fake.date_between(start_date=\"-3y\", end_date=\"today\"), fake.random_int(min=1, max=5), fake.text(max_nb_chars=200)) for _ in range(100)]\n",
    "    cursor.executemany('INSERT INTO reviews (book_id, review_date, rating, review_text) VALUES (?, ?, ?, ?)', reviews)\n",
    "\n",
    "    cursor.execute('''\n",
    "        CREATE TABLE transactions (\n",
    "            transaction_id INTEGER PRIMARY KEY,\n",
    "            book_id INTEGER,\n",
    "            purchase_date DATE,\n",
    "            amount REAL,\n",
    "            payment_method TEXT,\n",
    "            FOREIGN KEY (book_id) REFERENCES books(book_id)\n",
    "        )\n",
    "    ''')\n",
    "    payment_methods = ['Credit Card', 'PayPal', 'Cash', 'Bank Transfer']\n",
    "    transactions = [(fake.random_int(min=1, max=50), fake.date_between(start_date=\"-1y\", end_date=\"today\"), fake.random_number(digits=5, fix_len=True), fake.random_element(payment_methods)) for _ in range(200)]\n",
    "    cursor.executemany('INSERT INTO transactions (book_id, purchase_date, amount, payment_method) VALUES (?, ?, ?, ?)', transactions)\n",
    "\n",
    "    conn.commit()\n",
    "    return conn, cursor\n"
   ]
  },
  {
   "cell_type": "code",
   "execution_count": 20,
   "id": "b16dabee",
   "metadata": {},
   "outputs": [],
   "source": [
    "def execute_query(conn, cursor, query):\n",
    "    try:\n",
    "        cursor.execute(query)\n",
    "        results = cursor.fetchall()\n",
    "        columns = [desc[0] for desc in cursor.description]\n",
    "        df = pd.DataFrame(results, columns=columns)\n",
    "        return df\n",
    "    except sqlite3.Error as e:\n",
    "        return f\"Error: {e}\""
   ]
  },
  {
   "cell_type": "markdown",
   "id": "b7d24433",
   "metadata": {},
   "source": [
    "#### question 28: Find all authors whose birthdate falls on a Monday. Return the author's name and their birthdate."
   ]
  },
  {
   "cell_type": "code",
   "execution_count": 17,
   "id": "cd5d241e",
   "metadata": {},
   "outputs": [
    {
     "name": "stdout",
     "output_type": "stream",
     "text": [
      "Enter your SQL query (or type \"exit\" to quit): SELECT name, birthdate, strftime('%w', birthdate)  FROM authors \n",
      "               name   birthdate strftime('%w', birthdate)\n",
      "0         Lee Moore  1976-08-01                         0\n",
      "1       Jason Jones  1969-03-03                         1\n",
      "2  Stephanie Wilcox  1982-11-18                         4\n",
      "3      Diane Potter  1998-12-23                         3\n",
      "4     Amber Barrett  1983-01-07                         5\n",
      "5    James Martinez  1999-12-11                         6\n",
      "6    Richard Hughes  1975-02-01                         6\n",
      "7    Andrea Morales  1968-02-29                         4\n",
      "8     Jeffrey Reyes  2000-01-29                         6\n",
      "9   Stephanie Brown  1979-10-26                         5\n",
      "Enter your SQL query (or type \"exit\" to quit): exit\n"
     ]
    }
   ],
   "source": [
    "def main():\n",
    "    conn, cursor = create_challenge_database()\n",
    "\n",
    "    with open('queries.txt', 'a') as file:\n",
    "        while True:\n",
    "            query = input('Enter your SQL query (or type \"exit\" to quit): ')\n",
    "            if query.lower() == 'exit':\n",
    "                break\n",
    "\n",
    "            file.write(query + '\\n')\n",
    "\n",
    "            result = execute_query(conn, cursor, query)\n",
    "            print(result)\n",
    "\n",
    "    conn.close()\n",
    "\n",
    "if __name__ == \"__main__\":\n",
    "    main()"
   ]
  },
  {
   "cell_type": "markdown",
   "id": "7d7d4c92",
   "metadata": {},
   "source": [
    "##### answer: SELECT name, birthdate, strftime('%w', birthdate)  FROM authors"
   ]
  },
  {
   "cell_type": "markdown",
   "id": "a0b38725",
   "metadata": {},
   "source": [
    "###### question 29: Given the transactions and books tables, retrieve the title of each book, its publication year, the year of its most recent sale, and categorize each book into one of the following:\n",
    "\n",
    "###### \"New Release\" if the book was published in the current year and has been sold at least once this year.\n",
    "###### \"Recent Bestseller\" if the book was published in the last 3 years (excluding the current year) and had a transaction in the current year.\n",
    "###### \"Classic\" if the book was published more than 3 years ago and had a transaction in the current year.\n",
    "###### \"Out of Print\" if there hasn't been a sale of the book in the current year."
   ]
  },
  {
   "cell_type": "code",
   "execution_count": 21,
   "id": "a0dc7631",
   "metadata": {},
   "outputs": [
    {
     "name": "stdout",
     "output_type": "stream",
     "text": [
      "Enter your SQL query (or type \"exit\" to quit): WITH RankedTransactions AS ( SELECT book_id, MAX(strftime('%Y', purchase_date)) AS last_sale_year FROM transactions GROUP BY book_id ) SELECT b.title, strftime('%Y', b.publication_date) AS publication_year, r.last_sale_year, CASE WHEN strftime('%Y', b.publication_date) = strftime('%Y', 'now') AND strftime('%Y', 'now') = r.last_sale_year THEN 'New Release' WHEN strftime('%Y', b.publication_date) BETWEEN strftime('%Y', date('now', '-3 years')) AND strftime('%Y', date('now', '-1 years')) AND strftime('%Y', 'now') = r.last_sale_year THEN 'Recent Bestseller' WHEN strftime('%Y', b.publication_date) < strftime('%Y', date('now', '-3 years')) AND strftime('%Y', 'now') = r.last_sale_year THEN 'Classic' ELSE 'Out of Print' END AS category FROM books b LEFT JOIN RankedTransactions r ON b.book_id = r.book_id ORDER BY r.last_sale_year DESC;\n",
      "                                                  title publication_year  \\\n",
      "0                                      Fund happy fire.             2018   \n",
      "1                 One example rest expert their energy.             2021   \n",
      "2                      Prevent thing decade check same.             2018   \n",
      "3                              Kid field son determine.             2015   \n",
      "4                                   Meeting admit each.             2021   \n",
      "5                                Month newspaper short.             2023   \n",
      "6                         Long pay relationship record.             2018   \n",
      "7                                    Spring maybe star.             2018   \n",
      "8                            Finally exactly son force.             2018   \n",
      "9                        Model green rock act age stop.             2021   \n",
      "10                      Song section offer center edge.             2017   \n",
      "11                                  Conference sit two.             2020   \n",
      "12  Likely student conference meeting reason authority.             2021   \n",
      "13                   So citizen son economic skin unit.             2023   \n",
      "14                                 Senior me professor.             2014   \n",
      "15                Feel us drive better require evening.             2022   \n",
      "16                          Physical pretty word woman.             2014   \n",
      "17      Rather win relationship everybody class impact.             2018   \n",
      "18                            Remain military girl air.             2017   \n",
      "19               Difficult middle able lay senior food.             2020   \n",
      "20                           Democratic beautiful nice.             2017   \n",
      "21                       Join hand example involve hot.             2016   \n",
      "22    Skin everybody positive significant pattern away.             2018   \n",
      "23                               Life speak bar notice.             2016   \n",
      "24            Be tonight since there begin information.             2020   \n",
      "25                          Even camera mouth resource.             2019   \n",
      "26                       World enough its stand member.             2017   \n",
      "27                        Artist wonder reveal program.             2015   \n",
      "28         Word late energy item experience technology.             2018   \n",
      "29                              Oil describe statement.             2021   \n",
      "30            Center half energy star trip top evening.             2015   \n",
      "31                                   Detail floor soon.             2018   \n",
      "32                                     Happy or course.             2016   \n",
      "33                          Phone help guy list degree.             2015   \n",
      "34                      White now good important major.             2021   \n",
      "35                                      Would for hear.             2016   \n",
      "36               Role physical threat investment reach.             2014   \n",
      "37              Manage impact case film level describe.             2018   \n",
      "38                 Worker material clear including own.             2016   \n",
      "39                           Arrive unit may chair now.             2015   \n",
      "40                      Institution low take join tree.             2017   \n",
      "41                  Miss key make case control college.             2017   \n",
      "42               President western reality option upon.             2021   \n",
      "43                           Baby while dream computer.             2015   \n",
      "44    Store better himself hospital player performance.             2022   \n",
      "45                                      Tree party key.             2016   \n",
      "46                        Bit goal doctor value behind.             2020   \n",
      "47        Professor magazine without dog enter prepare.             2018   \n",
      "48                      Modern while five bed arm some.             2020   \n",
      "49                   Peace per threat plan agent happy.             2017   \n",
      "\n",
      "   last_sale_year           category  \n",
      "0            2023            Classic  \n",
      "1            2023  Recent Bestseller  \n",
      "2            2023            Classic  \n",
      "3            2023            Classic  \n",
      "4            2023  Recent Bestseller  \n",
      "5            2023        New Release  \n",
      "6            2023            Classic  \n",
      "7            2023            Classic  \n",
      "8            2023            Classic  \n",
      "9            2023  Recent Bestseller  \n",
      "10           2023            Classic  \n",
      "11           2023  Recent Bestseller  \n",
      "12           2023  Recent Bestseller  \n",
      "13           2023        New Release  \n",
      "14           2023            Classic  \n",
      "15           2023  Recent Bestseller  \n",
      "16           2023            Classic  \n",
      "17           2023            Classic  \n",
      "18           2023            Classic  \n",
      "19           2023  Recent Bestseller  \n",
      "20           2023            Classic  \n",
      "21           2023            Classic  \n",
      "22           2023            Classic  \n",
      "23           2023            Classic  \n",
      "24           2023  Recent Bestseller  \n",
      "25           2023            Classic  \n",
      "26           2023            Classic  \n",
      "27           2023            Classic  \n",
      "28           2023            Classic  \n",
      "29           2023  Recent Bestseller  \n",
      "30           2023            Classic  \n",
      "31           2023            Classic  \n",
      "32           2023            Classic  \n",
      "33           2023            Classic  \n",
      "34           2023  Recent Bestseller  \n",
      "35           2023            Classic  \n",
      "36           2023            Classic  \n",
      "37           2023            Classic  \n",
      "38           2023            Classic  \n",
      "39           2023            Classic  \n",
      "40           2023            Classic  \n",
      "41           2023            Classic  \n",
      "42           2023  Recent Bestseller  \n",
      "43           2023            Classic  \n",
      "44           2023  Recent Bestseller  \n",
      "45           2022       Out of Print  \n",
      "46           2022       Out of Print  \n",
      "47           2022       Out of Print  \n",
      "48           2022       Out of Print  \n",
      "49           None       Out of Print  \n",
      "Enter your SQL query (or type \"exit\" to quit): exit\n"
     ]
    }
   ],
   "source": [
    "def main():\n",
    "    conn, cursor = create_challenge_database()\n",
    "\n",
    "    with open('queries.txt', 'a') as file:\n",
    "        while True:\n",
    "            query = input('Enter your SQL query (or type \"exit\" to quit): ')\n",
    "            if query.lower() == 'exit':\n",
    "                break\n",
    "\n",
    "            file.write(query + '\\n')\n",
    "\n",
    "            result = execute_query(conn, cursor, query)\n",
    "            print(result)\n",
    "\n",
    "    conn.close()\n",
    "\n",
    "if __name__ == \"__main__\":\n",
    "    main()"
   ]
  },
  {
   "cell_type": "markdown",
   "id": "6027d5a3",
   "metadata": {},
   "source": [
    "##### answer: WITH RankedTransactions AS (     SELECT          book_id,         MAX(strftime('%Y', purchase_date)) AS last_sale_year     FROM transactions     GROUP BY book_id )  SELECT      b.title,     strftime('%Y', b.publication_date) AS publication_year,     r.last_sale_year,     CASE          WHEN strftime('%Y', b.publication_date) = strftime('%Y', 'now') AND strftime('%Y', 'now') = r.last_sale_year THEN 'New Release'         WHEN strftime('%Y', b.publication_date) BETWEEN strftime('%Y', date('now', '-3 years')) AND strftime('%Y', date('now', '-1 years')) AND strftime('%Y', 'now') = r.last_sale_year THEN 'Recent Bestseller'         WHEN strftime('%Y', b.publication_date) < strftime('%Y', date('now', '-3 years')) AND strftime('%Y', 'now') = r.last_sale_year THEN 'Classic'         ELSE 'Out of Print'     END AS category FROM books b LEFT JOIN RankedTransactions r ON b.book_id = r.book_id ORDER BY r.last_sale_year DESC;"
   ]
  },
  {
   "cell_type": "markdown",
   "id": "076a5eab",
   "metadata": {},
   "source": [
    "#### question 30: Create a report that lists all the authors who have sold books in the last 12 months.\n",
    "#### For each author, identify their most popular book in terms of sales count during this period.\n",
    "#### Display the author name, book title, and total sales count of that book.\n",
    "#### Additionally, categorize the authors based on their overall sales volume during this period:\n",
    "#### \"Bestseller\": Authors with more than 100 sales.\n",
    "#### \"Promising\": Authors with sales between 50 and 100.\n",
    "#### \"Emerging\": Authors with less than 50 sales.\n",
    "#### Order the result based on the sales count of the most popular book in descending order."
   ]
  },
  {
   "cell_type": "code",
   "execution_count": 21,
   "id": "afab7127",
   "metadata": {},
   "outputs": [
    {
     "name": "stdout",
     "output_type": "stream",
     "text": [
      "Enter your SQL query (or type \"exit\" to quit): WITH auth12 AS (     SELECT          a.name AS name,          b.title AS title,          COUNT(t.transaction_id) AS nbr,          ROW_NUMBER() OVER (PARTITION BY a.name ORDER BY COUNT(t.transaction_id) DESC) AS rank      FROM authors a      INNER JOIN books b ON a.author_id = b.author_id      INNER JOIN transactions t ON b.book_id = t.book_id     WHERE t.purchase_date > strftime('%Y-%m-%d', 'now', '-1 years')     GROUP BY a.name, b.title )  SELECT      name,      title,      nbr,     CASE          WHEN nbr > 100 THEN 'Bestseller'         WHEN nbr BETWEEN 50 AND 100 THEN 'Promising'         ELSE 'Emerging'      END AS category  FROM auth12 WHERE rank = 1 ORDER BY nbr DESC;\n",
      "                 name                                            title  nbr  \\\n",
      "0      Barbara Rogers              Few compare case know explain live.   10   \n",
      "1          Bruce Cole                Message bad price above resource.    7   \n",
      "2     Hannah Gonzalez           Total effect both through window case.    7   \n",
      "3      Joseph Johnson  Beat research law brother player account throw.    7   \n",
      "4      Aaron Anderson                 Interview exactly green realize.    6   \n",
      "5        Sarah Morgan                            Fine treatment offer.    6   \n",
      "6        Wanda Garcia                             Quickly bar nothing.    6   \n",
      "7  Patricia Wilkinson                 Method stage doctor least build.    5   \n",
      "8         Julie Jones       Lot under last popular however everything.    4   \n",
      "9    Rebecca Mcdonald                           Treatment get feeling.    4   \n",
      "\n",
      "   category  \n",
      "0  Emerging  \n",
      "1  Emerging  \n",
      "2  Emerging  \n",
      "3  Emerging  \n",
      "4  Emerging  \n",
      "5  Emerging  \n",
      "6  Emerging  \n",
      "7  Emerging  \n",
      "8  Emerging  \n",
      "9  Emerging  \n",
      "Enter your SQL query (or type \"exit\" to quit): exit\n"
     ]
    }
   ],
   "source": [
    "def main():\n",
    "    conn, cursor = create_challenge_database()\n",
    "\n",
    "    with open('queries.txt', 'a') as file:\n",
    "        while True:\n",
    "            query = input('Enter your SQL query (or type \"exit\" to quit): ')\n",
    "            if query.lower() == 'exit':\n",
    "                break\n",
    "\n",
    "            file.write(query + '\\n')\n",
    "\n",
    "            result = execute_query(conn, cursor, query)\n",
    "            print(result)\n",
    "\n",
    "    conn.close()\n",
    "\n",
    "if __name__ == \"__main__\":\n",
    "    main()"
   ]
  },
  {
   "cell_type": "markdown",
   "id": "f4147877",
   "metadata": {},
   "source": [
    "##### answer: WITH auth12 AS (     SELECT          a.name AS name,          b.title AS title,          COUNT(t.transaction_id) AS nbr,          ROW_NUMBER() OVER (PARTITION BY a.name ORDER BY COUNT(t.transaction_id) DESC) AS rank      FROM authors a      INNER JOIN books b ON a.author_id = b.author_id      INNER JOIN transactions t ON b.book_id = t.book_id     WHERE t.purchase_date > strftime('%Y-%m-%d', 'now', '-1 years')     GROUP BY a.name, b.title )  SELECT      name,      title,      nbr,     CASE          WHEN nbr > 100 THEN 'Bestseller'         WHEN nbr BETWEEN 50 AND 100 THEN 'Promising'         ELSE 'Emerging'      END AS category  FROM auth12 WHERE rank = 1 ORDER BY nbr DESC;"
   ]
  },
  {
   "cell_type": "markdown",
   "id": "169ab3c7",
   "metadata": {},
   "source": [
    "#### question 31: Identify books that were sold on leap years."
   ]
  },
  {
   "cell_type": "code",
   "execution_count": 4,
   "id": "27d14401",
   "metadata": {},
   "outputs": [
    {
     "name": "stdout",
     "output_type": "stream",
     "text": [
      "Enter your SQL query (or type \"exit\" to quit): SELECT DISTINCT b.title, strftime('%Y', t.purchase_date) as sale_year FROM transactions t JOIN books b ON t.book_id = b.book_id WHERE (strftime('%Y', t.purchase_date) % 4 = 0 AND (strftime('%Y', t.purchase_date) % 100 != 0 OR strftime('%Y', t.purchase_date) % 400 = 0));\n",
      "Empty DataFrame\n",
      "Columns: [title, sale_year]\n",
      "Index: []\n",
      "Enter your SQL query (or type \"exit\" to quit): exit\n"
     ]
    }
   ],
   "source": [
    "def main():\n",
    "    conn, cursor = create_challenge_database()\n",
    "\n",
    "    with open('queries.txt', 'a') as file:\n",
    "        while True:\n",
    "            query = input('Enter your SQL query (or type \"exit\" to quit): ')\n",
    "            if query.lower() == 'exit':\n",
    "                break\n",
    "\n",
    "            file.write(query + '\\n')\n",
    "\n",
    "            result = execute_query(conn, cursor, query)\n",
    "            print(result)\n",
    "\n",
    "    conn.close()\n",
    "\n",
    "if __name__ == \"__main__\":\n",
    "    main()"
   ]
  },
  {
   "cell_type": "markdown",
   "id": "e4d324c8",
   "metadata": {},
   "source": [
    "##### answer: SELECT DISTINCT b.title, strftime('%Y', t.purchase_date) as sale_year FROM transactions t JOIN books b ON t.book_id = b.book_id WHERE (strftime('%Y', t.purchase_date) % 4 = 0 AND (strftime('%Y', t.purchase_date) % 100 != 0 OR strftime('%Y', t.purchase_date) % 400 = 0));"
   ]
  },
  {
   "cell_type": "markdown",
   "id": "108f1b79",
   "metadata": {},
   "source": [
    "#### question 32: Find books where the month of publication is the same as the month of the author's birthdate."
   ]
  },
  {
   "cell_type": "code",
   "execution_count": 22,
   "id": "1b587333",
   "metadata": {},
   "outputs": [
    {
     "name": "stdout",
     "output_type": "stream",
     "text": [
      "Enter your SQL query (or type \"exit\" to quit): SELECT a.name, b.title, strftime('%m', b.publication_date) as publication_month, strftime('%m', a.birthdate) as birth_month FROM authors a JOIN books b ON a.author_id = b.author_id WHERE strftime('%m', b.publication_date) = strftime('%m', a.birthdate);\n",
      "                 name                                   title  \\\n",
      "0  Jacqueline Sanders        Major pull nor require off draw.   \n",
      "1         Robert Shea        Least tonight under who various.   \n",
      "2       Martin Barnes  Might we chance its significant whose.   \n",
      "\n",
      "  publication_month birth_month  \n",
      "0                05          05  \n",
      "1                07          07  \n",
      "2                11          11  \n",
      "Enter your SQL query (or type \"exit\" to quit): exit\n"
     ]
    }
   ],
   "source": [
    "def main():\n",
    "    conn, cursor = create_challenge_database()\n",
    "\n",
    "    with open('queries.txt', 'a') as file:\n",
    "        while True:\n",
    "            query = input('Enter your SQL query (or type \"exit\" to quit): ')\n",
    "            if query.lower() == 'exit':\n",
    "                break\n",
    "\n",
    "            file.write(query + '\\n')\n",
    "\n",
    "            result = execute_query(conn, cursor, query)\n",
    "            print(result)\n",
    "\n",
    "    conn.close()\n",
    "\n",
    "if __name__ == \"__main__\":\n",
    "    main()"
   ]
  },
  {
   "cell_type": "markdown",
   "id": "299c19b9",
   "metadata": {},
   "source": [
    "##### answer: SELECT a.name, b.title, strftime('%m', b.publication_date) as publication_month, strftime('%m', a.birthdate) as birth_month FROM authors a JOIN books b ON a.author_id = b.author_id WHERE strftime('%m', b.publication_date) = strftime('%m', a.birthdate);"
   ]
  },
  {
   "cell_type": "markdown",
   "id": "6adf6cba",
   "metadata": {},
   "source": [
    "#### question 33: Determine the Fibonacci sequence of book prices."
   ]
  },
  {
   "cell_type": "code",
   "execution_count": 23,
   "id": "8804325a",
   "metadata": {},
   "outputs": [
    {
     "name": "stdout",
     "output_type": "stream",
     "text": [
      "Enter your SQL query (or type \"exit\" to quit): WITH RECURSIVE Fibonacci(n, a, b) AS ( SELECT 1, 0, 1 UNION ALL SELECT n+1, b, a+b FROM Fibonacci WHERE n<1000 ) SELECT DISTINCT transactions.amount FROM transactions WHERE instr((SELECT group_concat(b, ',') FROM Fibonacci), transactions.amount) > 0;\n",
      "Empty DataFrame\n",
      "Columns: [amount]\n",
      "Index: []\n",
      "Enter your SQL query (or type \"exit\" to quit): exit\n"
     ]
    }
   ],
   "source": [
    "def main():\n",
    "    conn, cursor = create_challenge_database()\n",
    "\n",
    "    with open('queries.txt', 'a') as file:\n",
    "        while True:\n",
    "            query = input('Enter your SQL query (or type \"exit\" to quit): ')\n",
    "            if query.lower() == 'exit':\n",
    "                break\n",
    "\n",
    "            file.write(query + '\\n')\n",
    "\n",
    "            result = execute_query(conn, cursor, query)\n",
    "            print(result)\n",
    "\n",
    "    conn.close()\n",
    "\n",
    "if __name__ == \"__main__\":\n",
    "    main()"
   ]
  },
  {
   "cell_type": "markdown",
   "id": "dc5197c4",
   "metadata": {},
   "source": [
    "##### answer: WITH RECURSIVE Fibonacci(n, a, b) AS (     SELECT 1, 0, 1     UNION ALL     SELECT n+1, b, a+b FROM Fibonacci WHERE n<1000 )  SELECT DISTINCT transactions.amount FROM transactions WHERE instr((SELECT group_concat(b, ',') FROM Fibonacci), transactions.amount) > 0;"
   ]
  },
  {
   "cell_type": "markdown",
   "id": "e81edd74",
   "metadata": {},
   "source": [
    "#### question 35: Which author's book titles, on average, have the most instances of the letter 'a' (case-insensitive)?"
   ]
  },
  {
   "cell_type": "code",
   "execution_count": 8,
   "id": "f338a309",
   "metadata": {},
   "outputs": [
    {
     "name": "stdout",
     "output_type": "stream",
     "text": [
      "Enter your SQL query (or type \"exit\" to quit): WITH TitleLetterCount AS (     SELECT author_id,             (LENGTH(title) - LENGTH(REPLACE(LOWER(title), 'a', ''))) as a_count     FROM books )  SELECT a.name, AVG(tlc.a_count) as average_a_count FROM TitleLetterCount tlc JOIN authors a ON a.author_id = tlc.author_id GROUP BY a.name ORDER BY average_a_count DESC LIMIT 1;\n",
      "           name  average_a_count\n",
      "0  Richard Wood              3.0\n",
      "Enter your SQL query (or type \"exit\" to quit): exit\n"
     ]
    }
   ],
   "source": [
    "def main():\n",
    "    conn, cursor = create_challenge_database()\n",
    "\n",
    "    with open('queries.txt', 'a') as file:\n",
    "        while True:\n",
    "            query = input('Enter your SQL query (or type \"exit\" to quit): ')\n",
    "            if query.lower() == 'exit':\n",
    "                break\n",
    "\n",
    "            file.write(query + '\\n')\n",
    "\n",
    "            result = execute_query(conn, cursor, query)\n",
    "            print(result)\n",
    "\n",
    "    conn.close()\n",
    "\n",
    "if __name__ == \"__main__\":\n",
    "    main()"
   ]
  },
  {
   "cell_type": "markdown",
   "id": "b01b4c7a",
   "metadata": {},
   "source": [
    "##### answer:  WITH TitleLetterCount AS (     SELECT author_id,             (LENGTH(title) - LENGTH(REPLACE(LOWER(title), 'a', ''))) as a_count     FROM books )  SELECT a.name, AVG(tlc.a_count) as average_a_count FROM TitleLetterCount tlc JOIN authors a ON a.author_id = tlc.author_id GROUP BY a.name ORDER BY average_a_count DESC LIMIT 1;"
   ]
  },
  {
   "cell_type": "markdown",
   "id": "5c2085e7",
   "metadata": {},
   "source": [
    "#### question 36: Find out the day of the week on which most of the books are sold."
   ]
  },
  {
   "cell_type": "code",
   "execution_count": 9,
   "id": "3fc1ab43",
   "metadata": {},
   "outputs": [
    {
     "name": "stdout",
     "output_type": "stream",
     "text": [
      "Enter your SQL query (or type \"exit\" to quit): SELECT strftime('%w', purchase_date) as day_of_week,         COUNT(transaction_id) as transaction_count FROM transactions GROUP BY day_of_week ORDER BY transaction_count DESC LIMIT 1;\n",
      "  day_of_week  transaction_count\n",
      "0           3                 38\n",
      "Enter your SQL query (or type \"exit\" to quit): exit\n"
     ]
    }
   ],
   "source": [
    "def main():\n",
    "    conn, cursor = create_challenge_database()\n",
    "\n",
    "    with open('queries.txt', 'a') as file:\n",
    "        while True:\n",
    "            query = input('Enter your SQL query (or type \"exit\" to quit): ')\n",
    "            if query.lower() == 'exit':\n",
    "                break\n",
    "\n",
    "            file.write(query + '\\n')\n",
    "\n",
    "            result = execute_query(conn, cursor, query)\n",
    "            print(result)\n",
    "\n",
    "    conn.close()\n",
    "\n",
    "if __name__ == \"__main__\":\n",
    "    main()"
   ]
  },
  {
   "cell_type": "markdown",
   "id": "4c86f49d",
   "metadata": {},
   "source": [
    "##### answer: SELECT strftime('%w', purchase_date) as day_of_week,         COUNT(transaction_id) as transaction_count FROM transactions GROUP BY day_of_week ORDER BY transaction_count DESC LIMIT 1;"
   ]
  },
  {
   "cell_type": "markdown",
   "id": "b96151f0",
   "metadata": {},
   "source": [
    "#### question 37: Find out if there are any books that have been reviewed more times than they've been purchased."
   ]
  },
  {
   "cell_type": "code",
   "execution_count": 10,
   "id": "2682f191",
   "metadata": {},
   "outputs": [
    {
     "name": "stdout",
     "output_type": "stream",
     "text": [
      "Enter your SQL query (or type \"exit\" to quit): WITH BookPurchaseCount AS (     SELECT book_id, COUNT(transaction_id) as purchase_count     FROM transactions     GROUP BY book_id ), BookReviewCount AS (     SELECT book_id, COUNT(review_id) as review_count     FROM reviews     GROUP BY book_id )  SELECT b.title,         rpc.purchase_count,         rrc.review_count FROM books b JOIN BookPurchaseCount rpc ON b.book_id = rpc.book_id JOIN BookReviewCount rrc ON b.book_id = rrc.book_id WHERE rrc.review_count > rpc.purchase_count;\n",
      "                                         title  purchase_count  review_count\n",
      "0                  Stage heavy piece national.               1             3\n",
      "1                       Account mouth soldier.               1             2\n",
      "2               Card main allow subject never.               2             3\n",
      "3  Might doctor material work manage whatever.               3             7\n",
      "4                             Risk first them.               2             4\n",
      "5                             State yet radio.               1             3\n",
      "Enter your SQL query (or type \"exit\" to quit): exit\n"
     ]
    }
   ],
   "source": [
    "def main():\n",
    "    conn, cursor = create_challenge_database()\n",
    "\n",
    "    with open('queries.txt', 'a') as file:\n",
    "        while True:\n",
    "            query = input('Enter your SQL query (or type \"exit\" to quit): ')\n",
    "            if query.lower() == 'exit':\n",
    "                break\n",
    "\n",
    "            file.write(query + '\\n')\n",
    "\n",
    "            result = execute_query(conn, cursor, query)\n",
    "            print(result)\n",
    "\n",
    "    conn.close()\n",
    "\n",
    "if __name__ == \"__main__\":\n",
    "    main()"
   ]
  },
  {
   "cell_type": "markdown",
   "id": "6936872a",
   "metadata": {},
   "source": [
    "##### answer: with BookPurchaseCount AS (     SELECT book_id, COUNT(transaction_id) as purchase_count     FROM transactions     GROUP BY book_id ), BookReviewCount AS (     SELECT book_id, COUNT(review_id) as review_count     FROM reviews     GROUP BY book_id )  SELECT b.title,         rpc.purchase_count,         rrc.review_count FROM books b JOIN BookPurchaseCount rpc ON b.book_id = rpc.book_id JOIN BookReviewCount rrc ON b.book_id = rrc.book_id WHERE rrc.review_count > rpc.purchase_count;"
   ]
  },
  {
   "cell_type": "markdown",
   "id": "1e7327fa",
   "metadata": {},
   "source": [
    "#### question 38: Determine the percentage of an author's life (up to today's date) during which they've had published books available."
   ]
  },
  {
   "cell_type": "code",
   "execution_count": 11,
   "id": "13515ba1",
   "metadata": {},
   "outputs": [
    {
     "name": "stdout",
     "output_type": "stream",
     "text": [
      "Enter your SQL query (or type \"exit\" to quit): WITH AuthorFirstLastPublication AS (     SELECT author_id, MIN(publication_date) as first_date, MAX(publication_date) as last_date     FROM books     GROUP BY author_id )  SELECT a.name,         ((julianday(aflp.last_date) - julianday(aflp.first_date)) / (julianday('now') - julianday(a.birthdate))) * 100 as percentage_life FROM AuthorFirstLastPublication aflp JOIN authors a ON a.author_id = aflp.author_id ORDER BY percentage_life DESC;\n",
      "              name  percentage_life\n",
      "0    Larry Griffin        31.440272\n",
      "1      Timothy Lee        30.570214\n",
      "2     Angela White        19.419681\n",
      "3   Patrick Mendez        18.238995\n",
      "4    James Hickman        16.882739\n",
      "5    Chad Browning        14.203893\n",
      "6  Wesley Thompson        11.748758\n",
      "7     Anna Sherman         8.525375\n",
      "8    Curtis Harris         7.268006\n",
      "9   Travis Anthony         7.104591\n",
      "Enter your SQL query (or type \"exit\" to quit): exit\n"
     ]
    }
   ],
   "source": [
    "def main():\n",
    "    conn, cursor = create_challenge_database()\n",
    "\n",
    "    with open('queries.txt', 'a') as file:\n",
    "        while True:\n",
    "            query = input('Enter your SQL query (or type \"exit\" to quit): ')\n",
    "            if query.lower() == 'exit':\n",
    "                break\n",
    "\n",
    "            file.write(query + '\\n')\n",
    "\n",
    "            result = execute_query(conn, cursor, query)\n",
    "            print(result)\n",
    "\n",
    "    conn.close()\n",
    "\n",
    "if __name__ == \"__main__\":\n",
    "    main()"
   ]
  },
  {
   "cell_type": "markdown",
   "id": "509de05b",
   "metadata": {},
   "source": [
    "##### answer: WITH AuthorFirstLastPublication AS (     SELECT author_id, MIN(publication_date) as first_date, MAX(publication_date) as last_date     FROM books     GROUP BY author_id )  SELECT a.name,         ((julianday(aflp.last_date) - julianday(aflp.first_date)) / (julianday('now') - julianday(a.birthdate))) * 100 as percentage_life FROM AuthorFirstLastPublication aflp JOIN authors a ON a.author_id = aflp.author_id ORDER BY percentage_life DESC;"
   ]
  },
  {
   "cell_type": "markdown",
   "id": "27ad5e12",
   "metadata": {},
   "source": [
    "#### question 39: Find the author who has the highest average word count in their book titles."
   ]
  },
  {
   "cell_type": "code",
   "execution_count": 12,
   "id": "b8151499",
   "metadata": {},
   "outputs": [
    {
     "name": "stdout",
     "output_type": "stream",
     "text": [
      "Enter your SQL query (or type \"exit\" to quit): WITH BookWordCount AS (     SELECT author_id,             (LENGTH(title) - LENGTH(REPLACE(title, ' ', '')) + 1) as word_count     FROM books )  SELECT a.name, AVG(bwc.word_count) as average_word_count FROM BookWordCount bwc JOIN authors a ON a.author_id = bwc.author_id GROUP BY a.name ORDER BY average_word_count DESC LIMIT 1;\n",
      "          name  average_word_count\n",
      "0  Karen Davis                 6.0\n",
      "Enter your SQL query (or type \"exit\" to quit): exit\n"
     ]
    }
   ],
   "source": [
    "def main():\n",
    "    conn, cursor = create_challenge_database()\n",
    "\n",
    "    with open('queries.txt', 'a') as file:\n",
    "        while True:\n",
    "            query = input('Enter your SQL query (or type \"exit\" to quit): ')\n",
    "            if query.lower() == 'exit':\n",
    "                break\n",
    "\n",
    "            file.write(query + '\\n')\n",
    "\n",
    "            result = execute_query(conn, cursor, query)\n",
    "            print(result)\n",
    "\n",
    "    conn.close()\n",
    "\n",
    "if __name__ == \"__main__\":\n",
    "    main()"
   ]
  },
  {
   "cell_type": "markdown",
   "id": "977d6daf",
   "metadata": {},
   "source": [
    "##### answer: WITH BookWordCount AS (     SELECT author_id,  (LENGTH(title) - LENGTH(REPLACE(title, ' ', '')) + 1) as word_count     FROM books )  SELECT a.name, AVG(bwc.word_count) as average_word_count FROM BookWordCount bwc JOIN authors a ON a.author_id = bwc.author_id GROUP BY a.name ORDER BY average_word_count DESC LIMIT 1;"
   ]
  },
  {
   "cell_type": "markdown",
   "id": "c3b7753c",
   "metadata": {},
   "source": [
    "#### question 40: Determine the number of distinct words used in book titles per author, then rank the authors based on this count."
   ]
  },
  {
   "cell_type": "code",
   "execution_count": 13,
   "id": "ab50d534",
   "metadata": {},
   "outputs": [
    {
     "name": "stdout",
     "output_type": "stream",
     "text": [
      "Enter your SQL query (or type \"exit\" to quit): WITH AuthorWords AS (     SELECT author_id,             SUM(LENGTH(title) - LENGTH(REPLACE(title, ' ', '')) + 1) as word_count     FROM books     GROUP BY author_id )  SELECT a.name, aw.word_count FROM AuthorWords aw JOIN authors a ON aw.author_id = a.author_id ORDER BY aw.word_count DESC;\n",
      "              name  word_count\n",
      "0      Sarah Perez          38\n",
      "1  Stacey Anderson          35\n",
      "2    Susan Walters          32\n",
      "3   Charles Farmer          30\n",
      "4      Jason White          18\n",
      "5  Matthew Jackson          15\n",
      "6     Justin Allen          15\n",
      "7     Melissa Hess          15\n",
      "8     Jim Fletcher          14\n",
      "9    Arthur Parker           9\n",
      "Enter your SQL query (or type \"exit\" to quit): exit\n"
     ]
    }
   ],
   "source": [
    "def main():\n",
    "    conn, cursor = create_challenge_database()\n",
    "\n",
    "    with open('queries.txt', 'a') as file:\n",
    "        while True:\n",
    "            query = input('Enter your SQL query (or type \"exit\" to quit): ')\n",
    "            if query.lower() == 'exit':\n",
    "                break\n",
    "\n",
    "            file.write(query + '\\n')\n",
    "\n",
    "            result = execute_query(conn, cursor, query)\n",
    "            print(result)\n",
    "\n",
    "    conn.close()\n",
    "\n",
    "if __name__ == \"__main__\":\n",
    "    main()"
   ]
  },
  {
   "cell_type": "markdown",
   "id": "e136a446",
   "metadata": {},
   "source": [
    "##### answer: WITH AuthorWords AS (     SELECT author_id,             SUM(LENGTH(title) - LENGTH(REPLACE(title, ' ', '')) + 1) as word_count     FROM books     GROUP BY author_id )  SELECT a.name, aw.word_count FROM AuthorWords aw JOIN authors a ON aw.author_id = a.author_id ORDER BY aw.word_count DESC;"
   ]
  },
  {
   "cell_type": "markdown",
   "id": "0143ef96",
   "metadata": {},
   "source": [
    "#### question 41: Which authors have their birthdate in the same month as the highest number of their book publications?"
   ]
  },
  {
   "cell_type": "code",
   "execution_count": 24,
   "id": "1383bef8",
   "metadata": {},
   "outputs": [
    {
     "name": "stdout",
     "output_type": "stream",
     "text": [
      "Enter your SQL query (or type \"exit\" to quit): WITH AuthorBirthMonth AS ( SELECT author_id, strftime('%m', birthdate) AS birth_month FROM authors ), MonthlyPublications AS ( SELECT author_id, strftime('%m', publication_date) AS pub_month, COUNT(*) AS count FROM books GROUP BY author_id, pub_month ) SELECT a.name FROM authors a JOIN AuthorBirthMonth abm ON a.author_id = abm.author_id JOIN MonthlyPublications mp ON a.author_id = mp.author_id WHERE abm.birth_month = mp.pub_month ORDER BY mp.count DESC LIMIT 1;\n",
      "          name\n",
      "0  Joseph King\n",
      "Enter your SQL query (or type \"exit\" to quit): exit\n"
     ]
    }
   ],
   "source": [
    "def main():\n",
    "    conn, cursor = create_challenge_database()\n",
    "\n",
    "    with open('queries.txt', 'a') as file:\n",
    "        while True:\n",
    "            query = input('Enter your SQL query (or type \"exit\" to quit): ')\n",
    "            if query.lower() == 'exit':\n",
    "                break\n",
    "\n",
    "            file.write(query + '\\n')\n",
    "\n",
    "            result = execute_query(conn, cursor, query)\n",
    "            print(result)\n",
    "\n",
    "    conn.close()\n",
    "\n",
    "if __name__ == \"__main__\":\n",
    "    main()"
   ]
  },
  {
   "cell_type": "markdown",
   "id": "62ffe63c",
   "metadata": {},
   "source": [
    "##### answer: WITH AuthorBirthMonth AS (     SELECT author_id, strftime('%m', birthdate) AS birth_month     FROM authors ),  MonthlyPublications AS (     SELECT author_id, strftime('%m', publication_date) AS pub_month, COUNT(*) AS count     FROM books     GROUP BY author_id, pub_month )  SELECT a.name FROM authors a JOIN AuthorBirthMonth abm ON a.author_id = abm.author_id JOIN MonthlyPublications mp ON a.author_id = mp.author_id WHERE abm.birth_month = mp.pub_month ORDER BY mp.count DESC LIMIT 1;"
   ]
  },
  {
   "cell_type": "markdown",
   "id": "b728e902",
   "metadata": {},
   "source": [
    "#### question 43: Determine the day of the week when most books are published. Use the strftime function for date extraction."
   ]
  },
  {
   "cell_type": "code",
   "execution_count": 15,
   "id": "e072ecf9",
   "metadata": {},
   "outputs": [
    {
     "name": "stdout",
     "output_type": "stream",
     "text": [
      "Enter your SQL query (or type \"exit\" to quit): SELECT strftime('%w', publication_date) AS day_of_week,         COUNT(*) AS number_of_books FROM books GROUP BY day_of_week ORDER BY number_of_books DESC LIMIT 1;\n",
      "  day_of_week  number_of_books\n",
      "0           6               13\n",
      "Enter your SQL query (or type \"exit\" to quit): exit\n"
     ]
    }
   ],
   "source": [
    "def main():\n",
    "    conn, cursor = create_challenge_database()\n",
    "\n",
    "    with open('queries.txt', 'a') as file:\n",
    "        while True:\n",
    "            query = input('Enter your SQL query (or type \"exit\" to quit): ')\n",
    "            if query.lower() == 'exit':\n",
    "                break\n",
    "\n",
    "            file.write(query + '\\n')\n",
    "\n",
    "            result = execute_query(conn, cursor, query)\n",
    "            print(result)\n",
    "\n",
    "    conn.close()\n",
    "\n",
    "if __name__ == \"__main__\":\n",
    "    main()"
   ]
  },
  {
   "cell_type": "markdown",
   "id": "6bf51d59",
   "metadata": {},
   "source": [
    "##### answer: select strftime('%w', publication_date) AS day_of_week,         COUNT(*) AS number_of_books FROM books GROUP BY day_of_week ORDER BY number_of_books DESC LIMIT 1;"
   ]
  },
  {
   "cell_type": "markdown",
   "id": "1d3071b5",
   "metadata": {},
   "source": [
    "#### question 44: Find the author whose name appears most frequently within the first word of book titles."
   ]
  },
  {
   "cell_type": "code",
   "execution_count": 16,
   "id": "99cfcdd7",
   "metadata": {},
   "outputs": [
    {
     "name": "stdout",
     "output_type": "stream",
     "text": [
      "Enter your SQL query (or type \"exit\" to quit): WITH FirstWords AS (     SELECT DISTINCT b.book_id,             SUBSTR(b.title, 1, INSTR(b.title, ' ') - 1) AS first_word     FROM books b )  SELECT a.name, COUNT(*) AS frequency FROM authors a JOIN FirstWords fw ON a.name LIKE fw.first_word || '%' GROUP BY a.name ORDER BY frequency DESC LIMIT 1;\n",
      "Empty DataFrame\n",
      "Columns: [name, frequency]\n",
      "Index: []\n",
      "Enter your SQL query (or type \"exit\" to quit): exit\n"
     ]
    }
   ],
   "source": [
    "def main():\n",
    "    conn, cursor = create_challenge_database()\n",
    "\n",
    "    with open('queries.txt', 'a') as file:\n",
    "        while True:\n",
    "            query = input('Enter your SQL query (or type \"exit\" to quit): ')\n",
    "            if query.lower() == 'exit':\n",
    "                break\n",
    "\n",
    "            file.write(query + '\\n')\n",
    "\n",
    "            result = execute_query(conn, cursor, query)\n",
    "            print(result)\n",
    "\n",
    "    conn.close()\n",
    "\n",
    "if __name__ == \"__main__\":\n",
    "    main()"
   ]
  },
  {
   "cell_type": "markdown",
   "id": "bd972bbc",
   "metadata": {},
   "source": [
    "##### answer: WITH FirstWords AS (     SELECT DISTINCT b.book_id,             SUBSTR(b.title, 1, INSTR(b.title, ' ') - 1) AS first_word     FROM books b )  SELECT a.name, COUNT(*) AS frequency FROM authors a JOIN FirstWords fw ON a.name LIKE fw.first_word || '%' GROUP BY a.name ORDER BY frequency DESC LIMIT 1;"
   ]
  },
  {
   "cell_type": "markdown",
   "id": "ca3ea697",
   "metadata": {},
   "source": [
    "#### question 45: For books that have a title length exactly equal to the average title length of all books, which month had the highest sales?"
   ]
  },
  {
   "cell_type": "code",
   "execution_count": 17,
   "id": "5913380e",
   "metadata": {},
   "outputs": [
    {
     "name": "stdout",
     "output_type": "stream",
     "text": [
      "Enter your SQL query (or type \"exit\" to quit): WITH AverageLength AS (     SELECT AVG(LENGTH(title)) AS avg_length     FROM books )  SELECT strftime('%Y-%m', t.purchase_date) AS month, SUM(t.amount) AS total_sales FROM transactions t JOIN books b ON t.book_id = b.book_id WHERE LENGTH(b.title) = (SELECT avg_length FROM AverageLength) GROUP BY month ORDER BY total_sales DESC LIMIT 1;\n",
      "Empty DataFrame\n",
      "Columns: [month, total_sales]\n",
      "Index: []\n",
      "Enter your SQL query (or type \"exit\" to quit): exit\n"
     ]
    }
   ],
   "source": [
    "def main():\n",
    "    conn, cursor = create_challenge_database()\n",
    "\n",
    "    with open('queries.txt', 'a') as file:\n",
    "        while True:\n",
    "            query = input('Enter your SQL query (or type \"exit\" to quit): ')\n",
    "            if query.lower() == 'exit':\n",
    "                break\n",
    "\n",
    "            file.write(query + '\\n')\n",
    "\n",
    "            result = execute_query(conn, cursor, query)\n",
    "            print(result)\n",
    "\n",
    "    conn.close()\n",
    "\n",
    "if __name__ == \"__main__\":\n",
    "    main()"
   ]
  },
  {
   "cell_type": "markdown",
   "id": "abafb5cc",
   "metadata": {},
   "source": [
    "##### answer: WITH AverageLength AS (     SELECT AVG(LENGTH(title)) AS avg_length     FROM books )  SELECT strftime('%Y-%m', t.purchase_date) AS month, SUM(t.amount) AS total_sales FROM transactions t JOIN books b ON t.book_id = b.book_id WHERE LENGTH(b.title) = (SELECT avg_length FROM AverageLength) GROUP BY month ORDER BY total_sales DESC LIMIT 1;"
   ]
  },
  {
   "cell_type": "markdown",
   "id": "cee64840",
   "metadata": {},
   "source": [
    "#### question 46: Calculate the age of authors when their first book was published. Exclude authors who haven't published any books. "
   ]
  },
  {
   "cell_type": "code",
   "execution_count": 18,
   "id": "2f1145bf",
   "metadata": {},
   "outputs": [
    {
     "name": "stdout",
     "output_type": "stream",
     "text": [
      "Enter your SQL query (or type \"exit\" to quit): WITH FirstPublication AS (     SELECT a.author_id, min(strftime('%Y', b.publication_date)) - strftime('%Y', a.birthdate) as age_when_first_published     FROM authors a     JOIN books b ON a.author_id = b.author_id     GROUP BY a.author_id )  SELECT author_id, age_when_first_published FROM FirstPublication WHERE age_when_first_published IS NOT NULL;\n",
      "   author_id  age_when_first_published\n",
      "0          1                        43\n",
      "1          2                        20\n",
      "2          3                        30\n",
      "3          4                        14\n",
      "4          5                        44\n",
      "5          6                        51\n",
      "6          7                        20\n",
      "7          8                        51\n",
      "8          9                        43\n",
      "9         10                        46\n",
      "Enter your SQL query (or type \"exit\" to quit): exit\n"
     ]
    }
   ],
   "source": [
    "def main():\n",
    "    conn, cursor = create_challenge_database()\n",
    "\n",
    "    with open('queries.txt', 'a') as file:\n",
    "        while True:\n",
    "            query = input('Enter your SQL query (or type \"exit\" to quit): ')\n",
    "            if query.lower() == 'exit':\n",
    "                break\n",
    "\n",
    "            file.write(query + '\\n')\n",
    "\n",
    "            result = execute_query(conn, cursor, query)\n",
    "            print(result)\n",
    "\n",
    "    conn.close()\n",
    "\n",
    "if __name__ == \"__main__\":\n",
    "    main()"
   ]
  },
  {
   "cell_type": "markdown",
   "id": "d8b4c6ed",
   "metadata": {},
   "source": [
    "##### answer: WITH FirstPublication AS (     SELECT a.author_id, min(strftime('%Y', b.publication_date)) - strftime('%Y', a.birthdate) as age_when_first_published     FROM authors a     JOIN books b ON a.author_id = b.author_id     GROUP BY a.author_id )  SELECT author_id, age_when_first_published FROM FirstPublication WHERE age_when_first_published IS NOT NULL;"
   ]
  },
  {
   "cell_type": "markdown",
   "id": "034ccebb",
   "metadata": {},
   "source": [
    "#### question 47: Determine the longest consecutive days streak in which at least one book was sold. "
   ]
  },
  {
   "cell_type": "code",
   "execution_count": 19,
   "id": "caef0263",
   "metadata": {},
   "outputs": [
    {
     "name": "stdout",
     "output_type": "stream",
     "text": [
      "Enter your SQL query (or type \"exit\" to quit): WITH ConsecutiveSales AS (     SELECT purchase_date,            date(purchase_date, '-1 day') AS prev_date,            LEAD(date(purchase_date, '+1 day')) OVER (ORDER BY purchase_date) AS next_date     FROM transactions     GROUP BY purchase_date )  SELECT COUNT(*) as streak_length FROM ConsecutiveSales WHERE next_date = date(purchase_date, '+1 day') ORDER BY streak_length DESC LIMIT 1;\n",
      "   streak_length\n",
      "0              0\n",
      "Enter your SQL query (or type \"exit\" to quit): exit\n"
     ]
    }
   ],
   "source": [
    "def main():\n",
    "    conn, cursor = create_challenge_database()\n",
    "\n",
    "    with open('queries.txt', 'a') as file:\n",
    "        while True:\n",
    "            query = input('Enter your SQL query (or type \"exit\" to quit): ')\n",
    "            if query.lower() == 'exit':\n",
    "                break\n",
    "\n",
    "            file.write(query + '\\n')\n",
    "\n",
    "            result = execute_query(conn, cursor, query)\n",
    "            print(result)\n",
    "\n",
    "    conn.close()\n",
    "\n",
    "if __name__ == \"__main__\":\n",
    "    main()"
   ]
  },
  {
   "cell_type": "markdown",
   "id": "4a763d42",
   "metadata": {},
   "source": [
    "##### answer: WITH ConsecutiveSales AS (     SELECT purchase_date,            date(purchase_date, '-1 day') AS prev_date,            LEAD(date(purchase_date, '+1 day')) OVER (ORDER BY purchase_date) AS next_date     FROM transactions     GROUP BY purchase_date )  SELECT COUNT(*) as streak_length FROM ConsecutiveSales WHERE next_date = date(purchase_date, '+1 day') ORDER BY streak_length DESC LIMIT 1;"
   ]
  },
  {
   "cell_type": "markdown",
   "id": "8ef73d1d",
   "metadata": {},
   "source": [
    "#### question 48: Which book had the most reviews in the month immediately following its publication date? Use the date function for date manipulations."
   ]
  },
  {
   "cell_type": "code",
   "execution_count": 25,
   "id": "934de075",
   "metadata": {},
   "outputs": [
    {
     "name": "stdout",
     "output_type": "stream",
     "text": [
      "Enter your SQL query (or type \"exit\" to quit): WITH MonthlyReviews AS ( SELECT book_id, COUNT(*) AS review_count, strftime('%Y-%m', review_date) as r_month FROM reviews GROUP BY book_id, r_month ) SELECT b.title, mr.review_count FROM MonthlyReviews mr JOIN books b ON b.book_id = mr.book_id WHERE date(strftime('%Y-%m-01', b.publication_date), '+1 month') = r_month ORDER BY review_count DESC LIMIT 1;\n",
      "Empty DataFrame\n",
      "Columns: [title, review_count]\n",
      "Index: []\n",
      "Enter your SQL query (or type \"exit\" to quit): exit\n"
     ]
    }
   ],
   "source": [
    "def main():\n",
    "    conn, cursor = create_challenge_database()\n",
    "\n",
    "    with open('queries.txt', 'a') as file:\n",
    "        while True:\n",
    "            query = input('Enter your SQL query (or type \"exit\" to quit): ')\n",
    "            if query.lower() == 'exit':\n",
    "                break\n",
    "\n",
    "            file.write(query + '\\n')\n",
    "\n",
    "            result = execute_query(conn, cursor, query)\n",
    "            print(result)\n",
    "\n",
    "    conn.close()\n",
    "\n",
    "if __name__ == \"__main__\":\n",
    "    main()"
   ]
  },
  {
   "cell_type": "markdown",
   "id": "7bf1a1d9",
   "metadata": {},
   "source": [
    "##### answer: WITH MonthlyReviews AS (     SELECT book_id, COUNT(*) AS review_count,            strftime('%Y-%m', review_date) as r_month     FROM reviews     GROUP BY book_id, r_month )  SELECT b.title, mr.review_count FROM MonthlyReviews mr JOIN books b ON b.book_id = mr.book_id WHERE date(strftime('%Y-%m-01', b.publication_date), '+1 month') = r_month ORDER BY review_count DESC LIMIT 1;"
   ]
  },
  {
   "cell_type": "markdown",
   "id": "d2b6c239",
   "metadata": {},
   "source": [
    "#### question 49: Find the month and year in which there were no book reviews, but sales transactions existed. Use the printf function for formatting."
   ]
  },
  {
   "cell_type": "code",
   "execution_count": 21,
   "id": "215f659e",
   "metadata": {},
   "outputs": [
    {
     "name": "stdout",
     "output_type": "stream",
     "text": [
      "Enter your SQL query (or type \"exit\" to quit): SELECT a.author_id, a.name, b.book_id, b.title FROM authors a, books b WHERE replace(lower(a.name), ' ', '') = replace(reverse(lower(b.title)), ' ', '');\n",
      "Error: no such function: reverse\n",
      "Enter your SQL query (or type \"exit\" to quit): WITH ReviewMonths AS (     SELECT DISTINCT strftime('%Y-%m', review_date) AS r_month     FROM reviews ), TransactionMonths AS (     SELECT DISTINCT strftime('%Y-%m', purchase_date) AS t_month     FROM transactions )  SELECT printf('%s-%s', substr(t_month, 1, 4), substr(t_month, 6, 2)) AS Month_Year FROM TransactionMonths WHERE t_month NOT IN (SELECT r_month FROM ReviewMonths);\n",
      "  Month_Year\n",
      "0    2022-08\n",
      "Enter your SQL query (or type \"exit\" to quit): exit\n"
     ]
    }
   ],
   "source": [
    "def main():\n",
    "    conn, cursor = create_challenge_database()\n",
    "\n",
    "    with open('queries.txt', 'a') as file:\n",
    "        while True:\n",
    "            query = input('Enter your SQL query (or type \"exit\" to quit): ')\n",
    "            if query.lower() == 'exit':\n",
    "                break\n",
    "\n",
    "            file.write(query + '\\n')\n",
    "\n",
    "            result = execute_query(conn, cursor, query)\n",
    "            print(result)\n",
    "\n",
    "    conn.close()\n",
    "\n",
    "if __name__ == \"__main__\":\n",
    "    main()"
   ]
  },
  {
   "cell_type": "markdown",
   "id": "a7354ddd",
   "metadata": {},
   "source": [
    "##### answer: WITH ReviewMonths AS (     SELECT DISTINCT strftime('%Y-%m', review_date) AS r_month     FROM reviews ), TransactionMonths AS (     SELECT DISTINCT strftime('%Y-%m', purchase_date) AS t_month     FROM transactions )  SELECT printf('%s-%s', substr(t_month, 1, 4), substr(t_month, 6, 2)) AS Month_Year FROM TransactionMonths WHERE t_month NOT IN (SELECT r_month FROM ReviewMonths);"
   ]
  },
  {
   "cell_type": "markdown",
   "id": "319dce06",
   "metadata": {},
   "source": [
    "#### question 50: Which book, written by authors born in spring (March, April, May), has the highest number of vowels in its title?"
   ]
  },
  {
   "cell_type": "code",
   "execution_count": 26,
   "id": "bdef2157",
   "metadata": {},
   "outputs": [
    {
     "name": "stdout",
     "output_type": "stream",
     "text": [
      "Enter your SQL query (or type \"exit\" to quit): WITH SpringAuthors AS ( SELECT author_id FROM authors WHERE strftime('%m', birthdate) BETWEEN '03' AND '05' ), TitleVowelCount AS ( SELECT b.book_id, b.title, SUM(CASE LOWER(SUBSTR(b.title, value, 1)) WHEN 'a' THEN 1 WHEN 'e' THEN 1 WHEN 'i' THEN 1 WHEN 'o' THEN 1 WHEN 'u' THEN 1 ELSE 0 END) as vowel_count FROM books b JOIN SpringAuthors sa ON b.author_id = sa.author_id, json_each(LENGTH(b.title)) GROUP BY b.book_id ) SELECT title, MAX(vowel_count) FROM TitleVowelCount;\n",
      "                        title  MAX(vowel_count)\n",
      "0  Event follow receive hour.                 0\n",
      "Enter your SQL query (or type \"exit\" to quit): exit\n"
     ]
    }
   ],
   "source": [
    "def main():\n",
    "    conn, cursor = create_challenge_database()\n",
    "\n",
    "    with open('queries.txt', 'a') as file:\n",
    "        while True:\n",
    "            query = input('Enter your SQL query (or type \"exit\" to quit): ')\n",
    "            if query.lower() == 'exit':\n",
    "                break\n",
    "\n",
    "            file.write(query + '\\n')\n",
    "\n",
    "            result = execute_query(conn, cursor, query)\n",
    "            print(result)\n",
    "\n",
    "    conn.close()\n",
    "\n",
    "if __name__ == \"__main__\":\n",
    "    main()"
   ]
  },
  {
   "cell_type": "markdown",
   "id": "9164868b",
   "metadata": {},
   "source": [
    "##### answer: WITH SpringAuthors AS (     SELECT author_id     FROM authors     WHERE strftime('%m', birthdate) BETWEEN '03' AND '05' ),  TitleVowelCount AS (     SELECT b.book_id, b.title,            SUM(CASE LOWER(SUBSTR(b.title, value, 1))                WHEN 'a' THEN 1                WHEN 'e' THEN 1                WHEN 'i' THEN 1                WHEN 'o' THEN 1                WHEN 'u' THEN 1                ELSE 0                END) as vowel_count     FROM books b     JOIN SpringAuthors sa ON b.author_id = sa.author_id,          json_each(LENGTH(b.title))     GROUP BY b.book_id )  SELECT title, MAX(vowel_count) FROM TitleVowelCount;"
   ]
  },
  {
   "cell_type": "markdown",
   "id": "65470184",
   "metadata": {},
   "source": [
    "#### question 51: Determine the year with the most book reviews that also corresponds to the year with the highest transaction amounts. Utilize the julianday function for date calculations."
   ]
  },
  {
   "cell_type": "code",
   "execution_count": 27,
   "id": "198dd468",
   "metadata": {},
   "outputs": [
    {
     "name": "stdout",
     "output_type": "stream",
     "text": [
      "Enter your SQL query (or type \"exit\" to quit): WITH ReviewYear AS ( SELECT strftime('%Y', review_date) AS year, COUNT(*) as review_count FROM reviews GROUP BY year ), TransactionYear AS ( SELECT strftime('%Y', purchase_date) AS year, SUM(amount) as total_amount FROM transactions GROUP BY year ) SELECT ry.year FROM ReviewYear ry JOIN TransactionYear ty ON ry.year = ty.year ORDER BY ry.review_count DESC, ty.total_amount DESC LIMIT 1;\n",
      "   year\n",
      "0  2022\n",
      "Enter your SQL query (or type \"exit\" to quit): exit\n"
     ]
    }
   ],
   "source": [
    "def main():\n",
    "    conn, cursor = create_challenge_database()\n",
    "\n",
    "    with open('queries.txt', 'a') as file:\n",
    "        while True:\n",
    "            query = input('Enter your SQL query (or type \"exit\" to quit): ')\n",
    "            if query.lower() == 'exit':\n",
    "                break\n",
    "\n",
    "            file.write(query + '\\n')\n",
    "\n",
    "            result = execute_query(conn, cursor, query)\n",
    "            print(result)\n",
    "\n",
    "    conn.close()\n",
    "\n",
    "if __name__ == \"__main__\":\n",
    "    main()"
   ]
  },
  {
   "cell_type": "markdown",
   "id": "a828b138",
   "metadata": {},
   "source": [
    "##### answer: WITH ReviewYear AS (     SELECT strftime('%Y', review_date) AS year, COUNT(*) as review_count     FROM reviews     GROUP BY year ),  TransactionYear AS (     SELECT strftime('%Y', purchase_date) AS year, SUM(amount) as total_amount     FROM transactions     GROUP BY year )  SELECT ry.year FROM ReviewYear ry JOIN TransactionYear ty ON ry.year = ty.year ORDER BY ry.review_count DESC, ty.total_amount DESC LIMIT 1;"
   ]
  },
  {
   "cell_type": "markdown",
   "id": "4b0bc8bf",
   "metadata": {},
   "source": [
    "#### question 52: Find the books whose title length has the same number of characters as the month they were published in (e.g., May has 3 letters, so book titles with 3 letters)."
   ]
  },
  {
   "cell_type": "code",
   "execution_count": 29,
   "id": "ae8c58db",
   "metadata": {},
   "outputs": [
    {
     "name": "stdout",
     "output_type": "stream",
     "text": [
      "Enter your SQL query (or type \"exit\" to quit): WITH MonthNameLength AS ( SELECT book_id, title, strftime('%m', publication_date) AS month, LENGTH(CASE strftime('%m', publication_date) WHEN '01' THEN 'January' WHEN '02' THEN 'February' END) AS month_length FROM books ) SELECT book_id, title FROM MonthNameLength WHERE LENGTH(title) = month_length;\n",
      "Empty DataFrame\n",
      "Columns: [book_id, title]\n",
      "Index: []\n",
      "Enter your SQL query (or type \"exit\" to quit): exit\n"
     ]
    }
   ],
   "source": [
    "def main():\n",
    "    conn, cursor = create_challenge_database()\n",
    "\n",
    "    with open('queries.txt', 'a') as file:\n",
    "        while True:\n",
    "            query = input('Enter your SQL query (or type \"exit\" to quit): ')\n",
    "            if query.lower() == 'exit':\n",
    "                break\n",
    "\n",
    "            file.write(query + '\\n')\n",
    "\n",
    "            result = execute_query(conn, cursor, query)\n",
    "            print(result)\n",
    "\n",
    "    conn.close()\n",
    "\n",
    "if __name__ == \"__main__\":\n",
    "    main()"
   ]
  },
  {
   "cell_type": "markdown",
   "id": "d4e1e69e",
   "metadata": {},
   "source": [
    "##### answer: WITH MonthNameLength AS (     SELECT book_id, title, strftime('%m', publication_date) AS month,            LENGTH(CASE strftime('%m', publication_date)                   WHEN '01' THEN 'January'                   WHEN '02' THEN 'February'                                  END) AS month_length     FROM books )  SELECT book_id, title FROM MonthNameLength WHERE LENGTH(title) = month_length;"
   ]
  },
  {
   "cell_type": "markdown",
   "id": "30460868",
   "metadata": {},
   "source": [
    "#### question 53: Determine the longest time gap between two successive transactions for the same book. Use the julianday function."
   ]
  },
  {
   "cell_type": "code",
   "execution_count": 25,
   "id": "a6132fde",
   "metadata": {},
   "outputs": [
    {
     "name": "stdout",
     "output_type": "stream",
     "text": [
      "Enter your SQL query (or type \"exit\" to quit): WITH TransactionGaps AS (     SELECT t1.book_id, t1.purchase_date as date1, MIN(t2.purchase_date) as date2,            julianday(MIN(t2.purchase_date)) - julianday(t1.purchase_date) as gap     FROM transactions t1     JOIN transactions t2 ON t1.book_id = t2.book_id AND t1.purchase_date < t2.purchase_date     GROUP BY t1.book_id, t1.purchase_date )  SELECT book_id, date1, date2, MAX(gap) FROM TransactionGaps;\n",
      "   book_id       date1       date2  MAX(gap)\n",
      "0       36  2022-08-31  2023-06-22     295.0\n",
      "Enter your SQL query (or type \"exit\" to quit): exit\n"
     ]
    }
   ],
   "source": [
    "def main():\n",
    "    conn, cursor = create_challenge_database()\n",
    "\n",
    "    with open('queries.txt', 'a') as file:\n",
    "        while True:\n",
    "            query = input('Enter your SQL query (or type \"exit\" to quit): ')\n",
    "            if query.lower() == 'exit':\n",
    "                break\n",
    "\n",
    "            file.write(query + '\\n')\n",
    "\n",
    "            result = execute_query(conn, cursor, query)\n",
    "            print(result)\n",
    "\n",
    "    conn.close()\n",
    "\n",
    "if __name__ == \"__main__\":\n",
    "    main()"
   ]
  },
  {
   "cell_type": "markdown",
   "id": "615f4f4f",
   "metadata": {},
   "source": [
    "##### answer: WITH TransactionGaps AS (     SELECT t1.book_id, t1.purchase_date as date1, MIN(t2.purchase_date) as date2,            julianday(MIN(t2.purchase_date)) - julianday(t1.purchase_date) as gap     FROM transactions t1     JOIN transactions t2 ON t1.book_id = t2.book_id AND t1.purchase_date < t2.purchase_date     GROUP BY t1.book_id, t1.purchase_date )  SELECT book_id, date1, date2, MAX(gap) FROM TransactionGaps;"
   ]
  },
  {
   "cell_type": "markdown",
   "id": "87159e15",
   "metadata": {},
   "source": [
    "#### question 54: Find the author whose name's first half (if uneven number of characters, round up) has the most vowels."
   ]
  },
  {
   "cell_type": "code",
   "execution_count": 28,
   "id": "b9905dd3",
   "metadata": {},
   "outputs": [
    {
     "name": "stdout",
     "output_type": "stream",
     "text": [
      "Enter your SQL query (or type \"exit\" to quit): WITH VowelCount AS (     SELECT author_id,            SUM(CASE LOWER(SUBSTR(name, value, 1))                WHEN 'a' THEN 1                WHEN 'e' THEN 1                WHEN 'i' THEN 1                WHEN 'o' THEN 1                WHEN 'u' THEN 1                ELSE 0                END) as total_vowels     FROM authors,           json_each(ROUND(LENGTH(name)/2.0))     GROUP BY author_id )  SELECT a.name, vc.total_vowels FROM VowelCount vc JOIN authors a ON a.author_id = vc.author_id ORDER BY vc.total_vowels DESC LIMIT 1;\n",
      "          name  total_vowels\n",
      "0  James Ellis             0\n",
      "Enter your SQL query (or type \"exit\" to quit): exit\n"
     ]
    }
   ],
   "source": [
    "def main():\n",
    "    conn, cursor = create_challenge_database()\n",
    "\n",
    "    with open('queries.txt', 'a') as file:\n",
    "        while True:\n",
    "            query = input('Enter your SQL query (or type \"exit\" to quit): ')\n",
    "            if query.lower() == 'exit':\n",
    "                break\n",
    "\n",
    "            file.write(query + '\\n')\n",
    "\n",
    "            result = execute_query(conn, cursor, query)\n",
    "            print(result)\n",
    "\n",
    "    conn.close()\n",
    "\n",
    "if __name__ == \"__main__\":\n",
    "    main()"
   ]
  },
  {
   "cell_type": "markdown",
   "id": "3aa47d13",
   "metadata": {},
   "source": [
    "##### answer: WITH VowelCount AS (     SELECT author_id,            SUM(CASE LOWER(SUBSTR(name, value, 1))                WHEN 'a' THEN 1                WHEN 'e' THEN 1                WHEN 'i' THEN 1                WHEN 'o' THEN 1                WHEN 'u' THEN 1                ELSE 0                END) as total_vowels     FROM authors,           json_each(ROUND(LENGTH(name)/2.0))     GROUP BY author_id )  SELECT a.name, vc.total_vowels FROM VowelCount vc JOIN authors a ON a.author_id = vc.author_id ORDER BY vc.total_vowels DESC LIMIT 1;"
   ]
  },
  {
   "cell_type": "markdown",
   "id": "a7746c7e",
   "metadata": {},
   "source": [
    "#### question 55:For books sold in transactions, get the book whose title has the maximum occurrence of the day name it was sold on (e.g., if a book was sold on a 'Monday', count the number of occurrences of 'Monday' in its title)."
   ]
  },
  {
   "cell_type": "code",
   "execution_count": 30,
   "id": "26766053",
   "metadata": {},
   "outputs": [
    {
     "name": "stdout",
     "output_type": "stream",
     "text": [
      "Enter your SQL query (or type \"exit\" to quit): WITH DayNameCount AS ( SELECT t.transaction_id, t.book_id, b.title, t.purchase_date, CASE CAST(strftime('%w', t.purchase_date) AS INTEGER) WHEN 0 THEN LENGTH(b.title) - LENGTH(REPLACE(LOWER(b.title), 'sunday', '')) WHEN 1 THEN LENGTH(b.title) - LENGTH(REPLACE(LOWER(b.title), 'monday', '')) WHEN 2 THEN LENGTH(b.title) - LENGTH(REPLACE(LOWER(b.title), 'tuesday', '')) ELSE 0 END AS day_count FROM transactions t JOIN books b ON t.book_id = b.book_id ) SELECT title, purchase_date, MAX(day_count) FROM DayNameCount;\n",
      "                                                      title purchase_date  \\\n",
      "0  Something would perhaps sea than interesting Republican.    2022-09-06   \n",
      "\n",
      "   MAX(day_count)  \n",
      "0               0  \n",
      "Enter your SQL query (or type \"exit\" to quit): exit\n"
     ]
    }
   ],
   "source": [
    "def main():\n",
    "    conn, cursor = create_challenge_database()\n",
    "\n",
    "    with open('queries.txt', 'a') as file:\n",
    "        while True:\n",
    "            query = input('Enter your SQL query (or type \"exit\" to quit): ')\n",
    "            if query.lower() == 'exit':\n",
    "                break\n",
    "\n",
    "            file.write(query + '\\n')\n",
    "\n",
    "            result = execute_query(conn, cursor, query)\n",
    "            print(result)\n",
    "\n",
    "    conn.close()\n",
    "\n",
    "if __name__ == \"__main__\":\n",
    "    main()"
   ]
  },
  {
   "cell_type": "markdown",
   "id": "c2a5fb44",
   "metadata": {},
   "source": [
    "##### answer: WITH DayNameCount AS (     SELECT t.transaction_id, t.book_id, b.title, t.purchase_date,             CASE CAST(strftime('%w', t.purchase_date) AS INTEGER)                WHEN 0 THEN LENGTH(b.title) - LENGTH(REPLACE(LOWER(b.title), 'sunday', ''))                WHEN 1 THEN LENGTH(b.title) - LENGTH(REPLACE(LOWER(b.title), 'monday', ''))                WHEN 2 THEN LENGTH(b.title) - LENGTH(REPLACE(LOWER(b.title), 'tuesday', ''))                ELSE 0            END AS day_count     FROM transactions t     JOIN books b ON t.book_id = b.book_id )  SELECT title, purchase_date, MAX(day_count) FROM DayNameCount; "
   ]
  },
  {
   "cell_type": "markdown",
   "id": "0cc225c9",
   "metadata": {},
   "source": [
    "#### question 56: Determine books that were published on a full moon day. (Note: For this, you'd typically need astronomical data, but for the sake of the challenge, let's assume the 15th of any month is a full moon day.)"
   ]
  },
  {
   "cell_type": "code",
   "execution_count": 31,
   "id": "d95386d4",
   "metadata": {},
   "outputs": [
    {
     "name": "stdout",
     "output_type": "stream",
     "text": [
      "Enter your SQL query (or type \"exit\" to quit): SELECT title, publication_date FROM books WHERE strftime('%d', publication_date) = '15';\n",
      "              title publication_date\n",
      "0    Our tax there.       2017-11-15\n",
      "1  Give on prevent.       2019-02-15\n",
      "Enter your SQL query (or type \"exit\" to quit): exit\n"
     ]
    }
   ],
   "source": [
    "def main():\n",
    "    conn, cursor = create_challenge_database()\n",
    "\n",
    "    with open('queries.txt', 'a') as file:\n",
    "        while True:\n",
    "            query = input('Enter your SQL query (or type \"exit\" to quit): ')\n",
    "            if query.lower() == 'exit':\n",
    "                break\n",
    "\n",
    "            file.write(query + '\\n')\n",
    "\n",
    "            result = execute_query(conn, cursor, query)\n",
    "            print(result)\n",
    "\n",
    "    conn.close()\n",
    "\n",
    "if __name__ == \"__main__\":\n",
    "    main()"
   ]
  },
  {
   "cell_type": "markdown",
   "id": "3e599169",
   "metadata": {},
   "source": [
    "##### answer: SELECT title, publication_date FROM books WHERE strftime('%d', publication_date) = '15';"
   ]
  },
  {
   "cell_type": "markdown",
   "id": "875acff6",
   "metadata": {},
   "source": [
    "#### question 57: Find the author who has the longest name but has written the book with the shortest title."
   ]
  },
  {
   "cell_type": "code",
   "execution_count": 32,
   "id": "8bdf2462",
   "metadata": {},
   "outputs": [
    {
     "name": "stdout",
     "output_type": "stream",
     "text": [
      "Enter your SQL query (or type \"exit\" to quit): WITH AuthorNameLength AS (     SELECT author_id,             MAX(LENGTH(name)) AS max_name_length     FROM authors ),  BookTitleLength AS (     SELECT author_id,             MIN(LENGTH(title)) AS min_title_length     FROM books     GROUP BY author_id )  SELECT a.name, b.title FROM AuthorNameLength anl JOIN BookTitleLength btl ON anl.author_id = btl.author_id JOIN authors a ON a.author_id = anl.author_id JOIN books b ON b.author_id = btl.author_id AND LENGTH(b.title) = btl.min_title_length ORDER BY max_name_length DESC, min_title_length ASC LIMIT 1;\n",
      "               name                         title\n",
      "0  Joshua Robertson  Religious tend another tell.\n",
      "Enter your SQL query (or type \"exit\" to quit): exit\n"
     ]
    }
   ],
   "source": [
    "def main():\n",
    "    conn, cursor = create_challenge_database()\n",
    "\n",
    "    with open('queries.txt', 'a') as file:\n",
    "        while True:\n",
    "            query = input('Enter your SQL query (or type \"exit\" to quit): ')\n",
    "            if query.lower() == 'exit':\n",
    "                break\n",
    "\n",
    "            file.write(query + '\\n')\n",
    "\n",
    "            result = execute_query(conn, cursor, query)\n",
    "            print(result)\n",
    "\n",
    "    conn.close()\n",
    "\n",
    "if __name__ == \"__main__\":\n",
    "    main()"
   ]
  },
  {
   "cell_type": "markdown",
   "id": "0f37d0cb",
   "metadata": {},
   "source": [
    "##### answer: WITH AuthorNameLength AS (     SELECT author_id,             MAX(LENGTH(name)) AS max_name_length     FROM authors ),  BookTitleLength AS (     SELECT author_id,             MIN(LENGTH(title)) AS min_title_length     FROM books     GROUP BY author_id )  SELECT a.name, b.title FROM AuthorNameLength anl JOIN BookTitleLength btl ON anl.author_id = btl.author_id JOIN authors a ON a.author_id = anl.author_id JOIN books b ON b.author_id = btl.author_id AND LENGTH(b.title) = btl.min_title_length ORDER BY max_name_length DESC, min_title_length ASC LIMIT 1;"
   ]
  },
  {
   "cell_type": "markdown",
   "id": "68ee023c",
   "metadata": {},
   "source": [
    "#### question 58: Find books where the name of the month they were published in is present in their title (case-insensitive)."
   ]
  },
  {
   "cell_type": "code",
   "execution_count": 33,
   "id": "b60b0280",
   "metadata": {},
   "outputs": [
    {
     "name": "stdout",
     "output_type": "stream",
     "text": [
      "Enter your SQL query (or type \"exit\" to quit): WITH MonthNames AS (     SELECT book_id, title, publication_date,             CASE strftime('%m', publication_date)                WHEN '01' THEN 'January'                WHEN '02' THEN 'February'                WHEN '03' THEN 'March'                ELSE ''            END AS month_name     FROM books )  SELECT title, publication_date, month_name FROM MonthNames WHERE INSTR(LOWER(title), LOWER(month_name)) > 0;\n",
      "                                                title publication_date  \\\n",
      "0                     Measure stop air ever evidence.       2022-08-07   \n",
      "1                          Toward dark red sister or.       2017-09-06   \n",
      "2                          Current exist middle land.       2015-06-21   \n",
      "3                             Democratic road friend.       2021-04-25   \n",
      "4               True yes or head bank several church.       2020-06-23   \n",
      "5                               Want culture note do.       2014-04-08   \n",
      "6                            Future experience hotel.       2013-10-22   \n",
      "7              Point north environmental cost action.       2015-07-03   \n",
      "8             Front reach sign stuff manager however.       2021-09-05   \n",
      "9                  Painting seat difficult hit blood.       2016-04-29   \n",
      "10         Lawyer look treat quickly need television.       2021-05-28   \n",
      "11                When college where game government.       2013-09-09   \n",
      "12                        Remember affect scene cold.       2014-10-08   \n",
      "13                                Focus near involve.       2014-10-27   \n",
      "14                    Film growth again discover can.       2020-08-15   \n",
      "15                                  Hour would civil.       2018-12-22   \n",
      "16                                    City fight buy.       2019-04-05   \n",
      "17                  Expect ten part throw room offer.       2019-11-27   \n",
      "18                   Best pick finish character save.       2021-05-06   \n",
      "19             Build change should national specific.       2018-07-29   \n",
      "20                    Tv point green billion himself.       2023-08-15   \n",
      "21                               Watch election pick.       2013-09-20   \n",
      "22  Blue five capital administration forward decad...       2020-10-23   \n",
      "23                      Way product send reach child.       2015-05-21   \n",
      "24                                 Soon grow reflect.       2023-04-09   \n",
      "25                                Foot public decade.       2017-12-23   \n",
      "26                        Property view range of cut.       2016-11-30   \n",
      "27                           Debate writer agreement.       2021-09-05   \n",
      "28                      Increase book seat goal size.       2015-11-04   \n",
      "29                        Across individual bit whom.       2020-09-21   \n",
      "30                                   Degree PM media.       2021-07-08   \n",
      "31           Nation conference professor food doctor.       2016-11-09   \n",
      "32           Remain quickly here wonder very whether.       2019-11-05   \n",
      "33              Minute exist form Congress condition.       2023-08-07   \n",
      "34               Bed truth doctor doctor source land.       2020-10-03   \n",
      "35                        Will individual which blue.       2015-07-05   \n",
      "36                Others mean interview decide drive.       2019-05-24   \n",
      "37                      Important today hot employee.       2020-05-19   \n",
      "38                 Control feeling certainly stop so.       2018-04-15   \n",
      "\n",
      "   month_name  \n",
      "0              \n",
      "1              \n",
      "2              \n",
      "3              \n",
      "4              \n",
      "5              \n",
      "6              \n",
      "7              \n",
      "8              \n",
      "9              \n",
      "10             \n",
      "11             \n",
      "12             \n",
      "13             \n",
      "14             \n",
      "15             \n",
      "16             \n",
      "17             \n",
      "18             \n",
      "19             \n",
      "20             \n",
      "21             \n",
      "22             \n",
      "23             \n",
      "24             \n",
      "25             \n",
      "26             \n",
      "27             \n",
      "28             \n",
      "29             \n",
      "30             \n",
      "31             \n",
      "32             \n",
      "33             \n",
      "34             \n",
      "35             \n",
      "36             \n",
      "37             \n",
      "38             \n",
      "Enter your SQL query (or type \"exit\" to quit): exit\n"
     ]
    }
   ],
   "source": [
    "def main():\n",
    "    conn, cursor = create_challenge_database()\n",
    "\n",
    "    with open('queries.txt', 'a') as file:\n",
    "        while True:\n",
    "            query = input('Enter your SQL query (or type \"exit\" to quit): ')\n",
    "            if query.lower() == 'exit':\n",
    "                break\n",
    "\n",
    "            file.write(query + '\\n')\n",
    "\n",
    "            result = execute_query(conn, cursor, query)\n",
    "            print(result)\n",
    "\n",
    "    conn.close()\n",
    "\n",
    "if __name__ == \"__main__\":\n",
    "    main()"
   ]
  },
  {
   "cell_type": "markdown",
   "id": "fc809566",
   "metadata": {},
   "source": [
    "##### answer: WITH MonthNames AS (     SELECT book_id, title, publication_date,             CASE strftime('%m', publication_date)                WHEN '01' THEN 'January'                WHEN '02' THEN 'February'                WHEN '03' THEN 'March'                ELSE ''            END AS month_name     FROM books )  SELECT title, publication_date, month_name FROM MonthNames WHERE INSTR(LOWER(title), LOWER(month_name)) > 0;"
   ]
  },
  {
   "cell_type": "markdown",
   "id": "028538b7",
   "metadata": {},
   "source": [
    "#### question 59: Identify the book with the title that has the maximum occurrence of the vowel from the month name it was published in. For instance, if a book was published in June, count the number of 'u's in its title."
   ]
  },
  {
   "cell_type": "code",
   "execution_count": 34,
   "id": "4376865d",
   "metadata": {},
   "outputs": [
    {
     "name": "stdout",
     "output_type": "stream",
     "text": [
      "Enter your SQL query (or type \"exit\" to quit): WITH UnicodeDifference AS (     SELECT title,             SUM(UNICODE(SUBSTR(title, pos)) - UNICODE(SUBSTR(REVERSE(title), pos))) AS diff     FROM (SELECT title,                   value AS pos           FROM books,                 json_each(LENGTH(title))           WHERE value BETWEEN 1 AND LENGTH(title))     GROUP BY title     HAVING SUM(UNICODE(SUBSTR(title, pos)) - UNICODE(SUBSTR(REVERSE(title), pos))) > 0 )  SELECT title, diff FROM UnicodeDifference ORDER BY diff DESC;\n",
      "Error: no such function: REVERSE\n",
      "Enter your SQL query (or type \"exit\" to quit): Identify the book with the title that has the maximum occurrence of the vowel from the month name it was published in. For instance, if a book was published in June, count the number of 'u's in its title.\n",
      "Error: near \"Identify\": syntax error\n",
      "Enter your SQL query (or type \"exit\" to quit): WITH MonthVowelCount AS (     SELECT book_id, title, publication_date,             CASE strftime('%m', publication_date)                WHEN '01' THEN LENGTH(title) - LENGTH(REPLACE(LOWER(title), 'a', ''))                WHEN '02' THEN LENGTH(title) - LENGTH(REPLACE(LOWER(title), 'e', ''))                WHEN '03' THEN LENGTH(title) - LENGTH(REPLACE(LOWER(title), 'a', ''))                ELSE 0            END AS vowel_count     FROM books )  SELECT title, publication_date, MAX(vowel_count) FROM MonthVowelCount;\n",
      "                                       title publication_date  \\\n",
      "0  Health everybody since check other admit.       2019-02-03   \n",
      "\n",
      "   MAX(vowel_count)  \n",
      "0                 6  \n",
      "Enter your SQL query (or type \"exit\" to quit): exit\n"
     ]
    }
   ],
   "source": [
    "def main():\n",
    "    conn, cursor = create_challenge_database()\n",
    "\n",
    "    with open('queries.txt', 'a') as file:\n",
    "        while True:\n",
    "            query = input('Enter your SQL query (or type \"exit\" to quit): ')\n",
    "            if query.lower() == 'exit':\n",
    "                break\n",
    "\n",
    "            file.write(query + '\\n')\n",
    "\n",
    "            result = execute_query(conn, cursor, query)\n",
    "            print(result)\n",
    "\n",
    "    conn.close()\n",
    "\n",
    "if __name__ == \"__main__\":\n",
    "    main()"
   ]
  },
  {
   "cell_type": "markdown",
   "id": "35287ffc",
   "metadata": {},
   "source": [
    "##### answer: WITH MonthVowelCount AS (     SELECT book_id, title, publication_date,             CASE strftime('%m', publication_date)                WHEN '01' THEN LENGTH(title) - LENGTH(REPLACE(LOWER(title), 'a', ''))                WHEN '02' THEN LENGTH(title) - LENGTH(REPLACE(LOWER(title), 'e', ''))                WHEN '03' THEN LENGTH(title) - LENGTH(REPLACE(LOWER(title), 'a', ''))                ELSE 0            END AS vowel_count     FROM books )  SELECT title, publication_date, MAX(vowel_count) FROM MonthVowelCount;"
   ]
  },
  {
   "cell_type": "markdown",
   "id": "da6cf078",
   "metadata": {},
   "source": [
    "#### question 60: Retrieve the authors who published books exactly on the day they turned 40."
   ]
  },
  {
   "cell_type": "code",
   "execution_count": 35,
   "id": "5af26fe0",
   "metadata": {},
   "outputs": [
    {
     "name": "stdout",
     "output_type": "stream",
     "text": [
      "Enter your SQL query (or type \"exit\" to quit): SELECT a.name, b.title, b.publication_date FROM authors a JOIN books b ON a.author_id = b.author_id WHERE julianday(b.publication_date) = julianday(a.birthdate, '+40 years');\n",
      "Empty DataFrame\n",
      "Columns: [name, title, publication_date]\n",
      "Index: []\n",
      "Enter your SQL query (or type \"exit\" to quit): SELECT a.name, b.title, b.publication_date FROM authors a JOIN books b ON a.author_id = b.author_id WHERE julianday(b.publication_date) = julianday(a.birthdate, '+40 years');\n",
      "Empty DataFrame\n",
      "Columns: [name, title, publication_date]\n",
      "Index: []\n",
      "Enter your SQL query (or type \"exit\" to quit): exit\n"
     ]
    }
   ],
   "source": [
    "def main():\n",
    "    conn, cursor = create_challenge_database()\n",
    "\n",
    "    with open('queries.txt', 'a') as file:\n",
    "        while True:\n",
    "            query = input('Enter your SQL query (or type \"exit\" to quit): ')\n",
    "            if query.lower() == 'exit':\n",
    "                break\n",
    "\n",
    "            file.write(query + '\\n')\n",
    "\n",
    "            result = execute_query(conn, cursor, query)\n",
    "            print(result)\n",
    "\n",
    "    conn.close()\n",
    "\n",
    "if __name__ == \"__main__\":\n",
    "    main()"
   ]
  },
  {
   "cell_type": "markdown",
   "id": "9c66e158",
   "metadata": {},
   "source": [
    "##### answer: SELECT a.name, b.title, b.publication_date FROM authors a JOIN books b ON a.author_id = b.author_id WHERE julianday(b.publication_date) = julianday(a.birthdate, '+40 years');"
   ]
  },
  {
   "cell_type": "markdown",
   "id": "1f57ba81",
   "metadata": {},
   "source": [
    "#### question 61: Find books that have the same title length as the month they were published in (e.g., if a book was published in May (5th month) and its title has 5 characters)."
   ]
  },
  {
   "cell_type": "code",
   "execution_count": 36,
   "id": "e2174e8c",
   "metadata": {},
   "outputs": [
    {
     "name": "stdout",
     "output_type": "stream",
     "text": [
      "Enter your SQL query (or type \"exit\" to quit): SELECT title, publication_date FROM books WHERE LENGTH(title) = CAST(strftime('%m', publication_date) AS INT);\n",
      "Empty DataFrame\n",
      "Columns: [title, publication_date]\n",
      "Index: []\n",
      "Enter your SQL query (or type \"exit\" to quit): exit\n"
     ]
    }
   ],
   "source": [
    "def main():\n",
    "    conn, cursor = create_challenge_database()\n",
    "\n",
    "    with open('queries.txt', 'a') as file:\n",
    "        while True:\n",
    "            query = input('Enter your SQL query (or type \"exit\" to quit): ')\n",
    "            if query.lower() == 'exit':\n",
    "                break\n",
    "\n",
    "            file.write(query + '\\n')\n",
    "\n",
    "            result = execute_query(conn, cursor, query)\n",
    "            print(result)\n",
    "\n",
    "    conn.close()\n",
    "\n",
    "if __name__ == \"__main__\":\n",
    "    main()"
   ]
  },
  {
   "cell_type": "markdown",
   "id": "ec28e3f3",
   "metadata": {},
   "source": [
    "##### answer: SELECT title, publication_date FROM books WHERE LENGTH(title) = CAST(strftime('%m', publication_date) AS INT);"
   ]
  },
  {
   "cell_type": "markdown",
   "id": "1f965705",
   "metadata": {},
   "source": [
    "#### question 62: For each book, find the time difference in days between its publication date and the average publication date of all books."
   ]
  },
  {
   "cell_type": "code",
   "execution_count": 37,
   "id": "c5fb224f",
   "metadata": {},
   "outputs": [
    {
     "name": "stdout",
     "output_type": "stream",
     "text": [
      "Enter your SQL query (or type \"exit\" to quit): WITH AvgPublicationDate AS (     SELECT AVG(julianday(publication_date)) as avg_date_julian     FROM books )  SELECT title,         ABS(julianday(publication_date) - (SELECT avg_date_julian FROM AvgPublicationDate)) AS days_difference FROM books;\n",
      "                                                title  days_difference\n",
      "0                                Affect by left over.          1593.58\n",
      "1                                Spring her for mean.          1306.58\n",
      "2                                Effort gun fly same.            18.58\n",
      "3                     Actually scene name drive just.           396.58\n",
      "4                                  Note remain argue.          1434.42\n",
      "5   Building government available present decade m...           234.58\n",
      "6                      Fine firm your special people.           658.58\n",
      "7                  Fight court employee many receive.          1727.58\n",
      "8               Throw political sea do career enough.          1257.58\n",
      "9                           His force whether others.          1356.42\n",
      "10            Thought left contain stay not research.           605.42\n",
      "11                                 Others for suffer.          1889.58\n",
      "12                       Break like if compare movie.           370.58\n",
      "13                   Technology lead tell themselves.           480.42\n",
      "14                         Result your star they for.           781.42\n",
      "15                                Term task computer.          1175.42\n",
      "16                             Despite various music.           870.42\n",
      "17  Forward throughout Republican second would fig...          1396.58\n",
      "18             Nothing natural free reach while keep.          1632.42\n",
      "19                                    Up month worry.            27.58\n",
      "20                      Activity land computer north.           948.42\n",
      "21                          Listen state know leader.           569.58\n",
      "22           Agreement force include movement design.          1076.42\n",
      "23                              Plan board than rock.          1606.42\n",
      "24                 Fact door church act involve care.           193.42\n",
      "25                                Ready capital land.          1432.42\n",
      "26                              Reality life meeting.          1828.58\n",
      "27                   Difficult word much result hand.          1454.42\n",
      "28                          Local item expect listen.          1382.58\n",
      "29                        Scientist raise decide art.           602.42\n",
      "30                           Thousand business adult.          1658.58\n",
      "31              In various create ago candidate sure.            11.58\n",
      "32      Move experience participant break news group.           212.58\n",
      "33                                  Present type top.           730.42\n",
      "34                Reason pay structure too share run.           984.58\n",
      "35                                 Everyone cup head.           897.42\n",
      "36                                   Black leg green.          1599.42\n",
      "37                     Resource list politics source.          1914.58\n",
      "38                              Black actually ready.          1222.58\n",
      "39                              Then theory want dog.          1530.58\n",
      "40                                 Hot summer factor.          1661.58\n",
      "41                         Statement choice sure let.           814.42\n",
      "42                Far loss environment teach however.           831.58\n",
      "43             Situation heart compare appear school.          1647.42\n",
      "44                             Value bill tend owner.           504.58\n",
      "45                                 Perform open hour.          1116.42\n",
      "46                   Lose window board occur respond.          1163.42\n",
      "47               Service pressure blood chance exist.          1535.58\n",
      "48                      Activity my field throughout.          1663.42\n",
      "49                           Then open simple suffer.          1444.42\n",
      "Enter your SQL query (or type \"exit\" to quit): exit\n"
     ]
    }
   ],
   "source": [
    "def main():\n",
    "    conn, cursor = create_challenge_database()\n",
    "\n",
    "    with open('queries.txt', 'a') as file:\n",
    "        while True:\n",
    "            query = input('Enter your SQL query (or type \"exit\" to quit): ')\n",
    "            if query.lower() == 'exit':\n",
    "                break\n",
    "\n",
    "            file.write(query + '\\n')\n",
    "\n",
    "            result = execute_query(conn, cursor, query)\n",
    "            print(result)\n",
    "\n",
    "    conn.close()\n",
    "\n",
    "if __name__ == \"__main__\":\n",
    "    main()"
   ]
  },
  {
   "cell_type": "markdown",
   "id": "cbc82ec0",
   "metadata": {},
   "source": [
    "##### answer: WITH AvgPublicationDate AS (     SELECT AVG(julianday(publication_date)) as avg_date_julian     FROM books )  SELECT title,         ABS(julianday(publication_date) - (SELECT avg_date_julian FROM AvgPublicationDate)) AS days_difference FROM books;"
   ]
  },
  {
   "cell_type": "markdown",
   "id": "ff28ecbb",
   "metadata": {},
   "source": [
    "#### question 63: Identify books that have the same length for their title as the average title length of all books, rounded to the nearest whole number. Additionally, find books that were published on Fridays."
   ]
  },
  {
   "cell_type": "code",
   "execution_count": 38,
   "id": "646b5596",
   "metadata": {},
   "outputs": [
    {
     "name": "stdout",
     "output_type": "stream",
     "text": [
      "Enter your SQL query (or type \"exit\" to quit): WITH AnagramAuthors AS (     SELECT author_id, name, title     FROM authors a     JOIN books b ON a.author_id = b.author_id     WHERE LENGTH(a.name) = LENGTH(b.title)     AND REPLACE(UPPER(a.name), ' ', '') = REPLACE(UPPER(b.title), ' ', '') )  SELECT a.name, a.birthdate, b.title FROM AnagramAuthors aa JOIN authors a ON aa.author_id = a.author_id JOIN books b ON aa.author_id = b.author_id ORDER BY a.birthdate;\n",
      "Error: ambiguous column name: author_id\n",
      "Enter your SQL query (or type \"exit\" to quit): WITH AvgTitleLength AS (     SELECT ROUND(AVG(LENGTH(title))) as avg_length     FROM books )  SELECT b.title, b.publication_date FROM books b, AvgTitleLength a WHERE LENGTH(b.title) = a.avg_length AND strftime('%w', b.publication_date) = '5';\n",
      "Empty DataFrame\n",
      "Columns: [title, publication_date]\n",
      "Index: []\n",
      "Enter your SQL query (or type \"exit\" to quit): exit\n"
     ]
    }
   ],
   "source": [
    "def main():\n",
    "    conn, cursor = create_challenge_database()\n",
    "\n",
    "    with open('queries.txt', 'a') as file:\n",
    "        while True:\n",
    "            query = input('Enter your SQL query (or type \"exit\" to quit): ')\n",
    "            if query.lower() == 'exit':\n",
    "                break\n",
    "\n",
    "            file.write(query + '\\n')\n",
    "\n",
    "            result = execute_query(conn, cursor, query)\n",
    "            print(result)\n",
    "\n",
    "    conn.close()\n",
    "\n",
    "if __name__ == \"__main__\":\n",
    "    main()"
   ]
  },
  {
   "cell_type": "markdown",
   "id": "654e062b",
   "metadata": {},
   "source": [
    "##### answer: WITH AvgTitleLength AS (     SELECT ROUND(AVG(LENGTH(title))) as avg_length     FROM books )  SELECT b.title, b.publication_date FROM books b, AvgTitleLength a WHERE LENGTH(b.title) = a.avg_length AND strftime('%w', b.publication_date) = '5';"
   ]
  },
  {
   "cell_type": "markdown",
   "id": "2a0722fe",
   "metadata": {},
   "source": [
    "#### question 64: Retrieve books that were published during the winter solstice (consider December 21st to December 23rd, inclusive). Additionally, find out how many days are left until New Year for each of these books."
   ]
  },
  {
   "cell_type": "code",
   "execution_count": 39,
   "id": "b79dafe2",
   "metadata": {},
   "outputs": [
    {
     "name": "stdout",
     "output_type": "stream",
     "text": [
      "Enter your SQL query (or type \"exit\" to quit): SELECT title, publication_date,         julianday('12-31-' || strftime('%Y', publication_date)) - julianday(publication_date) AS days_until_new_year FROM books WHERE strftime('%m-%d', publication_date) BETWEEN '12-21' AND '12-23';\n",
      "Empty DataFrame\n",
      "Columns: [title, publication_date, days_until_new_year]\n",
      "Index: []\n",
      "Enter your SQL query (or type \"exit\" to quit): exit\n"
     ]
    }
   ],
   "source": [
    "def main():\n",
    "    conn, cursor = create_challenge_database()\n",
    "\n",
    "    with open('queries.txt', 'a') as file:\n",
    "        while True:\n",
    "            query = input('Enter your SQL query (or type \"exit\" to quit): ')\n",
    "            if query.lower() == 'exit':\n",
    "                break\n",
    "\n",
    "            file.write(query + '\\n')\n",
    "\n",
    "            result = execute_query(conn, cursor, query)\n",
    "            print(result)\n",
    "\n",
    "    conn.close()\n",
    "\n",
    "if __name__ == \"__main__\":\n",
    "    main()"
   ]
  },
  {
   "cell_type": "markdown",
   "id": "3fb9fc96",
   "metadata": {},
   "source": [
    "##### answer: SELECT title, publication_date,         julianday('12-31-' || strftime('%Y', publication_date)) - julianday(publication_date) AS days_until_new_year FROM books WHERE strftime('%m-%d', publication_date) BETWEEN '12-21' AND '12-23';"
   ]
  },
  {
   "cell_type": "markdown",
   "id": "be1452b8",
   "metadata": {},
   "source": [
    "#### question 65: Retrieve the total transaction amounts for each book that has more vowels in its title than its corresponding author's name."
   ]
  },
  {
   "cell_type": "code",
   "execution_count": 31,
   "id": "49f5a0c8",
   "metadata": {},
   "outputs": [
    {
     "name": "stdout",
     "output_type": "stream",
     "text": [
      "Enter your SQL query (or type \"exit\" to quit): WITH VowelCount AS ( SELECT author_id, LENGTH(name) - LENGTH(REPLACE(LOWER(name), 'a', '')) - LENGTH(REPLACE(LOWER(name), 'e', '')) - LENGTH(REPLACE(LOWER(name), 'i', '')) - LENGTH(REPLACE(LOWER(name), 'o', '')) - LENGTH(REPLACE(LOWER(name), 'u', '')) AS author_vowel_count FROM authors ) SELECT b.title, SUM(t.amount) as total_transaction_amount FROM books b JOIN VowelCount vc ON b.author_id = vc.author_id LEFT JOIN transactions t ON b.book_id = t.book_id WHERE LENGTH(b.title) - LENGTH(REPLACE(LOWER(b.title), 'a', '')) - LENGTH(REPLACE(LOWER(b.title), 'e', '')) - LENGTH(REPLACE(LOWER(b.title), 'i', '')) - LENGTH(REPLACE(LOWER(b.title), 'o', '')) - LENGTH(REPLACE(LOWER(b.title), 'u', '')) > vc.author_vowel_count GROUP BY b.title;\n",
      "          title  total_transaction_amount\n",
      "0  Air he wear.                  172985.0\n",
      "Enter your SQL query (or type \"exit\" to quit): exit\n"
     ]
    }
   ],
   "source": [
    "def main():\n",
    "    conn, cursor = create_challenge_database()\n",
    "\n",
    "    with open('queries.txt', 'a') as file:\n",
    "        while True:\n",
    "            query = input('Enter your SQL query (or type \"exit\" to quit): ')\n",
    "            if query.lower() == 'exit':\n",
    "                break\n",
    "\n",
    "            file.write(query + '\\n')\n",
    "\n",
    "            result = execute_query(conn, cursor, query)\n",
    "            print(result)\n",
    "\n",
    "    conn.close()\n",
    "\n",
    "if __name__ == \"__main__\":\n",
    "    main()"
   ]
  },
  {
   "cell_type": "markdown",
   "id": "09dbf5af",
   "metadata": {},
   "source": [
    "##### answer: WITH VowelCount AS (     SELECT author_id,             LENGTH(name) - LENGTH(REPLACE(LOWER(name), 'a', '')) - LENGTH(REPLACE(LOWER(name), 'e', '')) - LENGTH(REPLACE(LOWER(name), 'i', '')) - LENGTH(REPLACE(LOWER(name), 'o', '')) - LENGTH(REPLACE(LOWER(name), 'u', '')) AS author_vowel_count     FROM authors )  SELECT b.title, SUM(t.amount) as total_transaction_amount FROM books b JOIN VowelCount vc ON b.author_id = vc.author_id LEFT JOIN transactions t ON b.book_id = t.book_id WHERE LENGTH(b.title) - LENGTH(REPLACE(LOWER(b.title), 'a', '')) - LENGTH(REPLACE(LOWER(b.title), 'e', '')) - LENGTH(REPLACE(LOWER(b.title), 'i', '')) - LENGTH(REPLACE(LOWER(b.title), 'o', '')) - LENGTH(REPLACE(LOWER(b.title), 'u', '')) > vc.author_vowel_count GROUP BY b.title;"
   ]
  },
  {
   "cell_type": "markdown",
   "id": "2e28d771",
   "metadata": {},
   "source": [
    "#### question 66: Find authors whose name starts with the same letter as any of their book titles and who published books in the last quarter of any leap year."
   ]
  },
  {
   "cell_type": "code",
   "execution_count": 42,
   "id": "c9b8a0ed",
   "metadata": {},
   "outputs": [
    {
     "name": "stdout",
     "output_type": "stream",
     "text": [
      "Enter your SQL query (or type \"exit\" to quit): SELECT a.name, b.title, b.publication_date FROM authors a INNER JOIN books b ON a.author_id = b.author_id WHERE SUBSTR(a.name, 1, 1) = SUBSTR(b.title, 1, 1) AND (strftime('%Y', b.publication_date) % 4 = 0 AND (strftime('%Y', b.publication_date) % 100 != 0 OR strftime('%Y', b.publication_date) % 400 = 0)) -- Leap Year condition AND strftime('%m', b.publication_date) BETWEEN '10' AND '12';\n",
      "               name                                    title publication_date\n",
      "0  Tonya Richardson  Tax mission half ability discuss never.       2020-03-19\n",
      "Enter your SQL query (or type \"exit\" to quit): exit\n"
     ]
    }
   ],
   "source": [
    "def main():\n",
    "    conn, cursor = create_challenge_database()\n",
    "\n",
    "    with open('queries.txt', 'a') as file:\n",
    "        while True:\n",
    "            query = input('Enter your SQL query (or type \"exit\" to quit): ')\n",
    "            if query.lower() == 'exit':\n",
    "                break\n",
    "\n",
    "            file.write(query + '\\n')\n",
    "\n",
    "            result = execute_query(conn, cursor, query)\n",
    "            print(result)\n",
    "\n",
    "    conn.close()\n",
    "\n",
    "if __name__ == \"__main__\":\n",
    "    main()"
   ]
  },
  {
   "cell_type": "markdown",
   "id": "83330a7b",
   "metadata": {},
   "source": [
    "##### answer: SELECT a.name, b.title, b.publication_date FROM authors a INNER JOIN books b ON a.author_id = b.author_id WHERE SUBSTR(a.name, 1, 1) = SUBSTR(b.title, 1, 1) AND (strftime('%Y', b.publication_date) % 4 = 0 AND (strftime('%Y', b.publication_date) % 100 != 0 OR strftime('%Y', b.publication_date) % 400 = 0)) -- Leap Year condition AND strftime('%m', b.publication_date) BETWEEN '10' AND '12';"
   ]
  },
  {
   "cell_type": "markdown",
   "id": "d53b5f86",
   "metadata": {},
   "source": [
    "#### question 67: Retrieve authors whose books have seen an increase in monthly sales every month for the past 6 months."
   ]
  },
  {
   "cell_type": "code",
   "execution_count": 43,
   "id": "c42d4dc6",
   "metadata": {},
   "outputs": [
    {
     "name": "stdout",
     "output_type": "stream",
     "text": [
      "Enter your SQL query (or type \"exit\" to quit): WITH MonthlySales AS (     SELECT b.author_id, strftime('%Y-%m', t.purchase_date) AS sale_month, COUNT(t.transaction_id) AS sales     FROM books b     JOIN transactions t ON b.book_id = t.book_id     GROUP BY b.author_id, sale_month ),  LagSales AS (     SELECT author_id, sale_month, sales,            LAG(sales, 1) OVER(PARTITION BY author_id ORDER BY sale_month) AS last_month_sales     FROM MonthlySales     WHERE sale_month BETWEEN strftime('%Y-%m', 'now', '-6 months') AND strftime('%Y-%m', 'now', '-1 months') )  SELECT author_id FROM LagSales WHERE sales > last_month_sales GROUP BY author_id HAVING COUNT(sale_month) = 6;\n",
      "Empty DataFrame\n",
      "Columns: [author_id]\n",
      "Index: []\n",
      "Enter your SQL query (or type \"exit\" to quit): exit\n"
     ]
    }
   ],
   "source": [
    "def main():\n",
    "    conn, cursor = create_challenge_database()\n",
    "\n",
    "    with open('queries.txt', 'a') as file:\n",
    "        while True:\n",
    "            query = input('Enter your SQL query (or type \"exit\" to quit): ')\n",
    "            if query.lower() == 'exit':\n",
    "                break\n",
    "\n",
    "            file.write(query + '\\n')\n",
    "\n",
    "            result = execute_query(conn, cursor, query)\n",
    "            print(result)\n",
    "\n",
    "    conn.close()\n",
    "\n",
    "if __name__ == \"__main__\":\n",
    "    main()"
   ]
  },
  {
   "cell_type": "markdown",
   "id": "e7c61426",
   "metadata": {},
   "source": [
    "##### answer: WITH MonthlySales AS (     SELECT b.author_id, strftime('%Y-%m', t.purchase_date) AS sale_month, COUNT(t.transaction_id) AS sales     FROM books b     JOIN transactions t ON b.book_id = t.book_id     GROUP BY b.author_id, sale_month ),  LagSales AS (     SELECT author_id, sale_month, sales,            LAG(sales, 1) OVER(PARTITION BY author_id ORDER BY sale_month) AS last_month_sales     FROM MonthlySales     WHERE sale_month BETWEEN strftime('%Y-%m', 'now', '-6 months') AND strftime('%Y-%m', 'now', '-1 months') )  SELECT author_id FROM LagSales WHERE sales > last_month_sales GROUP BY author_id HAVING COUNT(sale_month) = 6;"
   ]
  },
  {
   "cell_type": "markdown",
   "id": "9da3a131",
   "metadata": {},
   "source": [
    "#### question 68: Identify authors who have both the highest average rating for their books and the highest total sales."
   ]
  },
  {
   "cell_type": "code",
   "execution_count": 32,
   "id": "8ae4ea93",
   "metadata": {},
   "outputs": [
    {
     "name": "stdout",
     "output_type": "stream",
     "text": [
      "Enter your SQL query (or type \"exit\" to quit): WITH AverageRating AS ( SELECT b.author_id, AVG(r.rating) AS avg_rating FROM books b JOIN reviews r ON b.book_id = r.book_id GROUP BY b.author_id ), TotalSales AS ( SELECT b.author_id, COUNT(t.transaction_id) AS sales FROM books b JOIN transactions t ON b.book_id = t.book_id GROUP BY b.author_id ) SELECT a.name FROM authors a JOIN AverageRating ar ON a.author_id = ar.author_id JOIN TotalSales ts ON a.author_id = ts.author_id WHERE ar.avg_rating = (SELECT MAX(avg_rating) FROM AverageRating) AND ts.sales = (SELECT MAX(sales) FROM TotalSales);\n",
      "Empty DataFrame\n",
      "Columns: [name]\n",
      "Index: []\n",
      "Enter your SQL query (or type \"exit\" to quit): exit\n"
     ]
    }
   ],
   "source": [
    "def main():\n",
    "    conn, cursor = create_challenge_database()\n",
    "\n",
    "    with open('queries.txt', 'a') as file:\n",
    "        while True:\n",
    "            query = input('Enter your SQL query (or type \"exit\" to quit): ')\n",
    "            if query.lower() == 'exit':\n",
    "                break\n",
    "\n",
    "            file.write(query + '\\n')\n",
    "\n",
    "            result = execute_query(conn, cursor, query)\n",
    "            print(result)\n",
    "\n",
    "    conn.close()\n",
    "\n",
    "if __name__ == \"__main__\":\n",
    "    main()"
   ]
  },
  {
   "cell_type": "markdown",
   "id": "422ef952",
   "metadata": {},
   "source": [
    "##### answer: WITH AverageRating AS (     SELECT b.author_id, AVG(r.rating) AS avg_rating     FROM books b     JOIN reviews r ON b.book_id = r.book_id     GROUP BY b.author_id ),  TotalSales AS (     SELECT b.author_id, COUNT(t.transaction_id) AS sales     FROM books b     JOIN transactions t ON b.book_id = t.book_id     GROUP BY b.author_id )  SELECT a.name FROM authors a JOIN AverageRating ar ON a.author_id = ar.author_id JOIN TotalSales ts ON a.author_id = ts.author_id WHERE ar.avg_rating = (SELECT MAX(avg_rating) FROM AverageRating) AND ts.sales = (SELECT MAX(sales) FROM TotalSales);"
   ]
  },
  {
   "cell_type": "markdown",
   "id": "b56f107b",
   "metadata": {},
   "source": [
    "#### question 69: For every author, retrieve their most sold book title during the month where they had the most sales. If there is a tie for the top month, consider the most recent month."
   ]
  },
  {
   "cell_type": "code",
   "execution_count": 45,
   "id": "b841ce17",
   "metadata": {},
   "outputs": [
    {
     "name": "stdout",
     "output_type": "stream",
     "text": [
      "Enter your SQL query (or type \"exit\" to quit): WITH MonthlySales AS (     SELECT b.author_id, strftime('%Y-%m', t.purchase_date) AS sale_month, t.book_id, COUNT(t.transaction_id) AS sales     FROM books b     JOIN transactions t ON b.book_id = t.book_id     GROUP BY b.author_id, sale_month, t.book_id ),  RankedMonths AS (     SELECT author_id, sale_month, SUM(sales) AS month_sales,            ROW_NUMBER() OVER(PARTITION BY author_id ORDER BY SUM(sales) DESC, sale_month DESC) AS rank     FROM MonthlySales     GROUP BY author_id, sale_month )  SELECT rm.author_id, a.name, b.title AS best_selling_title, rm.sale_month FROM RankedMonths rm JOIN books b ON b.book_id = (     SELECT book_id      FROM MonthlySales     WHERE author_id = rm.author_id AND sale_month = rm.sale_month     ORDER BY sales DESC     LIMIT 1 ) JOIN authors a ON a.author_id = rm.author_id WHERE rm.rank = 1;\n",
      "   author_id             name                           best_selling_title  \\\n",
      "0          1   Lydia Peterson          Support various summer save career.   \n",
      "1          2  Nicholas Wilson            To idea low bed matter community.   \n",
      "2          3    Omar Marshall                          Rise should decide.   \n",
      "3          4      Kevin Smith   International sea medical main experience.   \n",
      "4          5    David Perkins               Once still charge feel senior.   \n",
      "5          6    Barry Sherman  Month management chance become south store.   \n",
      "6          7     Gregory Ball                 Drug than control according.   \n",
      "7          8       Amber Pope                            Name close white.   \n",
      "8          9   James Williams              Hear weight image almost sound.   \n",
      "9         10      Heather Fox                        Trial woman economic.   \n",
      "\n",
      "  sale_month  \n",
      "0    2022-09  \n",
      "1    2022-11  \n",
      "2    2023-08  \n",
      "3    2023-06  \n",
      "4    2022-11  \n",
      "5    2023-05  \n",
      "6    2022-12  \n",
      "7    2022-12  \n",
      "8    2023-08  \n",
      "9    2022-12  \n",
      "Enter your SQL query (or type \"exit\" to quit): WITH MonthlySales AS (     SELECT b.author_id, strftime('%Y-%m', t.purchase_date) AS sale_month, t.book_id, COUNT(t.transaction_id) AS sales     FROM books b     JOIN transactions t ON b.book_id = t.book_id     GROUP BY b.author_id, sale_month, t.book_id ),  RankedMonths AS (     SELECT author_id, sale_month, SUM(sales) AS month_sales,            ROW_NUMBER() OVER(PARTITION BY author_id ORDER BY SUM(sales) DESC, sale_month DESC) AS rank     FROM MonthlySales     GROUP BY author_id, sale_month )  SELECT rm.author_id, a.name, b.title AS best_selling_title, rm.sale_month FROM RankedMonths rm JOIN books b ON b.book_id = (     SELECT book_id      FROM MonthlySales     WHERE author_id = rm.author_id AND sale_month = rm.sale_month     ORDER BY sales DESC     LIMIT 1 ) JOIN authors a ON a.author_id = rm.author_id WHERE rm.rank = 1;\n",
      "   author_id             name                           best_selling_title  \\\n",
      "0          1   Lydia Peterson          Support various summer save career.   \n",
      "1          2  Nicholas Wilson            To idea low bed matter community.   \n",
      "2          3    Omar Marshall                          Rise should decide.   \n",
      "3          4      Kevin Smith   International sea medical main experience.   \n",
      "4          5    David Perkins               Once still charge feel senior.   \n",
      "5          6    Barry Sherman  Month management chance become south store.   \n",
      "6          7     Gregory Ball                 Drug than control according.   \n",
      "7          8       Amber Pope                            Name close white.   \n",
      "8          9   James Williams              Hear weight image almost sound.   \n",
      "9         10      Heather Fox                        Trial woman economic.   \n",
      "\n",
      "  sale_month  \n",
      "0    2022-09  \n",
      "1    2022-11  \n",
      "2    2023-08  \n",
      "3    2023-06  \n",
      "4    2022-11  \n",
      "5    2023-05  \n",
      "6    2022-12  \n",
      "7    2022-12  \n",
      "8    2023-08  \n",
      "9    2022-12  \n",
      "Enter your SQL query (or type \"exit\" to quit): exit\n"
     ]
    }
   ],
   "source": [
    "def main():\n",
    "    conn, cursor = create_challenge_database()\n",
    "\n",
    "    with open('queries.txt', 'a') as file:\n",
    "        while True:\n",
    "            query = input('Enter your SQL query (or type \"exit\" to quit): ')\n",
    "            if query.lower() == 'exit':\n",
    "                break\n",
    "\n",
    "            file.write(query + '\\n')\n",
    "\n",
    "            result = execute_query(conn, cursor, query)\n",
    "            print(result)\n",
    "\n",
    "    conn.close()\n",
    "\n",
    "if __name__ == \"__main__\":\n",
    "    main()"
   ]
  },
  {
   "cell_type": "markdown",
   "id": "84307595",
   "metadata": {},
   "source": [
    "##### answer: WITH MonthlySales AS (     SELECT b.author_id, strftime('%Y-%m', t.purchase_date) AS sale_month, t.book_id, COUNT(t.transaction_id) AS sales     FROM books b     JOIN transactions t ON b.book_id = t.book_id     GROUP BY b.author_id, sale_month, t.book_id ),  RankedMonths AS (     SELECT author_id, sale_month, SUM(sales) AS month_sales,            ROW_NUMBER() OVER(PARTITION BY author_id ORDER BY SUM(sales) DESC, sale_month DESC) AS rank     FROM MonthlySales     GROUP BY author_id, sale_month )  SELECT rm.author_id, a.name, b.title AS best_selling_title, rm.sale_month FROM RankedMonths rm JOIN books b ON b.book_id = (     SELECT book_id      FROM MonthlySales     WHERE author_id = rm.author_id AND sale_month = rm.sale_month     ORDER BY sales DESC     LIMIT 1 ) JOIN authors a ON a.author_id = rm.author_id WHERE rm.rank = 1;"
   ]
  },
  {
   "cell_type": "markdown",
   "id": "0b983ace",
   "metadata": {},
   "source": [
    "#### question 70: For authors who have published at least 3 books, identify those for whom the average length of book titles has decreased with each publication."
   ]
  },
  {
   "cell_type": "code",
   "execution_count": 46,
   "id": "6a9b3b1d",
   "metadata": {},
   "outputs": [
    {
     "name": "stdout",
     "output_type": "stream",
     "text": [
      "Enter your SQL query (or type \"exit\" to quit): WITH TitleLengths AS (     SELECT b.author_id, b.publication_date, LENGTH(b.title) AS title_length     FROM books b )  , RankedTitles AS (     SELECT author_id, publication_date, title_length,            ROW_NUMBER() OVER (PARTITION BY author_id ORDER BY publication_date) AS pub_rank     FROM TitleLengths )  SELECT DISTINCT a.name FROM authors a WHERE EXISTS (     SELECT 1     FROM RankedTitles rt1     JOIN RankedTitles rt2 ON rt1.author_id = rt2.author_id AND rt1.pub_rank = rt2.pub_rank - 1     WHERE rt1.author_id = a.author_id AND rt1.title_length > rt2.title_length ) AND (SELECT COUNT(*) FROM books b WHERE b.author_id = a.author_id) >= 3;\n",
      "                name\n",
      "0    Caroline Newman\n",
      "1  Alexander Russell\n",
      "2       Mark Johnson\n",
      "3       Kyle Johnson\n",
      "4    Timothy Alvarez\n",
      "5       Kent Johnson\n",
      "6       Amanda Brown\n",
      "7       John Mcclain\n",
      "Enter your SQL query (or type \"exit\" to quit): exit\n"
     ]
    }
   ],
   "source": [
    "def main():\n",
    "    conn, cursor = create_challenge_database()\n",
    "\n",
    "    with open('queries.txt', 'a') as file:\n",
    "        while True:\n",
    "            query = input('Enter your SQL query (or type \"exit\" to quit): ')\n",
    "            if query.lower() == 'exit':\n",
    "                break\n",
    "\n",
    "            file.write(query + '\\n')\n",
    "\n",
    "            result = execute_query(conn, cursor, query)\n",
    "            print(result)\n",
    "\n",
    "    conn.close()\n",
    "\n",
    "if __name__ == \"__main__\":\n",
    "    main()"
   ]
  },
  {
   "cell_type": "markdown",
   "id": "221b534a",
   "metadata": {},
   "source": [
    "##### answer:  WITH TitleLengths AS (     SELECT b.author_id, b.publication_date, LENGTH(b.title) AS title_length  FROM books b )  , RankedTitles AS (     SELECT author_id, publication_date, title_length,            ROW_NUMBER() OVER (PARTITION BY author_id ORDER BY publication_date) AS pub_rank     FROM TitleLengths )  SELECT DISTINCT a.name FROM authors a WHERE EXISTS (     SELECT 1     FROM RankedTitles rt1     JOIN RankedTitles rt2 ON rt1.author_id = rt2.author_id AND rt1.pub_rank = rt2.pub_rank - 1     WHERE rt1.author_id = a.author_id AND rt1.title_length > rt2.title_length ) AND (SELECT COUNT(*) FROM books b WHERE b.author_id = a.author_id) >= 3;"
   ]
  },
  {
   "cell_type": "markdown",
   "id": "105c60a1",
   "metadata": {},
   "source": [
    "#### question 71: Identify the author whose books have consistently received reviews that improve over time. That is, for each of their books, the earliest review has the lowest rating and the latest review has the highest rating."
   ]
  },
  {
   "cell_type": "code",
   "execution_count": 47,
   "id": "a62d6f21",
   "metadata": {},
   "outputs": [
    {
     "name": "stdout",
     "output_type": "stream",
     "text": [
      "Enter your SQL query (or type \"exit\" to quit): WITH BookReviewExtremes AS (     SELECT b.author_id, r.book_id,             MIN(r.review_date) AS earliest_review_date,             MAX(r.review_date) AS latest_review_date,             FIRST_VALUE(r.rating) OVER (PARTITION BY r.book_id ORDER BY r.review_date) AS earliest_rating,             LAST_VALUE(r.rating) OVER (PARTITION BY r.book_id ORDER BY r.review_date) AS latest_rating     FROM books b     JOIN reviews r ON b.book_id = r.book_id     GROUP BY b.author_id, r.book_id )  SELECT DISTINCT a.name FROM authors a JOIN BookReviewExtremes bre ON a.author_id = bre.author_id WHERE bre.earliest_rating < bre.latest_rating;\n",
      "Empty DataFrame\n",
      "Columns: [name]\n",
      "Index: []\n",
      "Enter your SQL query (or type \"exit\" to quit): exit\n"
     ]
    }
   ],
   "source": [
    "def main():\n",
    "    conn, cursor = create_challenge_database()\n",
    "\n",
    "    with open('queries.txt', 'a') as file:\n",
    "        while True:\n",
    "            query = input('Enter your SQL query (or type \"exit\" to quit): ')\n",
    "            if query.lower() == 'exit':\n",
    "                break\n",
    "\n",
    "            file.write(query + '\\n')\n",
    "\n",
    "            result = execute_query(conn, cursor, query)\n",
    "            print(result)\n",
    "\n",
    "    conn.close()\n",
    "\n",
    "if __name__ == \"__main__\":\n",
    "    main()"
   ]
  },
  {
   "cell_type": "markdown",
   "id": "e31c62dd",
   "metadata": {},
   "source": [
    "##### answer: WITH BookReviewExtremes AS (     SELECT b.author_id, r.book_id,             MIN(r.review_date) AS earliest_review_date,             MAX(r.review_date) AS latest_review_date,             FIRST_VALUE(r.rating) OVER (PARTITION BY r.book_id ORDER BY r.review_date) AS earliest_rating,             LAST_VALUE(r.rating) OVER (PARTITION BY r.book_id ORDER BY r.review_date) AS latest_rating     FROM books b     JOIN reviews r ON b.book_id = r.book_id     GROUP BY b.author_id, r.book_id )  SELECT DISTINCT a.name FROM authors a JOIN BookReviewExtremes bre ON a.author_id = bre.author_id WHERE bre.earliest_rating < bre.latest_rating;"
   ]
  },
  {
   "cell_type": "markdown",
   "id": "d851bff3",
   "metadata": {},
   "source": [
    "#### question 72: Determine the author whose books have the most fluctuating sales throughout the years. This means, the difference between their best year (highest sales) and worst year (lowest sales) is the largest."
   ]
  },
  {
   "cell_type": "code",
   "execution_count": 48,
   "id": "846c3b4d",
   "metadata": {},
   "outputs": [
    {
     "name": "stdout",
     "output_type": "stream",
     "text": [
      "Enter your SQL query (or type \"exit\" to quit): WITH YearlySales AS (     SELECT b.author_id, strftime('%Y', t.purchase_date) AS year, COUNT(t.transaction_id) AS sales     FROM books b     JOIN transactions t ON b.book_id = t.book_id     GROUP BY b.author_id, year )  , MaxMinSales AS (     SELECT author_id, MAX(sales) AS max_sales, MIN(sales) AS min_sales     FROM YearlySales     GROUP BY author_id )  SELECT a.name, (mms.max_sales - mms.min_sales) AS sales_difference FROM authors a JOIN MaxMinSales mms ON a.author_id = mms.author_id ORDER BY sales_difference DESC LIMIT 1;\n",
      "               name  sales_difference\n",
      "0  Rebecca Caldwell                12\n",
      "Enter your SQL query (or type \"exit\" to quit): exit\n"
     ]
    }
   ],
   "source": [
    "def main():\n",
    "    conn, cursor = create_challenge_database()\n",
    "\n",
    "    with open('queries.txt', 'a') as file:\n",
    "        while True:\n",
    "            query = input('Enter your SQL query (or type \"exit\" to quit): ')\n",
    "            if query.lower() == 'exit':\n",
    "                break\n",
    "\n",
    "            file.write(query + '\\n')\n",
    "\n",
    "            result = execute_query(conn, cursor, query)\n",
    "            print(result)\n",
    "\n",
    "    conn.close()\n",
    "\n",
    "if __name__ == \"__main__\":\n",
    "    main()"
   ]
  },
  {
   "cell_type": "markdown",
   "id": "3610e15a",
   "metadata": {},
   "source": [
    "##### answer: WITH YearlySales AS (     SELECT b.author_id, strftime('%Y', t.purchase_date) AS year, COUNT(t.transaction_id) AS sales     FROM books b     JOIN transactions t ON b.book_id = t.book_id     GROUP BY b.author_id, year )  , MaxMinSales AS (     SELECT author_id, MAX(sales) AS max_sales, MIN(sales) AS min_sales     FROM YearlySales     GROUP BY author_id )  SELECT a.name, (mms.max_sales - mms.min_sales) AS sales_difference FROM authors a JOIN MaxMinSales mms ON a.author_id = mms.author_id ORDER BY sales_difference DESC LIMIT 1;"
   ]
  },
  {
   "cell_type": "markdown",
   "id": "cfa39d45",
   "metadata": {},
   "source": [
    "#### question 73: For each author, determine the year in which they had the most publications. If there are ties, show all years with the maximum number of publications."
   ]
  },
  {
   "cell_type": "code",
   "execution_count": 49,
   "id": "a343e800",
   "metadata": {},
   "outputs": [
    {
     "name": "stdout",
     "output_type": "stream",
     "text": [
      "Enter your SQL query (or type \"exit\" to quit): WITH YearlyPublications AS (     SELECT a.author_id, strftime('%Y', b.publication_date) AS year, COUNT(b.book_id) AS count_books     FROM authors a     JOIN books b ON a.author_id = b.author_id     GROUP BY a.author_id, year )  , MaxPublications AS (     SELECT author_id, MAX(count_books) AS max_books     FROM YearlyPublications     GROUP BY author_id )  SELECT a.name, yp.year, yp.count_books FROM authors a JOIN YearlyPublications yp ON a.author_id = yp.author_id JOIN MaxPublications mp ON yp.author_id = mp.author_id AND yp.count_books = mp.max_books;\n",
      "                   name  year  count_books\n",
      "0      Brandon Jennings  2013            1\n",
      "1      Brandon Jennings  2014            1\n",
      "2      Brandon Jennings  2019            1\n",
      "3      Brandon Jennings  2020            1\n",
      "4      Katelyn Williams  2016            2\n",
      "5         Scott Shepard  2013            2\n",
      "6         Scott Shepard  2017            2\n",
      "7           Angel Knapp  2014            1\n",
      "8           Angel Knapp  2015            1\n",
      "9           Angel Knapp  2021            1\n",
      "10          Ashley Nash  2018            3\n",
      "11          Ashley Nash  2019            3\n",
      "12       Erica Mcdaniel  2016            1\n",
      "13       Erica Mcdaniel  2020            1\n",
      "14       Erica Mcdaniel  2022            1\n",
      "15             Amy Tate  2018            3\n",
      "16    Gregory Frederick  2018            2\n",
      "17    Gregory Frederick  2019            2\n",
      "18        Charles Logan  2015            1\n",
      "19        Charles Logan  2017            1\n",
      "20        Charles Logan  2022            1\n",
      "21  Nicole Anderson DVM  2020            2\n",
      "Enter your SQL query (or type \"exit\" to quit): WITH YearlyPublications AS (     SELECT a.author_id, strftime('%Y', b.publication_date) AS year, COUNT(b.book_id) AS count_books     FROM authors a     JOIN books b ON a.author_id = b.author_id     GROUP BY a.author_id, year )  , MaxPublications AS (     SELECT author_id, MAX(count_books) AS max_books     FROM YearlyPublications     GROUP BY author_id )  SELECT a.name, yp.year, yp.count_books FROM authors a JOIN YearlyPublications yp ON a.author_id = yp.author_id JOIN MaxPublications mp ON yp.author_id = mp.author_id AND yp.count_books = mp.max_books;\n",
      "                   name  year  count_books\n",
      "0      Brandon Jennings  2013            1\n",
      "1      Brandon Jennings  2014            1\n",
      "2      Brandon Jennings  2019            1\n",
      "3      Brandon Jennings  2020            1\n",
      "4      Katelyn Williams  2016            2\n",
      "5         Scott Shepard  2013            2\n",
      "6         Scott Shepard  2017            2\n",
      "7           Angel Knapp  2014            1\n",
      "8           Angel Knapp  2015            1\n",
      "9           Angel Knapp  2021            1\n",
      "10          Ashley Nash  2018            3\n",
      "11          Ashley Nash  2019            3\n",
      "12       Erica Mcdaniel  2016            1\n",
      "13       Erica Mcdaniel  2020            1\n",
      "14       Erica Mcdaniel  2022            1\n",
      "15             Amy Tate  2018            3\n",
      "16    Gregory Frederick  2018            2\n",
      "17    Gregory Frederick  2019            2\n",
      "18        Charles Logan  2015            1\n",
      "19        Charles Logan  2017            1\n",
      "20        Charles Logan  2022            1\n",
      "21  Nicole Anderson DVM  2020            2\n",
      "Enter your SQL query (or type \"exit\" to quit): exit\n"
     ]
    }
   ],
   "source": [
    "def main():\n",
    "    conn, cursor = create_challenge_database()\n",
    "\n",
    "    with open('queries.txt', 'a') as file:\n",
    "        while True:\n",
    "            query = input('Enter your SQL query (or type \"exit\" to quit): ')\n",
    "            if query.lower() == 'exit':\n",
    "                break\n",
    "\n",
    "            file.write(query + '\\n')\n",
    "\n",
    "            result = execute_query(conn, cursor, query)\n",
    "            print(result)\n",
    "\n",
    "    conn.close()\n",
    "\n",
    "if __name__ == \"__main__\":\n",
    "    main()"
   ]
  },
  {
   "cell_type": "markdown",
   "id": "c1d1fe78",
   "metadata": {},
   "source": [
    "##### answer: WITH YearlyPublications AS (     SELECT a.author_id, strftime('%Y', b.publication_date) AS year, COUNT(b.book_id) AS count_books     FROM authors a     JOIN books b ON a.author_id = b.author_id     GROUP BY a.author_id, year )  , MaxPublications AS (     SELECT author_id, MAX(count_books) AS max_books     FROM YearlyPublications     GROUP BY author_id )  SELECT a.name, yp.year, yp.count_books FROM authors a JOIN YearlyPublications yp ON a.author_id = yp.author_id JOIN MaxPublications mp ON yp.author_id = mp.author_id AND yp.count_books = mp.max_books;"
   ]
  },
  {
   "cell_type": "markdown",
   "id": "f8870c80",
   "metadata": {},
   "source": [
    "#### question 74: Find the authors whose average book rating is above the overall average book rating and who have written at least 3 books. Order the results by the author's average rating."
   ]
  },
  {
   "cell_type": "code",
   "execution_count": 50,
   "id": "6e088824",
   "metadata": {},
   "outputs": [
    {
     "name": "stdout",
     "output_type": "stream",
     "text": [
      "Enter your SQL query (or type \"exit\" to quit): WITH AverageRatings AS (     SELECT b.author_id, AVG(r.rating) AS avg_rating     FROM books b     JOIN reviews r ON b.book_id = r.book_id     GROUP BY b.author_id     HAVING COUNT(b.book_id) >= 3 )  SELECT a.name, ar.avg_rating FROM authors a JOIN AverageRatings ar ON a.author_id = ar.author_id WHERE ar.avg_rating > (SELECT AVG(rating) FROM reviews) ORDER BY ar.avg_rating DESC;\n",
      "               name  avg_rating\n",
      "0   Amanda Mcdaniel    4.500000\n",
      "1  Kenneth Williams    3.571429\n",
      "2      Kevin Fowler    3.363636\n",
      "3   Misty Henderson    3.166667\n",
      "4   Andrew Faulkner    3.000000\n",
      "5     Michael Joyce    2.913043\n",
      "Enter your SQL query (or type \"exit\" to quit): exit\n"
     ]
    }
   ],
   "source": [
    "def main():\n",
    "    conn, cursor = create_challenge_database()\n",
    "\n",
    "    with open('queries.txt', 'a') as file:\n",
    "        while True:\n",
    "            query = input('Enter your SQL query (or type \"exit\" to quit): ')\n",
    "            if query.lower() == 'exit':\n",
    "                break\n",
    "\n",
    "            file.write(query + '\\n')\n",
    "\n",
    "            result = execute_query(conn, cursor, query)\n",
    "            print(result)\n",
    "\n",
    "    conn.close()\n",
    "\n",
    "if __name__ == \"__main__\":\n",
    "    main()"
   ]
  },
  {
   "cell_type": "markdown",
   "id": "4a1ba5aa",
   "metadata": {},
   "source": [
    "##### answer: WITH AverageRatings AS (     SELECT b.author_id, AVG(r.rating) AS avg_rating     FROM books b     JOIN reviews r ON b.book_id = r.book_id     GROUP BY b.author_id     HAVING COUNT(b.book_id) >= 3 )  SELECT a.name, ar.avg_rating FROM authors a JOIN AverageRatings ar ON a.author_id = ar.author_id WHERE ar.avg_rating > (SELECT AVG(rating) FROM reviews) ORDER BY ar.avg_rating DESC;"
   ]
  },
  {
   "cell_type": "markdown",
   "id": "9c4f016f",
   "metadata": {},
   "source": [
    "#### question 75: Which month in the last year had the highest total sales in terms of the number of books sold?"
   ]
  },
  {
   "cell_type": "code",
   "execution_count": 51,
   "id": "cdcb0a0d",
   "metadata": {},
   "outputs": [
    {
     "name": "stdout",
     "output_type": "stream",
     "text": [
      "Enter your SQL query (or type \"exit\" to quit): SELECT strftime('%Y-%m', t.purchase_date) AS Month, COUNT(t.transaction_id) AS TotalSales FROM transactions t WHERE t.purchase_date BETWEEN datetime('now', '-1 year') AND datetime('now') GROUP BY Month ORDER BY TotalSales DESC LIMIT 1;\n",
      "     Month  TotalSales\n",
      "0  2023-02          25\n",
      "Enter your SQL query (or type \"exit\" to quit): SELECT strftime('%Y-%m', t.purchase_date) AS Month, COUNT(t.transaction_id) AS TotalSales FROM transactions t WHERE t.purchase_date BETWEEN datetime('now', '-1 year') AND datetime('now') GROUP BY Month ORDER BY TotalSales DESC LIMIT 1;\n",
      "     Month  TotalSales\n",
      "0  2023-02          25\n",
      "Enter your SQL query (or type \"exit\" to quit): exit\n"
     ]
    }
   ],
   "source": [
    "def main():\n",
    "    conn, cursor = create_challenge_database()\n",
    "\n",
    "    with open('queries.txt', 'a') as file:\n",
    "        while True:\n",
    "            query = input('Enter your SQL query (or type \"exit\" to quit): ')\n",
    "            if query.lower() == 'exit':\n",
    "                break\n",
    "\n",
    "            file.write(query + '\\n')\n",
    "\n",
    "            result = execute_query(conn, cursor, query)\n",
    "            print(result)\n",
    "\n",
    "    conn.close()\n",
    "\n",
    "if __name__ == \"__main__\":\n",
    "    main()"
   ]
  },
  {
   "cell_type": "markdown",
   "id": "bc33e338",
   "metadata": {},
   "source": [
    "##### answer: SELECT strftime('%Y-%m', t.purchase_date) AS Month, COUNT(t.transaction_id) AS TotalSales FROM transactions t WHERE t.purchase_date BETWEEN datetime('now', '-1 year') AND datetime('now') GROUP BY Month ORDER BY TotalSales DESC LIMIT 1;"
   ]
  },
  {
   "cell_type": "markdown",
   "id": "752114b3",
   "metadata": {},
   "source": [
    "#### question 76: What are the top 5 most reviewed books, and what's the average rating for each of these books?"
   ]
  },
  {
   "cell_type": "code",
   "execution_count": 52,
   "id": "85adeecc",
   "metadata": {},
   "outputs": [
    {
     "name": "stdout",
     "output_type": "stream",
     "text": [
      "Enter your SQL query (or type \"exit\" to quit): SELECT b.title, COUNT(r.review_id) AS NumberOfReviews, AVG(r.rating) AS AverageRating FROM books b JOIN reviews r ON b.book_id = r.book_id GROUP BY b.title ORDER BY NumberOfReviews DESC, AverageRating DESC LIMIT 5;\n",
      "                                     title  NumberOfReviews  AverageRating\n",
      "0                        Hope wait finish.                6       3.166667\n",
      "1                        Film beat forget.                6       2.000000\n",
      "2                Provide certainly senior.                5       2.400000\n",
      "3  Catch against not north order pressure.                4       4.500000\n",
      "4                       Think still space.                4       4.500000\n",
      "Enter your SQL query (or type \"exit\" to quit): exit\n"
     ]
    }
   ],
   "source": [
    "def main():\n",
    "    conn, cursor = create_challenge_database()\n",
    "\n",
    "    with open('queries.txt', 'a') as file:\n",
    "        while True:\n",
    "            query = input('Enter your SQL query (or type \"exit\" to quit): ')\n",
    "            if query.lower() == 'exit':\n",
    "                break\n",
    "\n",
    "            file.write(query + '\\n')\n",
    "\n",
    "            result = execute_query(conn, cursor, query)\n",
    "            print(result)\n",
    "\n",
    "    conn.close()\n",
    "\n",
    "if __name__ == \"__main__\":\n",
    "    main()"
   ]
  },
  {
   "cell_type": "markdown",
   "id": "6de5446e",
   "metadata": {},
   "source": [
    "##### answer: SELECT b.title, COUNT(r.review_id) AS NumberOfReviews, AVG(r.rating) AS AverageRating FROM books b JOIN reviews r ON b.book_id = r.book_id GROUP BY b.title ORDER BY NumberOfReviews DESC, AverageRating DESC LIMIT 5;"
   ]
  },
  {
   "cell_type": "markdown",
   "id": "3fa19101",
   "metadata": {},
   "source": [
    "#### question 77: Which authors have written more than 3 books and have at least one book that was not reviewed?"
   ]
  },
  {
   "cell_type": "code",
   "execution_count": 53,
   "id": "03a71b98",
   "metadata": {},
   "outputs": [
    {
     "name": "stdout",
     "output_type": "stream",
     "text": [
      "Enter your SQL query (or type \"exit\" to quit): SELECT a.name, COUNT(DISTINCT b.book_id) AS NumberOfBooks FROM authors a JOIN books b ON a.author_id = b.author_id LEFT JOIN reviews r ON b.book_id = r.book_id WHERE r.review_id IS NULL GROUP BY a.name HAVING COUNT(DISTINCT b.book_id) > 3;\n",
      "Empty DataFrame\n",
      "Columns: [name, NumberOfBooks]\n",
      "Index: []\n",
      "Enter your SQL query (or type \"exit\" to quit): exit\n"
     ]
    }
   ],
   "source": [
    "def main():\n",
    "    conn, cursor = create_challenge_database()\n",
    "\n",
    "    with open('queries.txt', 'a') as file:\n",
    "        while True:\n",
    "            query = input('Enter your SQL query (or type \"exit\" to quit): ')\n",
    "            if query.lower() == 'exit':\n",
    "                break\n",
    "\n",
    "            file.write(query + '\\n')\n",
    "\n",
    "            result = execute_query(conn, cursor, query)\n",
    "            print(result)\n",
    "\n",
    "    conn.close()\n",
    "\n",
    "if __name__ == \"__main__\":\n",
    "    main()"
   ]
  },
  {
   "cell_type": "markdown",
   "id": "316435bc",
   "metadata": {},
   "source": [
    "##### answer: SELECT a.name, COUNT(DISTINCT b.book_id) AS NumberOfBooks FROM authors a JOIN books b ON a.author_id = b.author_id LEFT JOIN reviews r ON b.book_id = r.book_id WHERE r.review_id IS NULL GROUP BY a.name HAVING COUNT(DISTINCT b.book_id) > 3;"
   ]
  },
  {
   "cell_type": "markdown",
   "id": "fea129fb",
   "metadata": {},
   "source": [
    "#### question 78: Given the database, can you determine if there's any correlation between the length of an author's biography (bio column in the authors table) and the average rating of their books? Generate a list of authors who have a bio length of more than 150 characters and whose books have an average rating greater than 4."
   ]
  },
  {
   "cell_type": "code",
   "execution_count": 54,
   "id": "281fee45",
   "metadata": {},
   "outputs": [
    {
     "name": "stdout",
     "output_type": "stream",
     "text": [
      "Enter your SQL query (or type \"exit\" to quit): SELECT     a.name AS AuthorName,     AVG(r.rating) AS AverageRating,     LENGTH(a.bio) AS BioLength FROM     authors a JOIN     books b ON a.author_id = b.author_id LEFT JOIN     reviews r ON b.book_id = r.book_id WHERE     LENGTH(a.bio) > 150 GROUP BY     a.name HAVING     AVG(r.rating) > 4 ORDER BY     AverageRating DESC;\n",
      "Empty DataFrame\n",
      "Columns: [AuthorName, AverageRating, BioLength]\n",
      "Index: []\n",
      "Enter your SQL query (or type \"exit\" to quit): exit\n"
     ]
    }
   ],
   "source": [
    "def main():\n",
    "    conn, cursor = create_challenge_database()\n",
    "\n",
    "    with open('queries.txt', 'a') as file:\n",
    "        while True:\n",
    "            query = input('Enter your SQL query (or type \"exit\" to quit): ')\n",
    "            if query.lower() == 'exit':\n",
    "                break\n",
    "\n",
    "            file.write(query + '\\n')\n",
    "\n",
    "            result = execute_query(conn, cursor, query)\n",
    "            print(result)\n",
    "\n",
    "    conn.close()\n",
    "\n",
    "if __name__ == \"__main__\":\n",
    "    main()"
   ]
  },
  {
   "cell_type": "markdown",
   "id": "94f57e42",
   "metadata": {},
   "source": [
    "##### answer: SELECT     a.name AS AuthorName,     AVG(r.rating) AS AverageRating,     LENGTH(a.bio) AS BioLength FROM     authors a JOIN     books b ON a.author_id = b.author_id LEFT JOIN     reviews r ON b.book_id = r.book_id WHERE     LENGTH(a.bio) > 150 GROUP BY     a.name HAVING     AVG(r.rating) > 4 ORDER BY     AverageRating DESC;"
   ]
  },
  {
   "cell_type": "markdown",
   "id": "1631205f",
   "metadata": {},
   "source": [
    "#### question 79: Identify authors who have received more than three reviews for their books where the review text contains the word \"fantastic\" or \"amazing\" (case-insensitive). Then, for these authors, calculate the average rating of all their books and list them in descending order of this average rating."
   ]
  },
  {
   "cell_type": "code",
   "execution_count": 55,
   "id": "2dd49e7c",
   "metadata": {},
   "outputs": [
    {
     "name": "stdout",
     "output_type": "stream",
     "text": [
      "Enter your SQL query (or type \"exit\" to quit): WITH ReviewCounts AS (     SELECT         a.author_id,         a.name AS author_name,         COUNT(DISTINCT r.review_id) AS number_of_fantastic_amazing_reviews     FROM authors a     JOIN books b ON a.author_id = b.author_id     JOIN reviews r ON b.book_id = r.book_id     WHERE r.review_text LIKE '%fantastic%' OR r.review_text LIKE '%amazing%'     GROUP BY a.author_id, a.name     HAVING COUNT(DISTINCT r.review_id) > 3 )  SELECT     rc.author_name,     rc.number_of_fantastic_amazing_reviews,     AVG(r.rating) AS average_rating FROM ReviewCounts rc JOIN books b ON rc.author_id = b.author_id JOIN reviews r ON b.book_id = r.book_id GROUP BY rc.author_name, rc.number_of_fantastic_amazing_reviews HAVING AVG(r.rating) > 3 ORDER BY AVG(r.rating) DESC;\n",
      "Empty DataFrame\n",
      "Columns: [author_name, number_of_fantastic_amazing_reviews, average_rating]\n",
      "Index: []\n",
      "Enter your SQL query (or type \"exit\" to quit): exit\n"
     ]
    }
   ],
   "source": [
    "def main():\n",
    "    conn, cursor = create_challenge_database()\n",
    "\n",
    "    with open('queries.txt', 'a') as file:\n",
    "        while True:\n",
    "            query = input('Enter your SQL query (or type \"exit\" to quit): ')\n",
    "            if query.lower() == 'exit':\n",
    "                break\n",
    "\n",
    "            file.write(query + '\\n')\n",
    "\n",
    "            result = execute_query(conn, cursor, query)\n",
    "            print(result)\n",
    "\n",
    "    conn.close()\n",
    "\n",
    "if __name__ == \"__main__\":\n",
    "    main()"
   ]
  },
  {
   "cell_type": "markdown",
   "id": "68937607",
   "metadata": {},
   "source": [
    "##### answer:  WITH ReviewCounts AS (     SELECT         a.author_id,         a.name AS author_name,         COUNT(DISTINCT r.review_id) AS number_of_fantastic_amazing_reviews     FROM authors a     JOIN books b ON a.author_id = b.author_id     JOIN reviews r ON b.book_id = r.book_id     WHERE r.review_text LIKE '%fantastic%' OR r.review_text LIKE '%amazing%'     GROUP BY a.author_id, a.name     HAVING COUNT(DISTINCT r.review_id) > 3 )  SELECT     rc.author_name,     rc.number_of_fantastic_amazing_reviews,     AVG(r.rating) AS average_rating FROM ReviewCounts rc JOIN books b ON rc.author_id = b.author_id JOIN reviews r ON b.book_id = r.book_id GROUP BY rc.author_name, rc.number_of_fantastic_amazing_reviews HAVING AVG(r.rating) > 3 ORDER BY AVG(r.rating) DESC;"
   ]
  },
  {
   "cell_type": "markdown",
   "id": "141d4ce7",
   "metadata": {},
   "source": [
    "#### question 80: Retrieve the book titles that have an odd number of words and their average word length is also odd."
   ]
  },
  {
   "cell_type": "code",
   "execution_count": 56,
   "id": "c295b5e6",
   "metadata": {},
   "outputs": [
    {
     "name": "stdout",
     "output_type": "stream",
     "text": [
      "Enter your SQL query (or type \"exit\" to quit): SELECT title FROM books WHERE (length(title) - length(replace(title, ' ', '')) + 1) % 2 != 0 AND (length(title) / (length(title) - length(replace(title, ' ', '')) + 1)) % 2 != 0;\n",
      "                                                title\n",
      "0                         Total make arrive sit hold.\n",
      "1                              Evidence radio speech.\n",
      "2                         Live case decide bed offer.\n",
      "3                               Spring although song.\n",
      "4                       Lead wide heavy society last.\n",
      "5                                    Forward dog gas.\n",
      "6                                   Group do instead.\n",
      "7              Maintain daughter necessary town just.\n",
      "8                               Sell individual five.\n",
      "9                             Sometimes sister order.\n",
      "10                              Tonight natural meet.\n",
      "11                Call nor economic specific receive.\n",
      "12  Audience arrive rock season smile director final.\n",
      "13                      Small start popular kid even.\n",
      "14                                    Teach data kid.\n",
      "15                                  Many poor author.\n",
      "Enter your SQL query (or type \"exit\" to quit): exit\n"
     ]
    }
   ],
   "source": [
    "def main():\n",
    "    conn, cursor = create_challenge_database()\n",
    "\n",
    "    with open('queries.txt', 'a') as file:\n",
    "        while True:\n",
    "            query = input('Enter your SQL query (or type \"exit\" to quit): ')\n",
    "            if query.lower() == 'exit':\n",
    "                break\n",
    "\n",
    "            file.write(query + '\\n')\n",
    "\n",
    "            result = execute_query(conn, cursor, query)\n",
    "            print(result)\n",
    "\n",
    "    conn.close()\n",
    "\n",
    "if __name__ == \"__main__\":\n",
    "    main()"
   ]
  },
  {
   "cell_type": "markdown",
   "id": "78b2b244",
   "metadata": {},
   "source": [
    "##### answer: SELECT title FROM books WHERE (length(title) - length(replace(title, ' ', '')) + 1) % 2 != 0 AND (length(title) / (length(title) - length(replace(title, ' ', '')) + 1)) % 2 != 0;"
   ]
  },
  {
   "cell_type": "markdown",
   "id": "4bb872e0",
   "metadata": {},
   "source": [
    "#### question 81: Retrieve books that were published on the day of the month equal to the number of letters in their title."
   ]
  },
  {
   "cell_type": "code",
   "execution_count": 57,
   "id": "8ff1ec8d",
   "metadata": {},
   "outputs": [
    {
     "name": "stdout",
     "output_type": "stream",
     "text": [
      "Enter your SQL query (or type \"exit\" to quit): SELECT title, publication_date FROM books WHERE CAST(strftime('%d', publication_date) AS INTEGER) = length(title);\n",
      "                           title publication_date\n",
      "0  Threat issue every stand way.       2017-04-29\n",
      "Enter your SQL query (or type \"exit\" to quit): exit\n"
     ]
    }
   ],
   "source": [
    "def main():\n",
    "    conn, cursor = create_challenge_database()\n",
    "\n",
    "    with open('queries.txt', 'a') as file:\n",
    "        while True:\n",
    "            query = input('Enter your SQL query (or type \"exit\" to quit): ')\n",
    "            if query.lower() == 'exit':\n",
    "                break\n",
    "\n",
    "            file.write(query + '\\n')\n",
    "\n",
    "            result = execute_query(conn, cursor, query)\n",
    "            print(result)\n",
    "\n",
    "    conn.close()\n",
    "\n",
    "if __name__ == \"__main__\":\n",
    "    main()"
   ]
  },
  {
   "cell_type": "markdown",
   "id": "4992bef3",
   "metadata": {},
   "source": [
    "##### answer: SELECT title, publication_date FROM books WHERE CAST(strftime('%d', publication_date) AS INTEGER) = length(title);"
   ]
  },
  {
   "cell_type": "markdown",
   "id": "c771a4fb",
   "metadata": {},
   "source": [
    "#### question 82: Find books where the sum of the ASCII values of the book's title is equal to the sum of the ASCII values of the author's name."
   ]
  },
  {
   "cell_type": "code",
   "execution_count": 58,
   "id": "6dcedafd",
   "metadata": {},
   "outputs": [
    {
     "name": "stdout",
     "output_type": "stream",
     "text": [
      "Enter your SQL query (or type \"exit\" to quit): WITH BookAsciiSum AS (     SELECT book_id, SUM(unicode(SUBSTR(title, rn, 1))) as sum_value     FROM books, (SELECT row_number() OVER () as rn FROM books) nums     WHERE rn <= LENGTH(title)     GROUP BY book_id ), AuthorAsciiSum AS (     SELECT author_id, SUM(unicode(SUBSTR(name, rn, 1))) as sum_value     FROM authors, (SELECT row_number() OVER () as rn FROM authors) nums     WHERE rn <= LENGTH(name)     GROUP BY author_id )  SELECT a.name, b.title FROM BookAsciiSum bas JOIN AuthorAsciiSum aas ON bas.sum_value = aas.sum_value JOIN authors a ON a.author_id = aas.author_id JOIN books b ON b.book_id = bas.book_id;\n",
      "Empty DataFrame\n",
      "Columns: [name, title]\n",
      "Index: []\n",
      "Enter your SQL query (or type \"exit\" to quit): exit\n"
     ]
    }
   ],
   "source": [
    "def main():\n",
    "    conn, cursor = create_challenge_database()\n",
    "\n",
    "    with open('queries.txt', 'a') as file:\n",
    "        while True:\n",
    "            query = input('Enter your SQL query (or type \"exit\" to quit): ')\n",
    "            if query.lower() == 'exit':\n",
    "                break\n",
    "\n",
    "            file.write(query + '\\n')\n",
    "\n",
    "            result = execute_query(conn, cursor, query)\n",
    "            print(result)\n",
    "\n",
    "    conn.close()\n",
    "\n",
    "if __name__ == \"__main__\":\n",
    "    main()"
   ]
  },
  {
   "cell_type": "markdown",
   "id": "eefee48f",
   "metadata": {},
   "source": [
    "##### answer: WITH BookAsciiSum AS (     SELECT book_id, SUM(unicode(SUBSTR(title, rn, 1))) as sum_value     FROM books, (SELECT row_number() OVER () as rn FROM books) nums     WHERE rn <= LENGTH(title)     GROUP BY book_id ), AuthorAsciiSum AS (     SELECT author_id, SUM(unicode(SUBSTR(name, rn, 1))) as sum_value     FROM authors, (SELECT row_number() OVER () as rn FROM authors) nums     WHERE rn <= LENGTH(name)     GROUP BY author_id )  SELECT a.name, b.title FROM BookAsciiSum bas JOIN AuthorAsciiSum aas ON bas.sum_value = aas.sum_value JOIN authors a ON a.author_id = aas.author_id JOIN books b ON b.book_id = bas.book_id;"
   ]
  },
  {
   "cell_type": "markdown",
   "id": "709b2088",
   "metadata": {},
   "source": [
    "#### question 83: Identify authors whose name starts with a vowel and they have written more than 2 books published in winter (December, January, February)."
   ]
  },
  {
   "cell_type": "code",
   "execution_count": 60,
   "id": "52892aab",
   "metadata": {},
   "outputs": [
    {
     "name": "stdout",
     "output_type": "stream",
     "text": [
      "Enter your SQL query (or type \"exit\" to quit): SELECT a.name FROM authors a JOIN books b ON a.author_id = b.author_id WHERE substr(a.name, 1, 1) IN ('A', 'E', 'I', 'O', 'U', 'a', 'e', 'i', 'o', 'u') GROUP BY a.name HAVING SUM(CASE WHEN strftime('%m', b.publication_date) IN ('12', '01', '02') THEN 1 ELSE 0 END) > 2;\n",
      "               name\n",
      "0  Elizabeth Graham\n",
      "Enter your SQL query (or type \"exit\" to quit): exit\n"
     ]
    }
   ],
   "source": [
    "def main():\n",
    "    conn, cursor = create_challenge_database()\n",
    "\n",
    "    with open('queries.txt', 'a') as file:\n",
    "        while True:\n",
    "            query = input('Enter your SQL query (or type \"exit\" to quit): ')\n",
    "            if query.lower() == 'exit':\n",
    "                break\n",
    "\n",
    "            file.write(query + '\\n')\n",
    "\n",
    "            result = execute_query(conn, cursor, query)\n",
    "            print(result)\n",
    "\n",
    "    conn.close()\n",
    "\n",
    "if __name__ == \"__main__\":\n",
    "    main()"
   ]
  },
  {
   "cell_type": "markdown",
   "id": "98a278fb",
   "metadata": {},
   "source": [
    "##### answer: SELECT a.name FROM authors a JOIN books b ON a.author_id = b.author_id WHERE substr(a.name, 1, 1) IN ('A', 'E', 'I', 'O', 'U', 'a', 'e', 'i', 'o', 'u') GROUP BY a.name HAVING SUM(CASE WHEN strftime('%m', b.publication_date) IN ('12', '01', '02') THEN 1 ELSE 0 END) > 2;"
   ]
  },
  {
   "cell_type": "markdown",
   "id": "f06070ad",
   "metadata": {},
   "source": [
    "#### question 84: Determine the title of the book with the most repeated letter in it."
   ]
  },
  {
   "cell_type": "code",
   "execution_count": 61,
   "id": "3c053f52",
   "metadata": {},
   "outputs": [
    {
     "name": "stdout",
     "output_type": "stream",
     "text": [
      "Enter your SQL query (or type \"exit\" to quit): WITH CharCounts AS (     SELECT title,            substr(title, rn, 1) as character,            count(substr(title, rn, 1)) as cnt     FROM books,          (SELECT row_number() OVER () as rn FROM books) nums     WHERE rn <= length(title)     GROUP BY title, substr(title, rn, 1) )  SELECT title, MAX(cnt) FROM CharCounts GROUP BY title ORDER BY cnt DESC LIMIT 1;\n",
      "                                title  MAX(cnt)\n",
      "0  Less difference area evidence get.         9\n",
      "Enter your SQL query (or type \"exit\" to quit): exit\n"
     ]
    }
   ],
   "source": [
    "def main():\n",
    "    conn, cursor = create_challenge_database()\n",
    "\n",
    "    with open('queries.txt', 'a') as file:\n",
    "        while True:\n",
    "            query = input('Enter your SQL query (or type \"exit\" to quit): ')\n",
    "            if query.lower() == 'exit':\n",
    "                break\n",
    "\n",
    "            file.write(query + '\\n')\n",
    "\n",
    "            result = execute_query(conn, cursor, query)\n",
    "            print(result)\n",
    "\n",
    "    conn.close()\n",
    "\n",
    "if __name__ == \"__main__\":\n",
    "    main()"
   ]
  },
  {
   "cell_type": "markdown",
   "id": "fa2e42d8",
   "metadata": {},
   "source": [
    "##### answer: WITH CharCounts AS (     SELECT title,            substr(title, rn, 1) as character,            count(substr(title, rn, 1)) as cnt     FROM books,          (SELECT row_number() OVER () as rn FROM books) nums     WHERE rn <= length(title)     GROUP BY title, substr(title, rn, 1) )  SELECT title, MAX(cnt) FROM CharCounts GROUP BY title ORDER BY cnt DESC LIMIT 1;"
   ]
  },
  {
   "cell_type": "markdown",
   "id": "9264e62f",
   "metadata": {},
   "source": [
    "#### question 85: Retrieve the names of authors who have the same number of vowels and consonants in their name."
   ]
  },
  {
   "cell_type": "code",
   "execution_count": 62,
   "id": "8ed04071",
   "metadata": {},
   "outputs": [
    {
     "name": "stdout",
     "output_type": "stream",
     "text": [
      "Enter your SQL query (or type \"exit\" to quit): SELECT name  FROM authors WHERE    (LENGTH(name) - LENGTH(REPLACE(name, 'A', '')) - LENGTH(REPLACE(name, 'E', '')) - LENGTH(REPLACE(name, 'I', '')) - LENGTH(REPLACE(name, 'O', '')) - LENGTH(REPLACE(name, 'U', '')))    =    (LENGTH(name) - LENGTH(name || 'AEIOU') + 5);\n",
      "Empty DataFrame\n",
      "Columns: [name]\n",
      "Index: []\n",
      "Enter your SQL query (or type \"exit\" to quit): exit\n"
     ]
    }
   ],
   "source": [
    "def main():\n",
    "    conn, cursor = create_challenge_database()\n",
    "\n",
    "    with open('queries.txt', 'a') as file:\n",
    "        while True:\n",
    "            query = input('Enter your SQL query (or type \"exit\" to quit): ')\n",
    "            if query.lower() == 'exit':\n",
    "                break\n",
    "\n",
    "            file.write(query + '\\n')\n",
    "\n",
    "            result = execute_query(conn, cursor, query)\n",
    "            print(result)\n",
    "\n",
    "    conn.close()\n",
    "\n",
    "if __name__ == \"__main__\":\n",
    "    main()"
   ]
  },
  {
   "cell_type": "markdown",
   "id": "182949e7",
   "metadata": {},
   "source": [
    "##### answer: SELECT name  FROM authors WHERE    (LENGTH(name) - LENGTH(REPLACE(name, 'A', '')) - LENGTH(REPLACE(name, 'E', '')) - LENGTH(REPLACE(name, 'I', '')) - LENGTH(REPLACE(name, 'O', '')) - LENGTH(REPLACE(name, 'U', '')))    =    (LENGTH(name) - LENGTH(name || 'AEIOU') + 5);"
   ]
  },
  {
   "cell_type": "markdown",
   "id": "75827066",
   "metadata": {},
   "source": [
    "#### question 86: For authors born on a Friday, retrieve the books they wrote which have titles longer than their name."
   ]
  },
  {
   "cell_type": "code",
   "execution_count": 63,
   "id": "6b7515b3",
   "metadata": {},
   "outputs": [
    {
     "name": "stdout",
     "output_type": "stream",
     "text": [
      "Enter your SQL query (or type \"exit\" to quit): SELECT name  FROM authors WHERE LOWER(name) = LOWER(REVERSE(name));\n",
      "Error: no such function: REVERSE\n",
      "Enter your SQL query (or type \"exit\" to quit): For authors born on a Friday, retrieve the books they wrote which have titles longer than their name.\n",
      "Error: near \"For\": syntax error\n",
      "Enter your SQL query (or type \"exit\" to quit): SELECT a.name, b.title FROM authors a JOIN books b ON a.author_id = b.author_id WHERE STRFTIME('%w', a.birthdate) = '5' AND LENGTH(b.title) > LENGTH(a.name);\n",
      "            name                                         title\n",
      "0   Ashley Nunez                  Pattern piece range already.\n",
      "1   Steven Morse    Interesting general only consider discuss.\n",
      "2   Steven Morse                        Add particularly week.\n",
      "3   Steven Morse               Represent expect director film.\n",
      "4   Ashley Nunez            Wrong see rate real good campaign.\n",
      "5   Ashley Nunez  Scene mouth throw perform involve candidate.\n",
      "6   Steven Morse                              Party film sing.\n",
      "7   Steven Morse                          Show daughter admit.\n",
      "8   Ashley Nunez                      Such black enough value.\n",
      "9   Ashley Nunez               Occur bill ok fall become rate.\n",
      "10  Steven Morse         Continue father set million hard ago.\n",
      "11  Ashley Nunez                           Election cup score.\n",
      "12  Ashley Nunez         Vote whether spring far sign company.\n",
      "13  Ashley Nunez  Operation close single brother win consider.\n",
      "14  Steven Morse       Someone again training good decade lay.\n",
      "Enter your SQL query (or type \"exit\" to quit): exit\n"
     ]
    }
   ],
   "source": [
    "def main():\n",
    "    conn, cursor = create_challenge_database()\n",
    "\n",
    "    with open('queries.txt', 'a') as file:\n",
    "        while True:\n",
    "            query = input('Enter your SQL query (or type \"exit\" to quit): ')\n",
    "            if query.lower() == 'exit':\n",
    "                break\n",
    "\n",
    "            file.write(query + '\\n')\n",
    "\n",
    "            result = execute_query(conn, cursor, query)\n",
    "            print(result)\n",
    "\n",
    "    conn.close()\n",
    "\n",
    "if __name__ == \"__main__\":\n",
    "    main()"
   ]
  },
  {
   "cell_type": "markdown",
   "id": "09b22e01",
   "metadata": {},
   "source": [
    "##### answer: SELECT a.name, b.title FROM authors a JOIN books b ON a.author_id = b.author_id WHERE STRFTIME('%w', a.birthdate) = '5' AND LENGTH(b.title) > LENGTH(a.name);"
   ]
  },
  {
   "cell_type": "markdown",
   "id": "07369749",
   "metadata": {},
   "source": [
    "#### question 87: Find out which book has the longest streak of the same character. For instance, \"aaabbbbcc\" has a streak of 4 b's."
   ]
  },
  {
   "cell_type": "code",
   "execution_count": 64,
   "id": "b32118a6",
   "metadata": {},
   "outputs": [
    {
     "name": "stdout",
     "output_type": "stream",
     "text": [
      "Enter your SQL query (or type \"exit\" to quit): WITH Streaks AS (     SELECT book_id,            title,            SUBSTR(title, rn, 1) AS char,            CASE WHEN SUBSTR(title, rn, 1) = SUBSTR(title, rn+1, 1) THEN 1 ELSE 0 END +             CASE WHEN SUBSTR(title, rn+1, 1) = SUBSTR(title, rn+2, 1) THEN 1 ELSE 0 END +             -- Continue this pattern for the expected maximum streak length            0 AS streak_count     FROM books, (SELECT row_number() OVER () AS rn FROM books) nums     WHERE rn <= LENGTH(title) - 1 )  SELECT book_id, title, MAX(streak_count) FROM Streaks GROUP BY book_id, title ORDER BY streak_count DESC LIMIT 1;\n",
      "Error: incomplete input\n",
      "Enter your SQL query (or type \"exit\" to quit):  WITH Streaks AS (     SELECT book_id,            title,            SUBSTR(title, rn, 1) AS char,            CASE WHEN SUBSTR(title, rn, 1) = SUBSTR(title, rn+1, 1) THEN 1 ELSE 0 END +             CASE WHEN SUBSTR(title, rn+1, 1) = SUBSTR(title, rn+2, 1) THEN 1 ELSE 0 END +             0 AS streak_count     FROM books, (SELECT row_number() OVER () AS rn FROM books) nums     WHERE rn <= LENGTH(title) - 1 )  SELECT book_id, title, MAX(streak_count) FROM Streaks GROUP BY book_id, title ORDER BY streak_count DESC LIMIT 1;\n",
      "   book_id                         title  MAX(streak_count)\n",
      "0        1  Management recently success.                  1\n",
      "Enter your SQL query (or type \"exit\" to quit): exit\n"
     ]
    }
   ],
   "source": [
    "def main():\n",
    "    conn, cursor = create_challenge_database()\n",
    "\n",
    "    with open('queries.txt', 'a') as file:\n",
    "        while True:\n",
    "            query = input('Enter your SQL query (or type \"exit\" to quit): ')\n",
    "            if query.lower() == 'exit':\n",
    "                break\n",
    "\n",
    "            file.write(query + '\\n')\n",
    "\n",
    "            result = execute_query(conn, cursor, query)\n",
    "            print(result)\n",
    "\n",
    "    conn.close()\n",
    "\n",
    "if __name__ == \"__main__\":\n",
    "    main()"
   ]
  },
  {
   "cell_type": "markdown",
   "id": "412b8c6d",
   "metadata": {},
   "source": [
    "##### answer: WITH Streaks AS (     SELECT book_id,            title,            SUBSTR(title, rn, 1) AS char,            CASE WHEN SUBSTR(title, rn, 1) = SUBSTR(title, rn+1, 1) THEN 1 ELSE 0 END +             CASE WHEN SUBSTR(title, rn+1, 1) = SUBSTR(title, rn+2, 1) THEN 1 ELSE 0 END +             0 AS streak_count     FROM books, (SELECT row_number() OVER () AS rn FROM books) nums     WHERE rn <= LENGTH(title) - 1 )  SELECT book_id, title, MAX(streak_count) FROM Streaks GROUP BY book_id, title ORDER BY streak_count DESC LIMIT 1;"
   ]
  },
  {
   "cell_type": "markdown",
   "id": "2c4db62f",
   "metadata": {},
   "source": [
    "#### question 88: Find authors whose names have the same amount of vowels and consonants as the average vowels and consonants of all authors' names."
   ]
  },
  {
   "cell_type": "code",
   "execution_count": 65,
   "id": "91bdf317",
   "metadata": {},
   "outputs": [
    {
     "name": "stdout",
     "output_type": "stream",
     "text": [
      "Enter your SQL query (or type \"exit\" to quit): WITH AuthorVowelConsonant AS (     SELECT name,            LENGTH(name) - LENGTH(REPLACE(name, 'A', '')) - LENGTH(REPLACE(name, 'E', '')) - LENGTH(REPLACE(name, 'I', '')) - LENGTH(REPLACE(name, 'O', '')) - LENGTH(REPLACE(name, 'U', '')) as vowel_count,            LENGTH(name) - LENGTH(REPLACE(name, 'A', '')) - LENGTH(REPLACE(name, 'E', '')) - LENGTH(REPLACE(name, 'I', '')) - LENGTH(REPLACE(name, 'O', '')) - LENGTH(REPLACE(name, 'U', '')) as consonant_count     FROM authors ), AVGAvg AS (     SELECT AVG(vowel_count) as avg_vowels, AVG(consonant_count) as avg_consonants FROM AuthorVowelConsonant ) SELECT name FROM AuthorVowelConsonant, AVGAvg WHERE vowel_count = avg_vowels AND consonant_count = avg_consonants;\n",
      "Empty DataFrame\n",
      "Columns: [name]\n",
      "Index: []\n",
      "Enter your SQL query (or type \"exit\" to quit): WITH AuthorVowelConsonant AS (     SELECT name,            LENGTH(name) - LENGTH(REPLACE(name, 'A', '')) - LENGTH(REPLACE(name, 'E', '')) - LENGTH(REPLACE(name, 'I', '')) - LENGTH(REPLACE(name, 'O', '')) - LENGTH(REPLACE(name, 'U', '')) as vowel_count,            LENGTH(name) - LENGTH(REPLACE(name, 'A', '')) - LENGTH(REPLACE(name, 'E', '')) - LENGTH(REPLACE(name, 'I', '')) - LENGTH(REPLACE(name, 'O', '')) - LENGTH(REPLACE(name, 'U', '')) as consonant_count     FROM authors ), AVGAvg AS (     SELECT AVG(vowel_count) as avg_vowels, AVG(consonant_count) as avg_consonants FROM AuthorVowelConsonant ) SELECT name FROM AuthorVowelConsonant, AVGAvg WHERE vowel_count = avg_vowels AND consonant_count = avg_consonants;\n",
      "Empty DataFrame\n",
      "Columns: [name]\n",
      "Index: []\n",
      "Enter your SQL query (or type \"exit\" to quit): exit\n"
     ]
    }
   ],
   "source": [
    "def main():\n",
    "    conn, cursor = create_challenge_database()\n",
    "\n",
    "    with open('queries.txt', 'a') as file:\n",
    "        while True:\n",
    "            query = input('Enter your SQL query (or type \"exit\" to quit): ')\n",
    "            if query.lower() == 'exit':\n",
    "                break\n",
    "\n",
    "            file.write(query + '\\n')\n",
    "\n",
    "            result = execute_query(conn, cursor, query)\n",
    "            print(result)\n",
    "\n",
    "    conn.close()\n",
    "\n",
    "if __name__ == \"__main__\":\n",
    "    main()"
   ]
  },
  {
   "cell_type": "markdown",
   "id": "ba60dd2e",
   "metadata": {},
   "source": [
    "##### answer: WITH AuthorVowelConsonant AS (     SELECT name,            LENGTH(name) - LENGTH(REPLACE(name, 'A', '')) - LENGTH(REPLACE(name, 'E', '')) - LENGTH(REPLACE(name, 'I', '')) - LENGTH(REPLACE(name, 'O', '')) - LENGTH(REPLACE(name, 'U', '')) as vowel_count,            LENGTH(name) - LENGTH(REPLACE(name, 'A', '')) - LENGTH(REPLACE(name, 'E', '')) - LENGTH(REPLACE(name, 'I', '')) - LENGTH(REPLACE(name, 'O', '')) - LENGTH(REPLACE(name, 'U', '')) as consonant_count     FROM authors ), AVGAvg AS (     SELECT AVG(vowel_count) as avg_vowels, AVG(consonant_count) as avg_consonants FROM AuthorVowelConsonant ) SELECT name FROM AuthorVowelConsonant, AVGAvg WHERE vowel_count = avg_vowels AND consonant_count = avg_consonants;"
   ]
  },
  {
   "cell_type": "markdown",
   "id": "4743d521",
   "metadata": {},
   "source": [
    "#### question 89: Identify books whose title's first half has more vowels than its second half."
   ]
  },
  {
   "cell_type": "code",
   "execution_count": 66,
   "id": "ccb6b89d",
   "metadata": {},
   "outputs": [
    {
     "name": "stdout",
     "output_type": "stream",
     "text": [
      "Enter your SQL query (or type \"exit\" to quit): SELECT title  FROM books WHERE      LENGTH(SUBSTR(title, 1, LENGTH(title)/2)) - LENGTH(REPLACE(SUBSTR(title, 1, LENGTH(title)/2), 'A', '')) - LENGTH(REPLACE(SUBSTR(title, 1, LENGTH(title)/2), 'E', '')) - LENGTH(REPLACE(SUBSTR(title, 1, LENGTH(title)/2), 'I', '')) - LENGTH(REPLACE(SUBSTR(title, 1, LENGTH(title)/2), 'O', '')) - LENGTH(REPLACE(SUBSTR(title, 1, LENGTH(title)/2), 'U', ''))     >     LENGTH(SUBSTR(title, LENGTH(title)/2 + 1)) - LENGTH(REPLACE(SUBSTR(title, LENGTH(title)/2 + 1), 'A', '')) - LENGTH(REPLACE(SUBSTR(title, LENGTH(title)/2 + 1), 'E', '')) - LENGTH(REPLACE(SUBSTR(title, LENGTH(title)/2 + 1), 'I', '')) - LENGTH(REPLACE(SUBSTR(title, LENGTH(title)/2 + 1), 'O', '')) - LENGTH(REPLACE(SUBSTR(title, LENGTH(title)/2 + 1), 'U', '')) ;\n",
      "                                                title\n",
      "0                 Before better boy mother pull tree.\n",
      "1                     Church some never range design.\n",
      "2                           Skin must attention loss.\n",
      "3                         Physical star his analysis.\n",
      "4                           Could every six business.\n",
      "5                         Star matter safe sometimes.\n",
      "6                     Understand community establish.\n",
      "7                       Majority provide system into.\n",
      "8                   Blood include worker ask purpose.\n",
      "9                             Pattern loss once live.\n",
      "10         Author education theory decade collection.\n",
      "11        Into feeling else free management behavior.\n",
      "12                    Eight end family hundred again.\n",
      "13                             Authority not because.\n",
      "14                  Perhaps today deal central these.\n",
      "15                              Effect culture would.\n",
      "16                Employee test factor second garden.\n",
      "17                                 Until leader foot.\n",
      "18            And information involve treat gun then.\n",
      "19          Bag heavy investment quite pressure task.\n",
      "20          Rise open call small help finally happen.\n",
      "21                             Or teach make finally.\n",
      "22                              Task where statement.\n",
      "23  Administration result group wear television mi...\n",
      "24                Laugh past piece write red western.\n",
      "25                Grow expect positive player middle.\n",
      "26                  Against study century after sing.\n",
      "27              Care fast investment set plant seven.\n",
      "28                                    Next next west.\n",
      "Enter your SQL query (or type \"exit\" to quit): exit\n"
     ]
    }
   ],
   "source": [
    "def main():\n",
    "    conn, cursor = create_challenge_database()\n",
    "\n",
    "    with open('queries.txt', 'a') as file:\n",
    "        while True:\n",
    "            query = input('Enter your SQL query (or type \"exit\" to quit): ')\n",
    "            if query.lower() == 'exit':\n",
    "                break\n",
    "\n",
    "            file.write(query + '\\n')\n",
    "\n",
    "            result = execute_query(conn, cursor, query)\n",
    "            print(result)\n",
    "\n",
    "    conn.close()\n",
    "\n",
    "if __name__ == \"__main__\":\n",
    "    main()"
   ]
  },
  {
   "cell_type": "markdown",
   "id": "935a60c1",
   "metadata": {},
   "source": [
    "##### answer: SELECT title  FROM books WHERE      LENGTH(SUBSTR(title, 1, LENGTH(title)/2)) - LENGTH(REPLACE(SUBSTR(title, 1, LENGTH(title)/2), 'A', '')) - LENGTH(REPLACE(SUBSTR(title, 1, LENGTH(title)/2), 'E', '')) - LENGTH(REPLACE(SUBSTR(title, 1, LENGTH(title)/2), 'I', '')) - LENGTH(REPLACE(SUBSTR(title, 1, LENGTH(title)/2), 'O', '')) - LENGTH(REPLACE(SUBSTR(title, 1, LENGTH(title)/2), 'U', ''))     >     LENGTH(SUBSTR(title, LENGTH(title)/2 + 1)) - LENGTH(REPLACE(SUBSTR(title, LENGTH(title)/2 + 1), 'A', '')) - LENGTH(REPLACE(SUBSTR(title, LENGTH(title)/2 + 1), 'E', '')) - LENGTH(REPLACE(SUBSTR(title, LENGTH(title)/2 + 1), 'I', '')) - LENGTH(REPLACE(SUBSTR(title, LENGTH(title)/2 + 1), 'O', '')) - LENGTH(REPLACE(SUBSTR(title, LENGTH(title)/2 + 1), 'U', '')) ;"
   ]
  },
  {
   "cell_type": "markdown",
   "id": "6bd26fd1",
   "metadata": {},
   "source": [
    "#### question 90: Find authors who have written more books in January than in any other month."
   ]
  },
  {
   "cell_type": "code",
   "execution_count": 67,
   "id": "81c52e79",
   "metadata": {},
   "outputs": [
    {
     "name": "stdout",
     "output_type": "stream",
     "text": [
      "Enter your SQL query (or type \"exit\" to quit): WITH JanuaryBooks AS (     SELECT author_id, COUNT(*) as jan_books     FROM books     WHERE STRFTIME('%m', publication_date) = '01'     GROUP BY author_id ), MaxMonthBooks AS (     SELECT author_id, MAX(book_count) as max_books     FROM (         SELECT author_id, STRFTIME('%m', publication_date) as month, COUNT(*) as book_count         FROM books         GROUP BY author_id, month     )     GROUP BY author_id ) SELECT a.name FROM authors a JOIN JanuaryBooks jb ON a.author_id = jb.author_id JOIN MaxMonthBooks mmb ON a.author_id = mmb.author_id WHERE jb.jan_books > mmb.max_books;\n",
      "Empty DataFrame\n",
      "Columns: [name]\n",
      "Index: []\n",
      "Enter your SQL query (or type \"exit\" to quit): exit\n"
     ]
    }
   ],
   "source": [
    "def main():\n",
    "    conn, cursor = create_challenge_database()\n",
    "\n",
    "    with open('queries.txt', 'a') as file:\n",
    "        while True:\n",
    "            query = input('Enter your SQL query (or type \"exit\" to quit): ')\n",
    "            if query.lower() == 'exit':\n",
    "                break\n",
    "\n",
    "            file.write(query + '\\n')\n",
    "\n",
    "            result = execute_query(conn, cursor, query)\n",
    "            print(result)\n",
    "\n",
    "    conn.close()\n",
    "\n",
    "if __name__ == \"__main__\":\n",
    "    main()"
   ]
  },
  {
   "cell_type": "markdown",
   "id": "0a240a1e",
   "metadata": {},
   "source": [
    "##### answer: WITH JanuaryBooks AS (     SELECT author_id, COUNT(*) as jan_books     FROM books     WHERE STRFTIME('%m', publication_date) = '01'     GROUP BY author_id ), MaxMonthBooks AS (     SELECT author_id, MAX(book_count) as max_books     FROM (         SELECT author_id, STRFTIME('%m', publication_date) as month, COUNT(*) as book_count         FROM books         GROUP BY author_id, month     )     GROUP BY author_id ) SELECT a.name FROM authors a JOIN JanuaryBooks jb ON a.author_id = jb.author_id JOIN MaxMonthBooks mmb ON a.author_id = mmb.author_id WHERE jb.jan_books > mmb.max_books;"
   ]
  },
  {
   "cell_type": "markdown",
   "id": "0f208422",
   "metadata": {},
   "source": [
    "#### question 91: Find the month in which the highest number of unique authors released books, but only consider authors who have written more than 5 books in total"
   ]
  },
  {
   "cell_type": "code",
   "execution_count": 68,
   "id": "344fa914",
   "metadata": {},
   "outputs": [
    {
     "name": "stdout",
     "output_type": "stream",
     "text": [
      "Enter your SQL query (or type \"exit\" to quit): WITH AuthorBookCount AS (     SELECT author_id, COUNT(*) as book_count     FROM books     GROUP BY author_id     HAVING book_count > 5 ), MonthReleases AS (     SELECT STRFTIME('%m', publication_date) as month, COUNT(DISTINCT b.author_id) as author_count     FROM books b     JOIN AuthorBookCount abc ON b.author_id = abc.author_id     GROUP BY month ) SELECT month, MAX(author_count) FROM MonthReleases;\n",
      "  month  MAX(author_count)\n",
      "0    02                  3\n",
      "Enter your SQL query (or type \"exit\" to quit): exit\n"
     ]
    }
   ],
   "source": [
    "def main():\n",
    "    conn, cursor = create_challenge_database()\n",
    "\n",
    "    with open('queries.txt', 'a') as file:\n",
    "        while True:\n",
    "            query = input('Enter your SQL query (or type \"exit\" to quit): ')\n",
    "            if query.lower() == 'exit':\n",
    "                break\n",
    "\n",
    "            file.write(query + '\\n')\n",
    "\n",
    "            result = execute_query(conn, cursor, query)\n",
    "            print(result)\n",
    "\n",
    "    conn.close()\n",
    "\n",
    "if __name__ == \"__main__\":\n",
    "    main()"
   ]
  },
  {
   "cell_type": "markdown",
   "id": "ceaa0b16",
   "metadata": {},
   "source": [
    "##### answer: WITH AuthorBookCount AS (     SELECT author_id, COUNT(*) as book_count     FROM books     GROUP BY author_id     HAVING book_count > 5 ), MonthReleases AS (     SELECT STRFTIME('%m', publication_date) as month, COUNT(DISTINCT b.author_id) as author_count     FROM books b     JOIN AuthorBookCount abc ON b.author_id = abc.author_id     GROUP BY month ) SELECT month, MAX(author_count) FROM MonthReleases;"
   ]
  },
  {
   "cell_type": "markdown",
   "id": "2a8c28bc",
   "metadata": {},
   "source": [
    "#### question 92: Identify the authors whose names contain every vowel at least once."
   ]
  },
  {
   "cell_type": "code",
   "execution_count": 69,
   "id": "895e8e5e",
   "metadata": {},
   "outputs": [
    {
     "name": "stdout",
     "output_type": "stream",
     "text": [
      "Enter your SQL query (or type \"exit\" to quit): SELECT name  FROM authors WHERE      INSTR(UPPER(name), 'A') > 0 AND      INSTR(UPPER(name), 'E') > 0 AND      INSTR(UPPER(name), 'I') > 0 AND      INSTR(UPPER(name), 'O') > 0 AND      INSTR(UPPER(name), 'U') > 0;\n",
      "Empty DataFrame\n",
      "Columns: [name]\n",
      "Index: []\n",
      "Enter your SQL query (or type \"exit\" to quit): exit\n"
     ]
    }
   ],
   "source": [
    "def main():\n",
    "    conn, cursor = create_challenge_database()\n",
    "\n",
    "    with open('queries.txt', 'a') as file:\n",
    "        while True:\n",
    "            query = input('Enter your SQL query (or type \"exit\" to quit): ')\n",
    "            if query.lower() == 'exit':\n",
    "                break\n",
    "\n",
    "            file.write(query + '\\n')\n",
    "\n",
    "            result = execute_query(conn, cursor, query)\n",
    "            print(result)\n",
    "\n",
    "    conn.close()\n",
    "\n",
    "if __name__ == \"__main__\":\n",
    "    main()"
   ]
  },
  {
   "cell_type": "markdown",
   "id": "1ccdc073",
   "metadata": {},
   "source": [
    "##### answer: SELECT name  FROM authors WHERE      INSTR(UPPER(name), 'A') > 0 AND      INSTR(UPPER(name), 'E') > 0 AND      INSTR(UPPER(name), 'I') > 0 AND      INSTR(UPPER(name), 'O') > 0 AND      INSTR(UPPER(name), 'U') > 0;"
   ]
  },
  {
   "cell_type": "markdown",
   "id": "900cda21",
   "metadata": {},
   "source": [
    "#### question 93: Find books whose title's length is an odd number, and the middle character is a vowel. Furthermore, this book should be published on an even-numbered day."
   ]
  },
  {
   "cell_type": "code",
   "execution_count": 70,
   "id": "886796fa",
   "metadata": {},
   "outputs": [
    {
     "name": "stdout",
     "output_type": "stream",
     "text": [
      "Enter your SQL query (or type \"exit\" to quit): SELECT title  FROM books WHERE      LENGTH(title) % 2 = 1     AND     SUBSTR(title, (LENGTH(title)+1)/2, 1) IN ('a', 'e', 'i', 'o', 'u', 'A', 'E', 'I', 'O', 'U')     AND     CAST(STRFTIME('%d', publication_date) AS INTEGER) % 2 = 0;\n",
      "                                       title\n",
      "0      Arm music think start voice consumer.\n",
      "1  Fire teacher under would doctor together.\n",
      "2                          Listen mean upon.\n",
      "3          None certainly certain open wear.\n",
      "4                            Speak not over.\n",
      "5                        Majority its visit.\n",
      "Enter your SQL query (or type \"exit\" to quit): exit\n"
     ]
    }
   ],
   "source": [
    "def main():\n",
    "    conn, cursor = create_challenge_database()\n",
    "\n",
    "    with open('queries.txt', 'a') as file:\n",
    "        while True:\n",
    "            query = input('Enter your SQL query (or type \"exit\" to quit): ')\n",
    "            if query.lower() == 'exit':\n",
    "                break\n",
    "\n",
    "            file.write(query + '\\n')\n",
    "\n",
    "            result = execute_query(conn, cursor, query)\n",
    "            print(result)\n",
    "\n",
    "    conn.close()\n",
    "\n",
    "if __name__ == \"__main__\":\n",
    "    main()"
   ]
  },
  {
   "cell_type": "markdown",
   "id": "b1011a14",
   "metadata": {},
   "source": [
    "##### answer: SELECT title  FROM books WHERE      LENGTH(title) % 2 = 1     AND     SUBSTR(title, (LENGTH(title)+1)/2, 1) IN ('a', 'e', 'i', 'o', 'u', 'A', 'E', 'I', 'O', 'U')     AND     CAST(STRFTIME('%d', publication_date) AS INTEGER) % 2 = 0;"
   ]
  },
  {
   "cell_type": "markdown",
   "id": "d035b77e",
   "metadata": {},
   "source": [
    "#### question 94: Find the name of the author who has the longest streak of publishing a book every consecutive month. Return the name and the length of the streak."
   ]
  },
  {
   "cell_type": "code",
   "execution_count": 71,
   "id": "c501ae97",
   "metadata": {},
   "outputs": [
    {
     "name": "stdout",
     "output_type": "stream",
     "text": [
      "Enter your SQL query (or type \"exit\" to quit): WITH Sequences AS (     SELECT author_id, publication_date,            STRFTIME('%Y%m', publication_date) - LAG(STRFTIME('%Y%m', publication_date), 1, STRFTIME('%Y%m', publication_date)) OVER(PARTITION BY author_id ORDER BY publication_date) AS diff     FROM books )  , Streaks AS (     SELECT author_id, SUM(CASE WHEN diff = 1 THEN 1 ELSE -1 END) AS streak_length     FROM Sequences     GROUP BY author_id, CASE WHEN diff = 1 THEN 1 ELSE 0 END )  SELECT a.name, MAX(s.streak_length)  FROM authors a JOIN Streaks s ON a.author_id = s.author_id;\n",
      "            name  MAX(s.streak_length)\n",
      "0  Brenda Mosley                     1\n",
      "Enter your SQL query (or type \"exit\" to quit): exit\n"
     ]
    }
   ],
   "source": [
    "def main():\n",
    "    conn, cursor = create_challenge_database()\n",
    "\n",
    "    with open('queries.txt', 'a') as file:\n",
    "        while True:\n",
    "            query = input('Enter your SQL query (or type \"exit\" to quit): ')\n",
    "            if query.lower() == 'exit':\n",
    "                break\n",
    "\n",
    "            file.write(query + '\\n')\n",
    "\n",
    "            result = execute_query(conn, cursor, query)\n",
    "            print(result)\n",
    "\n",
    "    conn.close()\n",
    "\n",
    "if __name__ == \"__main__\":\n",
    "    main()"
   ]
  },
  {
   "cell_type": "markdown",
   "id": "a8b92d06",
   "metadata": {},
   "source": [
    "##### answer: WITH Sequences AS (     SELECT author_id, publication_date,            STRFTIME('%Y%m', publication_date) - LAG(STRFTIME('%Y%m', publication_date), 1, STRFTIME('%Y%m', publication_date)) OVER(PARTITION BY author_id ORDER BY publication_date) AS diff     FROM books )  , Streaks AS (     SELECT author_id, SUM(CASE WHEN diff = 1 THEN 1 ELSE -1 END) AS streak_length     FROM Sequences     GROUP BY author_id, CASE WHEN diff = 1 THEN 1 ELSE 0 END )  SELECT a.name, MAX(s.streak_length)  FROM authors a JOIN Streaks s ON a.author_id = s.author_id;"
   ]
  },
  {
   "cell_type": "markdown",
   "id": "f2da5ef5",
   "metadata": {},
   "source": [
    "#### question 95: Find authors whose name can be rearranged to form the title of one of their books, disregarding spaces and case."
   ]
  },
  {
   "cell_type": "code",
   "execution_count": 72,
   "id": "76cd92b8",
   "metadata": {},
   "outputs": [
    {
     "name": "stdout",
     "output_type": "stream",
     "text": [
      "Enter your SQL query (or type \"exit\" to quit): SELECT DISTINCT a.name, b.title FROM authors a JOIN books b ON a.author_id = b.author_id WHERE LENGTH(REPLACE(LOWER(a.name), ' ', '')) = LENGTH(b.title) AND LENGTH(REPLACE(REPLACE(LOWER(a.name), ' ', ''), LOWER(b.title), '')) = 0;\n",
      "Empty DataFrame\n",
      "Columns: [name, title]\n",
      "Index: []\n",
      "Enter your SQL query (or type \"exit\" to quit): exit\n"
     ]
    }
   ],
   "source": [
    "def main():\n",
    "    conn, cursor = create_challenge_database()\n",
    "\n",
    "    with open('queries.txt', 'a') as file:\n",
    "        while True:\n",
    "            query = input('Enter your SQL query (or type \"exit\" to quit): ')\n",
    "            if query.lower() == 'exit':\n",
    "                break\n",
    "\n",
    "            file.write(query + '\\n')\n",
    "\n",
    "            result = execute_query(conn, cursor, query)\n",
    "            print(result)\n",
    "\n",
    "    conn.close()\n",
    "\n",
    "if __name__ == \"__main__\":\n",
    "    main()"
   ]
  },
  {
   "cell_type": "markdown",
   "id": "4c6b7d99",
   "metadata": {},
   "source": [
    "##### answer: SELECT DISTINCT a.name, b.title FROM authors a JOIN books b ON a.author_id = b.author_id WHERE LENGTH(REPLACE(LOWER(a.name), ' ', '')) = LENGTH(b.title) AND LENGTH(REPLACE(REPLACE(LOWER(a.name), ' ', ''), LOWER(b.title), '')) = 0;"
   ]
  },
  {
   "cell_type": "markdown",
   "id": "01690eba",
   "metadata": {},
   "source": [
    "#### question 96: Identify the month and year with the most book releases by authors whose names have more vowels than consonants."
   ]
  },
  {
   "cell_type": "code",
   "execution_count": 73,
   "id": "70585cdf",
   "metadata": {},
   "outputs": [
    {
     "name": "stdout",
     "output_type": "stream",
     "text": [
      "Enter your SQL query (or type \"exit\" to quit): WITH VowelHeavyAuthors AS (     SELECT author_id     FROM authors     WHERE          LENGTH(name) - LENGTH(REPLACE(LOWER(name), 'a', '')) + LENGTH(REPLACE(LOWER(name), 'e', '')) + LENGTH(REPLACE(LOWER(name), 'i', '')) + LENGTH(REPLACE(LOWER(name), 'o', '')) + LENGTH(REPLACE(LOWER(name), 'u', ''))         >         LENGTH(name) / 2 )  SELECT STRFTIME('%Y-%m', b.publication_date) as MonthYear, COUNT(b.book_id) as BookCount FROM books b JOIN VowelHeavyAuthors vha ON b.author_id = vha.author_id GROUP BY MonthYear ORDER BY BookCount DESC LIMIT 1;\n",
      "  MonthYear  BookCount\n",
      "0   2014-07          3\n",
      "Enter your SQL query (or type \"exit\" to quit): WITH VowelHeavyAuthors AS (     SELECT author_id     FROM authors     WHERE          LENGTH(name) - LENGTH(REPLACE(LOWER(name), 'a', '')) + LENGTH(REPLACE(LOWER(name), 'e', '')) + LENGTH(REPLACE(LOWER(name), 'i', '')) + LENGTH(REPLACE(LOWER(name), 'o', '')) + LENGTH(REPLACE(LOWER(name), 'u', ''))         >         LENGTH(name) / 2 )  SELECT STRFTIME('%Y-%m', b.publication_date) as MonthYear, COUNT(b.book_id) as BookCount FROM books b JOIN VowelHeavyAuthors vha ON b.author_id = vha.author_id GROUP BY MonthYear ORDER BY BookCount DESC LIMIT 1;\n",
      "  MonthYear  BookCount\n",
      "0   2014-07          3\n",
      "Enter your SQL query (or type \"exit\" to quit): exit\n"
     ]
    }
   ],
   "source": [
    "def main():\n",
    "    conn, cursor = create_challenge_database()\n",
    "\n",
    "    with open('queries.txt', 'a') as file:\n",
    "        while True:\n",
    "            query = input('Enter your SQL query (or type \"exit\" to quit): ')\n",
    "            if query.lower() == 'exit':\n",
    "                break\n",
    "\n",
    "            file.write(query + '\\n')\n",
    "\n",
    "            result = execute_query(conn, cursor, query)\n",
    "            print(result)\n",
    "\n",
    "    conn.close()\n",
    "\n",
    "if __name__ == \"__main__\":\n",
    "    main()"
   ]
  },
  {
   "cell_type": "markdown",
   "id": "f33ed4d0",
   "metadata": {},
   "source": [
    "##### answer: WITH VowelHeavyAuthors AS (     SELECT author_id     FROM authors     WHERE          LENGTH(name) - LENGTH(REPLACE(LOWER(name), 'a', '')) + LENGTH(REPLACE(LOWER(name), 'e', '')) + LENGTH(REPLACE(LOWER(name), 'i', '')) + LENGTH(REPLACE(LOWER(name), 'o', '')) + LENGTH(REPLACE(LOWER(name), 'u', ''))         >         LENGTH(name) / 2 )  SELECT STRFTIME('%Y-%m', b.publication_date) as MonthYear, COUNT(b.book_id) as BookCount FROM books b JOIN VowelHeavyAuthors vha ON b.author_id = vha.author_id GROUP BY MonthYear ORDER BY BookCount DESC LIMIT 1;"
   ]
  },
  {
   "cell_type": "markdown",
   "id": "8a2212b5",
   "metadata": {},
   "source": [
    "#### question 97: Determine authors who have written at least one book every year for three consecutive years, starting from the year they published their first book."
   ]
  },
  {
   "cell_type": "code",
   "execution_count": 74,
   "id": "90c2ae7e",
   "metadata": {},
   "outputs": [
    {
     "name": "stdout",
     "output_type": "stream",
     "text": [
      "Enter your SQL query (or type \"exit\" to quit): WITH AuthorYearly AS (     SELECT author_id, STRFTIME('%Y', publication_date) as year     FROM books     GROUP BY author_id, year )  , ConsecutiveYears AS (     SELECT author_id, year,            CAST(year AS INTEGER) - LAG(CAST(year AS INTEGER), 1) OVER(PARTITION BY author_id ORDER BY year) AS diff1,            CAST(year AS INTEGER) - LAG(CAST(year AS INTEGER), 2) OVER(PARTITION BY author_id ORDER BY year) AS diff2     FROM AuthorYearly )  SELECT a.name FROM authors a JOIN ConsecutiveYears cy ON a.author_id = cy.author_id WHERE diff1 = 1 AND diff2 = 2;\n",
      "             name\n",
      "0       Dawn Boyd\n",
      "1  Richard Castro\n",
      "2  Richard Castro\n",
      "3    Brenda Baker\n",
      "4    Brenda Baker\n",
      "5    Richard Todd\n",
      "6    Richard Todd\n",
      "Enter your SQL query (or type \"exit\" to quit): exit\n"
     ]
    }
   ],
   "source": [
    "def main():\n",
    "    conn, cursor = create_challenge_database()\n",
    "\n",
    "    with open('queries.txt', 'a') as file:\n",
    "        while True:\n",
    "            query = input('Enter your SQL query (or type \"exit\" to quit): ')\n",
    "            if query.lower() == 'exit':\n",
    "                break\n",
    "\n",
    "            file.write(query + '\\n')\n",
    "\n",
    "            result = execute_query(conn, cursor, query)\n",
    "            print(result)\n",
    "\n",
    "    conn.close()\n",
    "\n",
    "if __name__ == \"__main__\":\n",
    "    main()"
   ]
  },
  {
   "cell_type": "markdown",
   "id": "f71cd768",
   "metadata": {},
   "source": [
    "##### answer: WITH AuthorYearly AS (     SELECT author_id, STRFTIME('%Y', publication_date) as year     FROM books     GROUP BY author_id, year )  , ConsecutiveYears AS (     SELECT author_id, year,            CAST(year AS INTEGER) - LAG(CAST(year AS INTEGER), 1) OVER(PARTITION BY author_id ORDER BY year) AS diff1,            CAST(year AS INTEGER) - LAG(CAST(year AS INTEGER), 2) OVER(PARTITION BY author_id ORDER BY year) AS diff2     FROM AuthorYearly )  SELECT a.name FROM authors a JOIN ConsecutiveYears cy ON a.author_id = cy.author_id WHERE diff1 = 1 AND diff2 = 2;"
   ]
  },
  {
   "cell_type": "markdown",
   "id": "164a33b7",
   "metadata": {},
   "source": [
    "#### question 98: Find the title of books that contain the same sequence of three characters as their corresponding author's name, at least twice."
   ]
  },
  {
   "cell_type": "code",
   "execution_count": 76,
   "id": "a6c4c7d8",
   "metadata": {},
   "outputs": [
    {
     "name": "stdout",
     "output_type": "stream",
     "text": [
      "Enter your SQL query (or type \"exit\" to quit): WITH SalesClassification AS (     SELECT          CASE              WHEN INSTR('aeiouAEIOU', SUBSTR(b.title, 1, 1)) > 0 THEN 'Vowel'             ELSE 'Consonant'         END as Classification,         s.amount     FROM books b     JOIN sales s ON b.book_id = s.book_id )  SELECT      (AVG(CASE WHEN Classification = 'Vowel' THEN amount ELSE NULL END) -     AVG(CASE WHEN Classification = 'Consonant' THEN amount ELSE NULL END))     /     AVG(CASE WHEN Classification = 'Consonant' THEN amount ELSE NULL END) * 100 as PercentageDifference FROM SalesClassification;\n",
      "Error: no such table: sales\n",
      "Enter your SQL query (or type \"exit\" to quit): SELECT b.title, a.name FROM books b JOIN authors a ON b.author_id = a.author_id WHERE      LENGTH(b.title) - LENGTH(REPLACE(b.title, SUBSTR(a.name, 1, 3), '')) >= 2;\n",
      "Empty DataFrame\n",
      "Columns: [title, name]\n",
      "Index: []\n",
      "Enter your SQL query (or type \"exit\" to quit): exit\n"
     ]
    }
   ],
   "source": [
    "def main():\n",
    "    conn, cursor = create_challenge_database()\n",
    "\n",
    "    with open('queries.txt', 'a') as file:\n",
    "        while True:\n",
    "            query = input('Enter your SQL query (or type \"exit\" to quit): ')\n",
    "            if query.lower() == 'exit':\n",
    "                break\n",
    "\n",
    "            file.write(query + '\\n')\n",
    "\n",
    "            result = execute_query(conn, cursor, query)\n",
    "            print(result)\n",
    "\n",
    "    conn.close()\n",
    "\n",
    "if __name__ == \"__main__\":\n",
    "    main()"
   ]
  },
  {
   "cell_type": "markdown",
   "id": "3aba5ae1",
   "metadata": {},
   "source": [
    "##### answer: SELECT b.title, a.name FROM books b JOIN authors a ON b.author_id = a.author_id WHERE      LENGTH(b.title) - LENGTH(REPLACE(b.title, SUBSTR(a.name, 1, 3), '')) >= 2;"
   ]
  },
  {
   "cell_type": "markdown",
   "id": "1762eb12",
   "metadata": {},
   "source": [
    "#### question 99: Retrieve authors who have published a book in February of a leap year."
   ]
  },
  {
   "cell_type": "code",
   "execution_count": 78,
   "id": "fe317c31",
   "metadata": {},
   "outputs": [
    {
     "name": "stdout",
     "output_type": "stream",
     "text": [
      "Enter your SQL query (or type \"exit\" to quit): SELECT DISTINCT a.name FROM authors a JOIN books b ON a.author_id = b.author_id WHERE STRFTIME('%m', b.publication_date) = '02'  AND CAST(STRFTIME('%Y', b.publication_date) AS INTEGER) % 4 = 0 AND (CAST(STRFTIME('%Y', b.publication_date) AS INTEGER) % 100 != 0 OR CAST(STRFTIME('%Y', b.publication_date) AS INTEGER) % 400 = 0);\n",
      "Empty DataFrame\n",
      "Columns: [name]\n",
      "Index: []\n",
      "Enter your SQL query (or type \"exit\" to quit): exit\n"
     ]
    }
   ],
   "source": [
    "def main():\n",
    "    conn, cursor = create_challenge_database()\n",
    "\n",
    "    with open('queries.txt', 'a') as file:\n",
    "        while True:\n",
    "            query = input('Enter your SQL query (or type \"exit\" to quit): ')\n",
    "            if query.lower() == 'exit':\n",
    "                break\n",
    "\n",
    "            file.write(query + '\\n')\n",
    "\n",
    "            result = execute_query(conn, cursor, query)\n",
    "            print(result)\n",
    "\n",
    "    conn.close()\n",
    "\n",
    "if __name__ == \"__main__\":\n",
    "    main()"
   ]
  },
  {
   "cell_type": "markdown",
   "id": "b0d80952",
   "metadata": {},
   "source": [
    "##### answer: SELECT DISTINCT a.name FROM authors a JOIN books b ON a.author_id = b.author_id WHERE STRFTIME('%m', b.publication_date) = '02'  AND CAST(STRFTIME('%Y', b.publication_date) AS INTEGER) % 4 = 0 AND (CAST(STRFTIME('%Y', b.publication_date) AS INTEGER) % 100 != 0 OR CAST(STRFTIME('%Y', b.publication_date) AS INTEGER) % 400 = 0);"
   ]
  },
  {
   "cell_type": "markdown",
   "id": "99e2eb4d",
   "metadata": {},
   "source": [
    "#### question 100: Retrieve the list of authors whose average book title length is more than 2 times the length of their name."
   ]
  },
  {
   "cell_type": "code",
   "execution_count": 83,
   "id": "37a006a9",
   "metadata": {},
   "outputs": [
    {
     "name": "stdout",
     "output_type": "stream",
     "text": [
      "Enter your SQL query (or type \"exit\" to quit): WITH AvgTitleLength AS (     SELECT b.author_id, AVG(LENGTH(b.title)) AS avg_length     FROM books b     GROUP BY b.author_id )  SELECT a.name FROM authors a JOIN AvgTitleLength atl ON a.author_id = atl.author_id WHERE atl.avg_length > 2 * LENGTH(a.name);\n",
      "              name\n",
      "0    Theresa Jones\n",
      "1    Derrick Moran\n",
      "2   Carolyn Molina\n",
      "3     Casey Thomas\n",
      "4  Taylor Delacruz\n",
      "5      Jaime Silva\n",
      "6   David Thompson\n",
      "Enter your SQL query (or type \"exit\" to quit): exit\n"
     ]
    }
   ],
   "source": [
    "def main():\n",
    "    conn, cursor = create_challenge_database()\n",
    "\n",
    "    with open('queries.txt', 'a') as file:\n",
    "        while True:\n",
    "            query = input('Enter your SQL query (or type \"exit\" to quit): ')\n",
    "            if query.lower() == 'exit':\n",
    "                break\n",
    "\n",
    "            file.write(query + '\\n')\n",
    "\n",
    "            result = execute_query(conn, cursor, query)\n",
    "            print(result)\n",
    "\n",
    "    conn.close()\n",
    "\n",
    "if __name__ == \"__main__\":\n",
    "    main()"
   ]
  },
  {
   "cell_type": "markdown",
   "id": "fd727438",
   "metadata": {},
   "source": [
    "##### answer: WITH AvgTitleLength AS (     SELECT b.author_id, AVG(LENGTH(b.title)) AS avg_length     FROM books b     GROUP BY b.author_id )  SELECT a.name FROM authors a JOIN AvgTitleLength atl ON a.author_id = atl.author_id WHERE atl.avg_length > 2 * LENGTH(a.name);"
   ]
  }
 ],
 "metadata": {
  "kernelspec": {
   "display_name": "Python 3 (ipykernel)",
   "language": "python",
   "name": "python3"
  },
  "language_info": {
   "codemirror_mode": {
    "name": "ipython",
    "version": 3
   },
   "file_extension": ".py",
   "mimetype": "text/x-python",
   "name": "python",
   "nbconvert_exporter": "python",
   "pygments_lexer": "ipython3",
   "version": "3.9.13"
  }
 },
 "nbformat": 4,
 "nbformat_minor": 5
}
